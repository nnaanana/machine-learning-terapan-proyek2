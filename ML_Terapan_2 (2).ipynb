{
  "nbformat": 4,
  "nbformat_minor": 0,
  "metadata": {
    "colab": {
      "provenance": []
    },
    "kernelspec": {
      "name": "python3",
      "display_name": "Python 3"
    },
    "language_info": {
      "name": "python"
    }
  },
  "cells": [
    {
      "cell_type": "markdown",
      "source": [
        "# Proyek Pertama Machine Learning Terapan - Sistem Rekomendasi\n",
        "- **Nama:** Nabilah Wanara\n",
        "- **Email:** \tmc006d5x211p@student.devacademy.id\n",
        "- **ID Dicoding:** MC006D5X2119"
      ],
      "metadata": {
        "id": "C6Qqsq6Esne4"
      }
    },
    {
      "cell_type": "markdown",
      "source": [
        "# Import Library"
      ],
      "metadata": {
        "id": "XBiVCWn0rEQy"
      }
    },
    {
      "cell_type": "code",
      "execution_count": 3,
      "metadata": {
        "id": "tWMCy8S4rAIh"
      },
      "outputs": [],
      "source": [
        "import numpy as np\n",
        "import pandas as pd\n",
        "import seaborn as sns\n",
        "import matplotlib.pyplot as plt\n",
        "\n",
        "from scipy.sparse import csr_matrix\n",
        "from sklearn.model_selection import train_test_split\n",
        "from sklearn.preprocessing import MultiLabelBinarizer\n",
        "from sklearn.metrics.pairwise import cosine_similarity\n",
        "from sklearn.feature_extraction.text import TfidfVectorizer\n",
        "from sklearn.preprocessing import Normalizer\n",
        "\n",
        "import warnings\n",
        "warnings.filterwarnings('ignore')"
      ]
    },
    {
      "cell_type": "markdown",
      "source": [
        "# Data Loading"
      ],
      "metadata": {
        "id": "p16dJ9PBrEjy"
      }
    },
    {
      "cell_type": "code",
      "source": [
        "# Load dataset\n",
        "from google.colab import drive\n",
        "drive.mount('/content/drive')"
      ],
      "metadata": {
        "colab": {
          "base_uri": "https://localhost:8080/"
        },
        "id": "quVpjJ36woBG",
        "outputId": "d81ae75a-300c-4163-c560-82881113b311"
      },
      "execution_count": 4,
      "outputs": [
        {
          "output_type": "stream",
          "name": "stdout",
          "text": [
            "Mounted at /content/drive\n"
          ]
        }
      ]
    },
    {
      "cell_type": "code",
      "source": [
        "movie = '/content/drive/MyDrive/ML Terapan 2/indonesian_movies.csv'\n",
        "df = pd.read_csv(movie)\n",
        "df"
      ],
      "metadata": {
        "colab": {
          "base_uri": "https://localhost:8080/",
          "height": 423
        },
        "id": "dre4WOEk8mmF",
        "outputId": "68adc186-5c23-40fd-8999-037380245306"
      },
      "execution_count": 5,
      "outputs": [
        {
          "output_type": "execute_result",
          "data": {
            "text/plain": [
              "                         title  year  \\\n",
              "0          #FriendButMarried 2  2020   \n",
              "1                     4 Mantan  2020   \n",
              "2     Aku Tahu Kapan Kamu Mati  2020   \n",
              "3                  Anak Garuda  2020   \n",
              "4                    Dignitate  2020   \n",
              "...                        ...   ...   \n",
              "1267     The Tiger from Tjampa  1953   \n",
              "1268       Enam Djam di Djogja  1951   \n",
              "1269             Darah dan Doa  1950   \n",
              "1270         Resia Boroboedoer  1928   \n",
              "1271        Loetoeng Kasaroeng  1926   \n",
              "\n",
              "                                            description      genre rating  \\\n",
              "0     Ayudia (Mawar De Jongh) is not satisfied enoug...  Biography    13+   \n",
              "1     Sara, Airin, Rachel, and Amara were accidental...   Thriller    17+   \n",
              "2     After apparent death, Siena is able to see sig...     Horror    13+   \n",
              "3     Good Morning Indonesia, a school for poor orph...  Adventure    13+   \n",
              "4     Alfi (Al Ghazali) meets Alana (Caitlin Halderm...      Drama    17+   \n",
              "...                                                 ...        ...    ...   \n",
              "1267  Set in the 1930s, and narrated like a ballad f...      Drama    NaN   \n",
              "1268  Depicting the celebrated recapture of the town...      Drama    NaN   \n",
              "1269  It tells the story of an Indonesian revolution...      Drama    NaN   \n",
              "1270                                                NaN  Adventure    NaN   \n",
              "1271                                                NaN    Fantasy    NaN   \n",
              "\n",
              "      users_rating votes   languages          directors  \\\n",
              "0              6.5   120  Indonesian      Rako Prijanto   \n",
              "1              6.4     8  Indonesian      Hanny Saputra   \n",
              "2              5.4    17  Indonesian  Hadrah Daeng Ratu   \n",
              "3              9.1    27  Indonesian       Faozan Rizal   \n",
              "4              7.6    33  Indonesian       Fajar Nugros   \n",
              "...            ...   ...         ...                ...   \n",
              "1267           6.4    30  Indonesian     D. Djajakusuma   \n",
              "1268           6.3     9  Indonesian       Usmar Ismail   \n",
              "1269           6.6    27  Indonesian       Usmar Ismail   \n",
              "1270           7.0     8  Indonesian                NaN   \n",
              "1271           7.2    11  Indonesian      L. Heuveldorp   \n",
              "\n",
              "                                                 actors  runtime  \n",
              "0     ['Adipati Dolken', 'Mawar Eva de Jongh', 'Vonn...  100 min  \n",
              "1     ['Ranty Maria', 'Jeff Smith', 'Melanie Berentz...   80 min  \n",
              "2     ['Natasha Wilona', 'Ria Ricis', 'Al Ghazali', ...   92 min  \n",
              "3     ['Tissa Biani Azzahra', 'Violla Georgie', 'Aji...  129 min  \n",
              "4     ['Al Ghazali', 'Caitlin Halderman', 'Giorgino ...  109 min  \n",
              "...                                                 ...      ...  \n",
              "1267  ['Wahid Chan', 'Bambang Hermanto', 'R.D. Ismai...   97 min  \n",
              "1268  ['R.D. Ismail', 'Del Juzar', 'Aedy Moward', 'A...  116 min  \n",
              "1269  ['Ella Bergen', 'Faridah', 'R.D. Ismail', 'Del...  150 min  \n",
              "1270  ['Olive Young', nan, nan, nan, nan, nan, nan, ...      NaN  \n",
              "1271  ['Martoana', 'Oemar', nan, nan, nan, nan, nan,...   60 min  \n",
              "\n",
              "[1272 rows x 11 columns]"
            ],
            "text/html": [
              "\n",
              "  <div id=\"df-b1a3a5b6-6d4b-4ddb-a54f-e6c2c38b2878\" class=\"colab-df-container\">\n",
              "    <div>\n",
              "<style scoped>\n",
              "    .dataframe tbody tr th:only-of-type {\n",
              "        vertical-align: middle;\n",
              "    }\n",
              "\n",
              "    .dataframe tbody tr th {\n",
              "        vertical-align: top;\n",
              "    }\n",
              "\n",
              "    .dataframe thead th {\n",
              "        text-align: right;\n",
              "    }\n",
              "</style>\n",
              "<table border=\"1\" class=\"dataframe\">\n",
              "  <thead>\n",
              "    <tr style=\"text-align: right;\">\n",
              "      <th></th>\n",
              "      <th>title</th>\n",
              "      <th>year</th>\n",
              "      <th>description</th>\n",
              "      <th>genre</th>\n",
              "      <th>rating</th>\n",
              "      <th>users_rating</th>\n",
              "      <th>votes</th>\n",
              "      <th>languages</th>\n",
              "      <th>directors</th>\n",
              "      <th>actors</th>\n",
              "      <th>runtime</th>\n",
              "    </tr>\n",
              "  </thead>\n",
              "  <tbody>\n",
              "    <tr>\n",
              "      <th>0</th>\n",
              "      <td>#FriendButMarried 2</td>\n",
              "      <td>2020</td>\n",
              "      <td>Ayudia (Mawar De Jongh) is not satisfied enoug...</td>\n",
              "      <td>Biography</td>\n",
              "      <td>13+</td>\n",
              "      <td>6.5</td>\n",
              "      <td>120</td>\n",
              "      <td>Indonesian</td>\n",
              "      <td>Rako Prijanto</td>\n",
              "      <td>['Adipati Dolken', 'Mawar Eva de Jongh', 'Vonn...</td>\n",
              "      <td>100 min</td>\n",
              "    </tr>\n",
              "    <tr>\n",
              "      <th>1</th>\n",
              "      <td>4 Mantan</td>\n",
              "      <td>2020</td>\n",
              "      <td>Sara, Airin, Rachel, and Amara were accidental...</td>\n",
              "      <td>Thriller</td>\n",
              "      <td>17+</td>\n",
              "      <td>6.4</td>\n",
              "      <td>8</td>\n",
              "      <td>Indonesian</td>\n",
              "      <td>Hanny Saputra</td>\n",
              "      <td>['Ranty Maria', 'Jeff Smith', 'Melanie Berentz...</td>\n",
              "      <td>80 min</td>\n",
              "    </tr>\n",
              "    <tr>\n",
              "      <th>2</th>\n",
              "      <td>Aku Tahu Kapan Kamu Mati</td>\n",
              "      <td>2020</td>\n",
              "      <td>After apparent death, Siena is able to see sig...</td>\n",
              "      <td>Horror</td>\n",
              "      <td>13+</td>\n",
              "      <td>5.4</td>\n",
              "      <td>17</td>\n",
              "      <td>Indonesian</td>\n",
              "      <td>Hadrah Daeng Ratu</td>\n",
              "      <td>['Natasha Wilona', 'Ria Ricis', 'Al Ghazali', ...</td>\n",
              "      <td>92 min</td>\n",
              "    </tr>\n",
              "    <tr>\n",
              "      <th>3</th>\n",
              "      <td>Anak Garuda</td>\n",
              "      <td>2020</td>\n",
              "      <td>Good Morning Indonesia, a school for poor orph...</td>\n",
              "      <td>Adventure</td>\n",
              "      <td>13+</td>\n",
              "      <td>9.1</td>\n",
              "      <td>27</td>\n",
              "      <td>Indonesian</td>\n",
              "      <td>Faozan Rizal</td>\n",
              "      <td>['Tissa Biani Azzahra', 'Violla Georgie', 'Aji...</td>\n",
              "      <td>129 min</td>\n",
              "    </tr>\n",
              "    <tr>\n",
              "      <th>4</th>\n",
              "      <td>Dignitate</td>\n",
              "      <td>2020</td>\n",
              "      <td>Alfi (Al Ghazali) meets Alana (Caitlin Halderm...</td>\n",
              "      <td>Drama</td>\n",
              "      <td>17+</td>\n",
              "      <td>7.6</td>\n",
              "      <td>33</td>\n",
              "      <td>Indonesian</td>\n",
              "      <td>Fajar Nugros</td>\n",
              "      <td>['Al Ghazali', 'Caitlin Halderman', 'Giorgino ...</td>\n",
              "      <td>109 min</td>\n",
              "    </tr>\n",
              "    <tr>\n",
              "      <th>...</th>\n",
              "      <td>...</td>\n",
              "      <td>...</td>\n",
              "      <td>...</td>\n",
              "      <td>...</td>\n",
              "      <td>...</td>\n",
              "      <td>...</td>\n",
              "      <td>...</td>\n",
              "      <td>...</td>\n",
              "      <td>...</td>\n",
              "      <td>...</td>\n",
              "      <td>...</td>\n",
              "    </tr>\n",
              "    <tr>\n",
              "      <th>1267</th>\n",
              "      <td>The Tiger from Tjampa</td>\n",
              "      <td>1953</td>\n",
              "      <td>Set in the 1930s, and narrated like a ballad f...</td>\n",
              "      <td>Drama</td>\n",
              "      <td>NaN</td>\n",
              "      <td>6.4</td>\n",
              "      <td>30</td>\n",
              "      <td>Indonesian</td>\n",
              "      <td>D. Djajakusuma</td>\n",
              "      <td>['Wahid Chan', 'Bambang Hermanto', 'R.D. Ismai...</td>\n",
              "      <td>97 min</td>\n",
              "    </tr>\n",
              "    <tr>\n",
              "      <th>1268</th>\n",
              "      <td>Enam Djam di Djogja</td>\n",
              "      <td>1951</td>\n",
              "      <td>Depicting the celebrated recapture of the town...</td>\n",
              "      <td>Drama</td>\n",
              "      <td>NaN</td>\n",
              "      <td>6.3</td>\n",
              "      <td>9</td>\n",
              "      <td>Indonesian</td>\n",
              "      <td>Usmar Ismail</td>\n",
              "      <td>['R.D. Ismail', 'Del Juzar', 'Aedy Moward', 'A...</td>\n",
              "      <td>116 min</td>\n",
              "    </tr>\n",
              "    <tr>\n",
              "      <th>1269</th>\n",
              "      <td>Darah dan Doa</td>\n",
              "      <td>1950</td>\n",
              "      <td>It tells the story of an Indonesian revolution...</td>\n",
              "      <td>Drama</td>\n",
              "      <td>NaN</td>\n",
              "      <td>6.6</td>\n",
              "      <td>27</td>\n",
              "      <td>Indonesian</td>\n",
              "      <td>Usmar Ismail</td>\n",
              "      <td>['Ella Bergen', 'Faridah', 'R.D. Ismail', 'Del...</td>\n",
              "      <td>150 min</td>\n",
              "    </tr>\n",
              "    <tr>\n",
              "      <th>1270</th>\n",
              "      <td>Resia Boroboedoer</td>\n",
              "      <td>1928</td>\n",
              "      <td>NaN</td>\n",
              "      <td>Adventure</td>\n",
              "      <td>NaN</td>\n",
              "      <td>7.0</td>\n",
              "      <td>8</td>\n",
              "      <td>Indonesian</td>\n",
              "      <td>NaN</td>\n",
              "      <td>['Olive Young', nan, nan, nan, nan, nan, nan, ...</td>\n",
              "      <td>NaN</td>\n",
              "    </tr>\n",
              "    <tr>\n",
              "      <th>1271</th>\n",
              "      <td>Loetoeng Kasaroeng</td>\n",
              "      <td>1926</td>\n",
              "      <td>NaN</td>\n",
              "      <td>Fantasy</td>\n",
              "      <td>NaN</td>\n",
              "      <td>7.2</td>\n",
              "      <td>11</td>\n",
              "      <td>Indonesian</td>\n",
              "      <td>L. Heuveldorp</td>\n",
              "      <td>['Martoana', 'Oemar', nan, nan, nan, nan, nan,...</td>\n",
              "      <td>60 min</td>\n",
              "    </tr>\n",
              "  </tbody>\n",
              "</table>\n",
              "<p>1272 rows × 11 columns</p>\n",
              "</div>\n",
              "    <div class=\"colab-df-buttons\">\n",
              "\n",
              "  <div class=\"colab-df-container\">\n",
              "    <button class=\"colab-df-convert\" onclick=\"convertToInteractive('df-b1a3a5b6-6d4b-4ddb-a54f-e6c2c38b2878')\"\n",
              "            title=\"Convert this dataframe to an interactive table.\"\n",
              "            style=\"display:none;\">\n",
              "\n",
              "  <svg xmlns=\"http://www.w3.org/2000/svg\" height=\"24px\" viewBox=\"0 -960 960 960\">\n",
              "    <path d=\"M120-120v-720h720v720H120Zm60-500h600v-160H180v160Zm220 220h160v-160H400v160Zm0 220h160v-160H400v160ZM180-400h160v-160H180v160Zm440 0h160v-160H620v160ZM180-180h160v-160H180v160Zm440 0h160v-160H620v160Z\"/>\n",
              "  </svg>\n",
              "    </button>\n",
              "\n",
              "  <style>\n",
              "    .colab-df-container {\n",
              "      display:flex;\n",
              "      gap: 12px;\n",
              "    }\n",
              "\n",
              "    .colab-df-convert {\n",
              "      background-color: #E8F0FE;\n",
              "      border: none;\n",
              "      border-radius: 50%;\n",
              "      cursor: pointer;\n",
              "      display: none;\n",
              "      fill: #1967D2;\n",
              "      height: 32px;\n",
              "      padding: 0 0 0 0;\n",
              "      width: 32px;\n",
              "    }\n",
              "\n",
              "    .colab-df-convert:hover {\n",
              "      background-color: #E2EBFA;\n",
              "      box-shadow: 0px 1px 2px rgba(60, 64, 67, 0.3), 0px 1px 3px 1px rgba(60, 64, 67, 0.15);\n",
              "      fill: #174EA6;\n",
              "    }\n",
              "\n",
              "    .colab-df-buttons div {\n",
              "      margin-bottom: 4px;\n",
              "    }\n",
              "\n",
              "    [theme=dark] .colab-df-convert {\n",
              "      background-color: #3B4455;\n",
              "      fill: #D2E3FC;\n",
              "    }\n",
              "\n",
              "    [theme=dark] .colab-df-convert:hover {\n",
              "      background-color: #434B5C;\n",
              "      box-shadow: 0px 1px 3px 1px rgba(0, 0, 0, 0.15);\n",
              "      filter: drop-shadow(0px 1px 2px rgba(0, 0, 0, 0.3));\n",
              "      fill: #FFFFFF;\n",
              "    }\n",
              "  </style>\n",
              "\n",
              "    <script>\n",
              "      const buttonEl =\n",
              "        document.querySelector('#df-b1a3a5b6-6d4b-4ddb-a54f-e6c2c38b2878 button.colab-df-convert');\n",
              "      buttonEl.style.display =\n",
              "        google.colab.kernel.accessAllowed ? 'block' : 'none';\n",
              "\n",
              "      async function convertToInteractive(key) {\n",
              "        const element = document.querySelector('#df-b1a3a5b6-6d4b-4ddb-a54f-e6c2c38b2878');\n",
              "        const dataTable =\n",
              "          await google.colab.kernel.invokeFunction('convertToInteractive',\n",
              "                                                    [key], {});\n",
              "        if (!dataTable) return;\n",
              "\n",
              "        const docLinkHtml = 'Like what you see? Visit the ' +\n",
              "          '<a target=\"_blank\" href=https://colab.research.google.com/notebooks/data_table.ipynb>data table notebook</a>'\n",
              "          + ' to learn more about interactive tables.';\n",
              "        element.innerHTML = '';\n",
              "        dataTable['output_type'] = 'display_data';\n",
              "        await google.colab.output.renderOutput(dataTable, element);\n",
              "        const docLink = document.createElement('div');\n",
              "        docLink.innerHTML = docLinkHtml;\n",
              "        element.appendChild(docLink);\n",
              "      }\n",
              "    </script>\n",
              "  </div>\n",
              "\n",
              "\n",
              "    <div id=\"df-06190e7a-8b33-4e30-ab3e-e18d15bc84b9\">\n",
              "      <button class=\"colab-df-quickchart\" onclick=\"quickchart('df-06190e7a-8b33-4e30-ab3e-e18d15bc84b9')\"\n",
              "                title=\"Suggest charts\"\n",
              "                style=\"display:none;\">\n",
              "\n",
              "<svg xmlns=\"http://www.w3.org/2000/svg\" height=\"24px\"viewBox=\"0 0 24 24\"\n",
              "     width=\"24px\">\n",
              "    <g>\n",
              "        <path d=\"M19 3H5c-1.1 0-2 .9-2 2v14c0 1.1.9 2 2 2h14c1.1 0 2-.9 2-2V5c0-1.1-.9-2-2-2zM9 17H7v-7h2v7zm4 0h-2V7h2v10zm4 0h-2v-4h2v4z\"/>\n",
              "    </g>\n",
              "</svg>\n",
              "      </button>\n",
              "\n",
              "<style>\n",
              "  .colab-df-quickchart {\n",
              "      --bg-color: #E8F0FE;\n",
              "      --fill-color: #1967D2;\n",
              "      --hover-bg-color: #E2EBFA;\n",
              "      --hover-fill-color: #174EA6;\n",
              "      --disabled-fill-color: #AAA;\n",
              "      --disabled-bg-color: #DDD;\n",
              "  }\n",
              "\n",
              "  [theme=dark] .colab-df-quickchart {\n",
              "      --bg-color: #3B4455;\n",
              "      --fill-color: #D2E3FC;\n",
              "      --hover-bg-color: #434B5C;\n",
              "      --hover-fill-color: #FFFFFF;\n",
              "      --disabled-bg-color: #3B4455;\n",
              "      --disabled-fill-color: #666;\n",
              "  }\n",
              "\n",
              "  .colab-df-quickchart {\n",
              "    background-color: var(--bg-color);\n",
              "    border: none;\n",
              "    border-radius: 50%;\n",
              "    cursor: pointer;\n",
              "    display: none;\n",
              "    fill: var(--fill-color);\n",
              "    height: 32px;\n",
              "    padding: 0;\n",
              "    width: 32px;\n",
              "  }\n",
              "\n",
              "  .colab-df-quickchart:hover {\n",
              "    background-color: var(--hover-bg-color);\n",
              "    box-shadow: 0 1px 2px rgba(60, 64, 67, 0.3), 0 1px 3px 1px rgba(60, 64, 67, 0.15);\n",
              "    fill: var(--button-hover-fill-color);\n",
              "  }\n",
              "\n",
              "  .colab-df-quickchart-complete:disabled,\n",
              "  .colab-df-quickchart-complete:disabled:hover {\n",
              "    background-color: var(--disabled-bg-color);\n",
              "    fill: var(--disabled-fill-color);\n",
              "    box-shadow: none;\n",
              "  }\n",
              "\n",
              "  .colab-df-spinner {\n",
              "    border: 2px solid var(--fill-color);\n",
              "    border-color: transparent;\n",
              "    border-bottom-color: var(--fill-color);\n",
              "    animation:\n",
              "      spin 1s steps(1) infinite;\n",
              "  }\n",
              "\n",
              "  @keyframes spin {\n",
              "    0% {\n",
              "      border-color: transparent;\n",
              "      border-bottom-color: var(--fill-color);\n",
              "      border-left-color: var(--fill-color);\n",
              "    }\n",
              "    20% {\n",
              "      border-color: transparent;\n",
              "      border-left-color: var(--fill-color);\n",
              "      border-top-color: var(--fill-color);\n",
              "    }\n",
              "    30% {\n",
              "      border-color: transparent;\n",
              "      border-left-color: var(--fill-color);\n",
              "      border-top-color: var(--fill-color);\n",
              "      border-right-color: var(--fill-color);\n",
              "    }\n",
              "    40% {\n",
              "      border-color: transparent;\n",
              "      border-right-color: var(--fill-color);\n",
              "      border-top-color: var(--fill-color);\n",
              "    }\n",
              "    60% {\n",
              "      border-color: transparent;\n",
              "      border-right-color: var(--fill-color);\n",
              "    }\n",
              "    80% {\n",
              "      border-color: transparent;\n",
              "      border-right-color: var(--fill-color);\n",
              "      border-bottom-color: var(--fill-color);\n",
              "    }\n",
              "    90% {\n",
              "      border-color: transparent;\n",
              "      border-bottom-color: var(--fill-color);\n",
              "    }\n",
              "  }\n",
              "</style>\n",
              "\n",
              "      <script>\n",
              "        async function quickchart(key) {\n",
              "          const quickchartButtonEl =\n",
              "            document.querySelector('#' + key + ' button');\n",
              "          quickchartButtonEl.disabled = true;  // To prevent multiple clicks.\n",
              "          quickchartButtonEl.classList.add('colab-df-spinner');\n",
              "          try {\n",
              "            const charts = await google.colab.kernel.invokeFunction(\n",
              "                'suggestCharts', [key], {});\n",
              "          } catch (error) {\n",
              "            console.error('Error during call to suggestCharts:', error);\n",
              "          }\n",
              "          quickchartButtonEl.classList.remove('colab-df-spinner');\n",
              "          quickchartButtonEl.classList.add('colab-df-quickchart-complete');\n",
              "        }\n",
              "        (() => {\n",
              "          let quickchartButtonEl =\n",
              "            document.querySelector('#df-06190e7a-8b33-4e30-ab3e-e18d15bc84b9 button');\n",
              "          quickchartButtonEl.style.display =\n",
              "            google.colab.kernel.accessAllowed ? 'block' : 'none';\n",
              "        })();\n",
              "      </script>\n",
              "    </div>\n",
              "\n",
              "  <div id=\"id_d242102d-01a4-4eee-b050-b261b9f3fcbe\">\n",
              "    <style>\n",
              "      .colab-df-generate {\n",
              "        background-color: #E8F0FE;\n",
              "        border: none;\n",
              "        border-radius: 50%;\n",
              "        cursor: pointer;\n",
              "        display: none;\n",
              "        fill: #1967D2;\n",
              "        height: 32px;\n",
              "        padding: 0 0 0 0;\n",
              "        width: 32px;\n",
              "      }\n",
              "\n",
              "      .colab-df-generate:hover {\n",
              "        background-color: #E2EBFA;\n",
              "        box-shadow: 0px 1px 2px rgba(60, 64, 67, 0.3), 0px 1px 3px 1px rgba(60, 64, 67, 0.15);\n",
              "        fill: #174EA6;\n",
              "      }\n",
              "\n",
              "      [theme=dark] .colab-df-generate {\n",
              "        background-color: #3B4455;\n",
              "        fill: #D2E3FC;\n",
              "      }\n",
              "\n",
              "      [theme=dark] .colab-df-generate:hover {\n",
              "        background-color: #434B5C;\n",
              "        box-shadow: 0px 1px 3px 1px rgba(0, 0, 0, 0.15);\n",
              "        filter: drop-shadow(0px 1px 2px rgba(0, 0, 0, 0.3));\n",
              "        fill: #FFFFFF;\n",
              "      }\n",
              "    </style>\n",
              "    <button class=\"colab-df-generate\" onclick=\"generateWithVariable('df')\"\n",
              "            title=\"Generate code using this dataframe.\"\n",
              "            style=\"display:none;\">\n",
              "\n",
              "  <svg xmlns=\"http://www.w3.org/2000/svg\" height=\"24px\"viewBox=\"0 0 24 24\"\n",
              "       width=\"24px\">\n",
              "    <path d=\"M7,19H8.4L18.45,9,17,7.55,7,17.6ZM5,21V16.75L18.45,3.32a2,2,0,0,1,2.83,0l1.4,1.43a1.91,1.91,0,0,1,.58,1.4,1.91,1.91,0,0,1-.58,1.4L9.25,21ZM18.45,9,17,7.55Zm-12,3A5.31,5.31,0,0,0,4.9,8.1,5.31,5.31,0,0,0,1,6.5,5.31,5.31,0,0,0,4.9,4.9,5.31,5.31,0,0,0,6.5,1,5.31,5.31,0,0,0,8.1,4.9,5.31,5.31,0,0,0,12,6.5,5.46,5.46,0,0,0,6.5,12Z\"/>\n",
              "  </svg>\n",
              "    </button>\n",
              "    <script>\n",
              "      (() => {\n",
              "      const buttonEl =\n",
              "        document.querySelector('#id_d242102d-01a4-4eee-b050-b261b9f3fcbe button.colab-df-generate');\n",
              "      buttonEl.style.display =\n",
              "        google.colab.kernel.accessAllowed ? 'block' : 'none';\n",
              "\n",
              "      buttonEl.onclick = () => {\n",
              "        google.colab.notebook.generateWithVariable('df');\n",
              "      }\n",
              "      })();\n",
              "    </script>\n",
              "  </div>\n",
              "\n",
              "    </div>\n",
              "  </div>\n"
            ],
            "application/vnd.google.colaboratory.intrinsic+json": {
              "type": "dataframe",
              "variable_name": "df",
              "summary": "{\n  \"name\": \"df\",\n  \"rows\": 1272,\n  \"fields\": [\n    {\n      \"column\": \"title\",\n      \"properties\": {\n        \"dtype\": \"string\",\n        \"num_unique_values\": 1262,\n        \"samples\": [\n          \"Mystics in Bali\",\n          \"Otomatis Romantis\",\n          \"Enak Sama Enak\"\n        ],\n        \"semantic_type\": \"\",\n        \"description\": \"\"\n      }\n    },\n    {\n      \"column\": \"year\",\n      \"properties\": {\n        \"dtype\": \"number\",\n        \"std\": 12,\n        \"min\": 1926,\n        \"max\": 2020,\n        \"num_unique_values\": 62,\n        \"samples\": [\n          1970,\n          1954,\n          2020\n        ],\n        \"semantic_type\": \"\",\n        \"description\": \"\"\n      }\n    },\n    {\n      \"column\": \"description\",\n      \"properties\": {\n        \"dtype\": \"string\",\n        \"num_unique_values\": 840,\n        \"samples\": [\n          \"Bagas keeps his feeling towards his childhood friend, Alexandria, but he is unable to express it out. Things changed when Bagas realizes that his best friend, Rafi, already moved ahead and declared his love for Alexandria.\",\n          \"After a raft accident in the jungle, three anthropology students and their guides attempt to escape from a primitive cannibal tribe that has hunted them down.\",\n          \"Keara (Carissa Perusset) loves Ruly (Refal Hady), even though she realizes that Ruly loves Denise (Atikah Suhaime). Meanwhile, Harris (Herjunot Ali) also has found his true love in Keara. But for Keara, Harris is just her best friend.\"\n        ],\n        \"semantic_type\": \"\",\n        \"description\": \"\"\n      }\n    },\n    {\n      \"column\": \"genre\",\n      \"properties\": {\n        \"dtype\": \"category\",\n        \"num_unique_values\": 15,\n        \"samples\": [\n          \"Crime\",\n          \"Sci-Fi\",\n          \"Biography\"\n        ],\n        \"semantic_type\": \"\",\n        \"description\": \"\"\n      }\n    },\n    {\n      \"column\": \"rating\",\n      \"properties\": {\n        \"dtype\": \"category\",\n        \"num_unique_values\": 11,\n        \"samples\": [\n          \"TV-MA\",\n          \"13+\",\n          \"PG-13\"\n        ],\n        \"semantic_type\": \"\",\n        \"description\": \"\"\n      }\n    },\n    {\n      \"column\": \"users_rating\",\n      \"properties\": {\n        \"dtype\": \"number\",\n        \"std\": 1.3893152940311437,\n        \"min\": 1.2,\n        \"max\": 9.4,\n        \"num_unique_values\": 79,\n        \"samples\": [\n          4.8,\n          6.5,\n          7.0\n        ],\n        \"semantic_type\": \"\",\n        \"description\": \"\"\n      }\n    },\n    {\n      \"column\": \"votes\",\n      \"properties\": {\n        \"dtype\": \"category\",\n        \"num_unique_values\": 312,\n        \"samples\": [\n          \"1,709\",\n          \"54\",\n          \"121\"\n        ],\n        \"semantic_type\": \"\",\n        \"description\": \"\"\n      }\n    },\n    {\n      \"column\": \"languages\",\n      \"properties\": {\n        \"dtype\": \"category\",\n        \"num_unique_values\": 8,\n        \"samples\": [\n          \"English\",\n          \"Dutch\",\n          \"Indonesian\"\n        ],\n        \"semantic_type\": \"\",\n        \"description\": \"\"\n      }\n    },\n    {\n      \"column\": \"directors\",\n      \"properties\": {\n        \"dtype\": \"category\",\n        \"num_unique_values\": 377,\n        \"samples\": [\n          \"Dimas Djayadiningrat\",\n          \"Cassandra Massardi\",\n          \"Sofyan D. Surza\"\n        ],\n        \"semantic_type\": \"\",\n        \"description\": \"\"\n      }\n    },\n    {\n      \"column\": \"actors\",\n      \"properties\": {\n        \"dtype\": \"string\",\n        \"num_unique_values\": 1266,\n        \"samples\": [\n          \"['Vita Fatimah', 'Johnny Hong Kong', 'Beng Ito', 'Ronald Kansil', 'Johny Kokong', 'Steve Lee', 'Enden Marlinda', 'Hendro Tangkilisan', nan, nan, nan, nan, nan, nan, nan]\",\n          \"['Nurul Arifin', 'Hotalili', 'Ibrahim Ibnu', 'Fuad Idris', 'Adi Kurdi', 'Jajang C. Noer', 'Monica Oemardi', 'Viva Westi', 'Windy', nan, nan, nan, nan, nan, nan]\",\n          \"['Ernest Prakasa', 'Kemal Palevi', 'Arie Kriting', 'Fico Fachriza', 'Babe Cabita', 'Bintang Timur', 'Mongol Stres', 'Mudy Taylor', 'Indro Warkop', 'Ence Bagus', 'Candil', 'Kiki Fatmala', 'Agung Hercules', 'Agus Kuncoro', 'Cak Lontong']\"\n        ],\n        \"semantic_type\": \"\",\n        \"description\": \"\"\n      }\n    },\n    {\n      \"column\": \"runtime\",\n      \"properties\": {\n        \"dtype\": \"category\",\n        \"num_unique_values\": 85,\n        \"samples\": [\n          \"262 min\",\n          \"100 min\",\n          \"164 min\"\n        ],\n        \"semantic_type\": \"\",\n        \"description\": \"\"\n      }\n    }\n  ]\n}"
            }
          },
          "metadata": {},
          "execution_count": 5
        }
      ]
    },
    {
      "cell_type": "markdown",
      "source": [
        "Diketahui bahwa data memiliki 1272 baris dan 11 kolom"
      ],
      "metadata": {
        "id": "b94GaEQ1CAfx"
      }
    },
    {
      "cell_type": "markdown",
      "source": [
        "# Data Understanding"
      ],
      "metadata": {
        "id": "fWTdtN-x91-f"
      }
    },
    {
      "cell_type": "code",
      "source": [
        "# Ringkasan informasi dataset\n",
        "df.info()"
      ],
      "metadata": {
        "colab": {
          "base_uri": "https://localhost:8080/"
        },
        "id": "O627sUM-94gO",
        "outputId": "f2c5d1aa-55a8-4f85-f0fb-e80a1378894a"
      },
      "execution_count": 6,
      "outputs": [
        {
          "output_type": "stream",
          "name": "stdout",
          "text": [
            "<class 'pandas.core.frame.DataFrame'>\n",
            "RangeIndex: 1272 entries, 0 to 1271\n",
            "Data columns (total 11 columns):\n",
            " #   Column        Non-Null Count  Dtype  \n",
            "---  ------        --------------  -----  \n",
            " 0   title         1272 non-null   object \n",
            " 1   year          1272 non-null   int64  \n",
            " 2   description   840 non-null    object \n",
            " 3   genre         1236 non-null   object \n",
            " 4   rating        376 non-null    object \n",
            " 5   users_rating  1272 non-null   float64\n",
            " 6   votes         1272 non-null   object \n",
            " 7   languages     1272 non-null   object \n",
            " 8   directors     1265 non-null   object \n",
            " 9   actors        1272 non-null   object \n",
            " 10  runtime       869 non-null    object \n",
            "dtypes: float64(1), int64(1), object(9)\n",
            "memory usage: 109.4+ KB\n"
          ]
        }
      ]
    },
    {
      "cell_type": "markdown",
      "source": [
        "Berdasarkan ringkasan informasi dataset, dapat disimpulkan bahwa dataset mengandung banyak nilai yang hilang serta terdapat ketidaksesuaian tipe data pada kolom votes."
      ],
      "metadata": {
        "id": "tWf23L_jBxtq"
      }
    },
    {
      "cell_type": "code",
      "source": [
        "# Statistik deskriptif dataset\n",
        "df.describe(include=\"all\")"
      ],
      "metadata": {
        "colab": {
          "base_uri": "https://localhost:8080/",
          "height": 394
        },
        "id": "23OwPLvJ9570",
        "outputId": "edb48996-23e8-445e-e8fe-f13d4f9f36d5"
      },
      "execution_count": 7,
      "outputs": [
        {
          "output_type": "execute_result",
          "data": {
            "text/plain": [
              "        title         year                                        description  \\\n",
              "count    1272  1272.000000                                                840   \n",
              "unique   1262          NaN                                                840   \n",
              "top     Arini          NaN  It tells the story of an Indonesian revolution...   \n",
              "freq        2          NaN                                                  1   \n",
              "mean      NaN  2007.023585                                                NaN   \n",
              "std       NaN    12.968560                                                NaN   \n",
              "min       NaN  1926.000000                                                NaN   \n",
              "25%       NaN  2006.000000                                                NaN   \n",
              "50%       NaN  2011.000000                                                NaN   \n",
              "75%       NaN  2016.000000                                                NaN   \n",
              "max       NaN  2020.000000                                                NaN   \n",
              "\n",
              "        genre rating  users_rating votes   languages         directors  \\\n",
              "count    1236    376   1272.000000  1272        1272              1265   \n",
              "unique     15     11           NaN   312           8               377   \n",
              "top     Drama    13+           NaN     6  Indonesian  Nayato Fio Nuala   \n",
              "freq      456    161           NaN    58        1241                61   \n",
              "mean      NaN    NaN      6.144418   NaN         NaN               NaN   \n",
              "std       NaN    NaN      1.389315   NaN         NaN               NaN   \n",
              "min       NaN    NaN      1.200000   NaN         NaN               NaN   \n",
              "25%       NaN    NaN      5.300000   NaN         NaN               NaN   \n",
              "50%       NaN    NaN      6.400000   NaN         NaN               NaN   \n",
              "75%       NaN    NaN      7.100000   NaN         NaN               NaN   \n",
              "max       NaN    NaN      9.400000   NaN         NaN               NaN   \n",
              "\n",
              "                                                   actors runtime  \n",
              "count                                                1272     869  \n",
              "unique                                               1266      85  \n",
              "top     [nan, nan, nan, nan, nan, nan, nan, nan, nan, ...  90 min  \n",
              "freq                                                    4     109  \n",
              "mean                                                  NaN     NaN  \n",
              "std                                                   NaN     NaN  \n",
              "min                                                   NaN     NaN  \n",
              "25%                                                   NaN     NaN  \n",
              "50%                                                   NaN     NaN  \n",
              "75%                                                   NaN     NaN  \n",
              "max                                                   NaN     NaN  "
            ],
            "text/html": [
              "\n",
              "  <div id=\"df-29f95aa7-99cd-4cbf-9b65-f3b8c4212f6a\" class=\"colab-df-container\">\n",
              "    <div>\n",
              "<style scoped>\n",
              "    .dataframe tbody tr th:only-of-type {\n",
              "        vertical-align: middle;\n",
              "    }\n",
              "\n",
              "    .dataframe tbody tr th {\n",
              "        vertical-align: top;\n",
              "    }\n",
              "\n",
              "    .dataframe thead th {\n",
              "        text-align: right;\n",
              "    }\n",
              "</style>\n",
              "<table border=\"1\" class=\"dataframe\">\n",
              "  <thead>\n",
              "    <tr style=\"text-align: right;\">\n",
              "      <th></th>\n",
              "      <th>title</th>\n",
              "      <th>year</th>\n",
              "      <th>description</th>\n",
              "      <th>genre</th>\n",
              "      <th>rating</th>\n",
              "      <th>users_rating</th>\n",
              "      <th>votes</th>\n",
              "      <th>languages</th>\n",
              "      <th>directors</th>\n",
              "      <th>actors</th>\n",
              "      <th>runtime</th>\n",
              "    </tr>\n",
              "  </thead>\n",
              "  <tbody>\n",
              "    <tr>\n",
              "      <th>count</th>\n",
              "      <td>1272</td>\n",
              "      <td>1272.000000</td>\n",
              "      <td>840</td>\n",
              "      <td>1236</td>\n",
              "      <td>376</td>\n",
              "      <td>1272.000000</td>\n",
              "      <td>1272</td>\n",
              "      <td>1272</td>\n",
              "      <td>1265</td>\n",
              "      <td>1272</td>\n",
              "      <td>869</td>\n",
              "    </tr>\n",
              "    <tr>\n",
              "      <th>unique</th>\n",
              "      <td>1262</td>\n",
              "      <td>NaN</td>\n",
              "      <td>840</td>\n",
              "      <td>15</td>\n",
              "      <td>11</td>\n",
              "      <td>NaN</td>\n",
              "      <td>312</td>\n",
              "      <td>8</td>\n",
              "      <td>377</td>\n",
              "      <td>1266</td>\n",
              "      <td>85</td>\n",
              "    </tr>\n",
              "    <tr>\n",
              "      <th>top</th>\n",
              "      <td>Arini</td>\n",
              "      <td>NaN</td>\n",
              "      <td>It tells the story of an Indonesian revolution...</td>\n",
              "      <td>Drama</td>\n",
              "      <td>13+</td>\n",
              "      <td>NaN</td>\n",
              "      <td>6</td>\n",
              "      <td>Indonesian</td>\n",
              "      <td>Nayato Fio Nuala</td>\n",
              "      <td>[nan, nan, nan, nan, nan, nan, nan, nan, nan, ...</td>\n",
              "      <td>90 min</td>\n",
              "    </tr>\n",
              "    <tr>\n",
              "      <th>freq</th>\n",
              "      <td>2</td>\n",
              "      <td>NaN</td>\n",
              "      <td>1</td>\n",
              "      <td>456</td>\n",
              "      <td>161</td>\n",
              "      <td>NaN</td>\n",
              "      <td>58</td>\n",
              "      <td>1241</td>\n",
              "      <td>61</td>\n",
              "      <td>4</td>\n",
              "      <td>109</td>\n",
              "    </tr>\n",
              "    <tr>\n",
              "      <th>mean</th>\n",
              "      <td>NaN</td>\n",
              "      <td>2007.023585</td>\n",
              "      <td>NaN</td>\n",
              "      <td>NaN</td>\n",
              "      <td>NaN</td>\n",
              "      <td>6.144418</td>\n",
              "      <td>NaN</td>\n",
              "      <td>NaN</td>\n",
              "      <td>NaN</td>\n",
              "      <td>NaN</td>\n",
              "      <td>NaN</td>\n",
              "    </tr>\n",
              "    <tr>\n",
              "      <th>std</th>\n",
              "      <td>NaN</td>\n",
              "      <td>12.968560</td>\n",
              "      <td>NaN</td>\n",
              "      <td>NaN</td>\n",
              "      <td>NaN</td>\n",
              "      <td>1.389315</td>\n",
              "      <td>NaN</td>\n",
              "      <td>NaN</td>\n",
              "      <td>NaN</td>\n",
              "      <td>NaN</td>\n",
              "      <td>NaN</td>\n",
              "    </tr>\n",
              "    <tr>\n",
              "      <th>min</th>\n",
              "      <td>NaN</td>\n",
              "      <td>1926.000000</td>\n",
              "      <td>NaN</td>\n",
              "      <td>NaN</td>\n",
              "      <td>NaN</td>\n",
              "      <td>1.200000</td>\n",
              "      <td>NaN</td>\n",
              "      <td>NaN</td>\n",
              "      <td>NaN</td>\n",
              "      <td>NaN</td>\n",
              "      <td>NaN</td>\n",
              "    </tr>\n",
              "    <tr>\n",
              "      <th>25%</th>\n",
              "      <td>NaN</td>\n",
              "      <td>2006.000000</td>\n",
              "      <td>NaN</td>\n",
              "      <td>NaN</td>\n",
              "      <td>NaN</td>\n",
              "      <td>5.300000</td>\n",
              "      <td>NaN</td>\n",
              "      <td>NaN</td>\n",
              "      <td>NaN</td>\n",
              "      <td>NaN</td>\n",
              "      <td>NaN</td>\n",
              "    </tr>\n",
              "    <tr>\n",
              "      <th>50%</th>\n",
              "      <td>NaN</td>\n",
              "      <td>2011.000000</td>\n",
              "      <td>NaN</td>\n",
              "      <td>NaN</td>\n",
              "      <td>NaN</td>\n",
              "      <td>6.400000</td>\n",
              "      <td>NaN</td>\n",
              "      <td>NaN</td>\n",
              "      <td>NaN</td>\n",
              "      <td>NaN</td>\n",
              "      <td>NaN</td>\n",
              "    </tr>\n",
              "    <tr>\n",
              "      <th>75%</th>\n",
              "      <td>NaN</td>\n",
              "      <td>2016.000000</td>\n",
              "      <td>NaN</td>\n",
              "      <td>NaN</td>\n",
              "      <td>NaN</td>\n",
              "      <td>7.100000</td>\n",
              "      <td>NaN</td>\n",
              "      <td>NaN</td>\n",
              "      <td>NaN</td>\n",
              "      <td>NaN</td>\n",
              "      <td>NaN</td>\n",
              "    </tr>\n",
              "    <tr>\n",
              "      <th>max</th>\n",
              "      <td>NaN</td>\n",
              "      <td>2020.000000</td>\n",
              "      <td>NaN</td>\n",
              "      <td>NaN</td>\n",
              "      <td>NaN</td>\n",
              "      <td>9.400000</td>\n",
              "      <td>NaN</td>\n",
              "      <td>NaN</td>\n",
              "      <td>NaN</td>\n",
              "      <td>NaN</td>\n",
              "      <td>NaN</td>\n",
              "    </tr>\n",
              "  </tbody>\n",
              "</table>\n",
              "</div>\n",
              "    <div class=\"colab-df-buttons\">\n",
              "\n",
              "  <div class=\"colab-df-container\">\n",
              "    <button class=\"colab-df-convert\" onclick=\"convertToInteractive('df-29f95aa7-99cd-4cbf-9b65-f3b8c4212f6a')\"\n",
              "            title=\"Convert this dataframe to an interactive table.\"\n",
              "            style=\"display:none;\">\n",
              "\n",
              "  <svg xmlns=\"http://www.w3.org/2000/svg\" height=\"24px\" viewBox=\"0 -960 960 960\">\n",
              "    <path d=\"M120-120v-720h720v720H120Zm60-500h600v-160H180v160Zm220 220h160v-160H400v160Zm0 220h160v-160H400v160ZM180-400h160v-160H180v160Zm440 0h160v-160H620v160ZM180-180h160v-160H180v160Zm440 0h160v-160H620v160Z\"/>\n",
              "  </svg>\n",
              "    </button>\n",
              "\n",
              "  <style>\n",
              "    .colab-df-container {\n",
              "      display:flex;\n",
              "      gap: 12px;\n",
              "    }\n",
              "\n",
              "    .colab-df-convert {\n",
              "      background-color: #E8F0FE;\n",
              "      border: none;\n",
              "      border-radius: 50%;\n",
              "      cursor: pointer;\n",
              "      display: none;\n",
              "      fill: #1967D2;\n",
              "      height: 32px;\n",
              "      padding: 0 0 0 0;\n",
              "      width: 32px;\n",
              "    }\n",
              "\n",
              "    .colab-df-convert:hover {\n",
              "      background-color: #E2EBFA;\n",
              "      box-shadow: 0px 1px 2px rgba(60, 64, 67, 0.3), 0px 1px 3px 1px rgba(60, 64, 67, 0.15);\n",
              "      fill: #174EA6;\n",
              "    }\n",
              "\n",
              "    .colab-df-buttons div {\n",
              "      margin-bottom: 4px;\n",
              "    }\n",
              "\n",
              "    [theme=dark] .colab-df-convert {\n",
              "      background-color: #3B4455;\n",
              "      fill: #D2E3FC;\n",
              "    }\n",
              "\n",
              "    [theme=dark] .colab-df-convert:hover {\n",
              "      background-color: #434B5C;\n",
              "      box-shadow: 0px 1px 3px 1px rgba(0, 0, 0, 0.15);\n",
              "      filter: drop-shadow(0px 1px 2px rgba(0, 0, 0, 0.3));\n",
              "      fill: #FFFFFF;\n",
              "    }\n",
              "  </style>\n",
              "\n",
              "    <script>\n",
              "      const buttonEl =\n",
              "        document.querySelector('#df-29f95aa7-99cd-4cbf-9b65-f3b8c4212f6a button.colab-df-convert');\n",
              "      buttonEl.style.display =\n",
              "        google.colab.kernel.accessAllowed ? 'block' : 'none';\n",
              "\n",
              "      async function convertToInteractive(key) {\n",
              "        const element = document.querySelector('#df-29f95aa7-99cd-4cbf-9b65-f3b8c4212f6a');\n",
              "        const dataTable =\n",
              "          await google.colab.kernel.invokeFunction('convertToInteractive',\n",
              "                                                    [key], {});\n",
              "        if (!dataTable) return;\n",
              "\n",
              "        const docLinkHtml = 'Like what you see? Visit the ' +\n",
              "          '<a target=\"_blank\" href=https://colab.research.google.com/notebooks/data_table.ipynb>data table notebook</a>'\n",
              "          + ' to learn more about interactive tables.';\n",
              "        element.innerHTML = '';\n",
              "        dataTable['output_type'] = 'display_data';\n",
              "        await google.colab.output.renderOutput(dataTable, element);\n",
              "        const docLink = document.createElement('div');\n",
              "        docLink.innerHTML = docLinkHtml;\n",
              "        element.appendChild(docLink);\n",
              "      }\n",
              "    </script>\n",
              "  </div>\n",
              "\n",
              "\n",
              "    <div id=\"df-b5d641b5-581e-4b07-94c2-acb53d39b703\">\n",
              "      <button class=\"colab-df-quickchart\" onclick=\"quickchart('df-b5d641b5-581e-4b07-94c2-acb53d39b703')\"\n",
              "                title=\"Suggest charts\"\n",
              "                style=\"display:none;\">\n",
              "\n",
              "<svg xmlns=\"http://www.w3.org/2000/svg\" height=\"24px\"viewBox=\"0 0 24 24\"\n",
              "     width=\"24px\">\n",
              "    <g>\n",
              "        <path d=\"M19 3H5c-1.1 0-2 .9-2 2v14c0 1.1.9 2 2 2h14c1.1 0 2-.9 2-2V5c0-1.1-.9-2-2-2zM9 17H7v-7h2v7zm4 0h-2V7h2v10zm4 0h-2v-4h2v4z\"/>\n",
              "    </g>\n",
              "</svg>\n",
              "      </button>\n",
              "\n",
              "<style>\n",
              "  .colab-df-quickchart {\n",
              "      --bg-color: #E8F0FE;\n",
              "      --fill-color: #1967D2;\n",
              "      --hover-bg-color: #E2EBFA;\n",
              "      --hover-fill-color: #174EA6;\n",
              "      --disabled-fill-color: #AAA;\n",
              "      --disabled-bg-color: #DDD;\n",
              "  }\n",
              "\n",
              "  [theme=dark] .colab-df-quickchart {\n",
              "      --bg-color: #3B4455;\n",
              "      --fill-color: #D2E3FC;\n",
              "      --hover-bg-color: #434B5C;\n",
              "      --hover-fill-color: #FFFFFF;\n",
              "      --disabled-bg-color: #3B4455;\n",
              "      --disabled-fill-color: #666;\n",
              "  }\n",
              "\n",
              "  .colab-df-quickchart {\n",
              "    background-color: var(--bg-color);\n",
              "    border: none;\n",
              "    border-radius: 50%;\n",
              "    cursor: pointer;\n",
              "    display: none;\n",
              "    fill: var(--fill-color);\n",
              "    height: 32px;\n",
              "    padding: 0;\n",
              "    width: 32px;\n",
              "  }\n",
              "\n",
              "  .colab-df-quickchart:hover {\n",
              "    background-color: var(--hover-bg-color);\n",
              "    box-shadow: 0 1px 2px rgba(60, 64, 67, 0.3), 0 1px 3px 1px rgba(60, 64, 67, 0.15);\n",
              "    fill: var(--button-hover-fill-color);\n",
              "  }\n",
              "\n",
              "  .colab-df-quickchart-complete:disabled,\n",
              "  .colab-df-quickchart-complete:disabled:hover {\n",
              "    background-color: var(--disabled-bg-color);\n",
              "    fill: var(--disabled-fill-color);\n",
              "    box-shadow: none;\n",
              "  }\n",
              "\n",
              "  .colab-df-spinner {\n",
              "    border: 2px solid var(--fill-color);\n",
              "    border-color: transparent;\n",
              "    border-bottom-color: var(--fill-color);\n",
              "    animation:\n",
              "      spin 1s steps(1) infinite;\n",
              "  }\n",
              "\n",
              "  @keyframes spin {\n",
              "    0% {\n",
              "      border-color: transparent;\n",
              "      border-bottom-color: var(--fill-color);\n",
              "      border-left-color: var(--fill-color);\n",
              "    }\n",
              "    20% {\n",
              "      border-color: transparent;\n",
              "      border-left-color: var(--fill-color);\n",
              "      border-top-color: var(--fill-color);\n",
              "    }\n",
              "    30% {\n",
              "      border-color: transparent;\n",
              "      border-left-color: var(--fill-color);\n",
              "      border-top-color: var(--fill-color);\n",
              "      border-right-color: var(--fill-color);\n",
              "    }\n",
              "    40% {\n",
              "      border-color: transparent;\n",
              "      border-right-color: var(--fill-color);\n",
              "      border-top-color: var(--fill-color);\n",
              "    }\n",
              "    60% {\n",
              "      border-color: transparent;\n",
              "      border-right-color: var(--fill-color);\n",
              "    }\n",
              "    80% {\n",
              "      border-color: transparent;\n",
              "      border-right-color: var(--fill-color);\n",
              "      border-bottom-color: var(--fill-color);\n",
              "    }\n",
              "    90% {\n",
              "      border-color: transparent;\n",
              "      border-bottom-color: var(--fill-color);\n",
              "    }\n",
              "  }\n",
              "</style>\n",
              "\n",
              "      <script>\n",
              "        async function quickchart(key) {\n",
              "          const quickchartButtonEl =\n",
              "            document.querySelector('#' + key + ' button');\n",
              "          quickchartButtonEl.disabled = true;  // To prevent multiple clicks.\n",
              "          quickchartButtonEl.classList.add('colab-df-spinner');\n",
              "          try {\n",
              "            const charts = await google.colab.kernel.invokeFunction(\n",
              "                'suggestCharts', [key], {});\n",
              "          } catch (error) {\n",
              "            console.error('Error during call to suggestCharts:', error);\n",
              "          }\n",
              "          quickchartButtonEl.classList.remove('colab-df-spinner');\n",
              "          quickchartButtonEl.classList.add('colab-df-quickchart-complete');\n",
              "        }\n",
              "        (() => {\n",
              "          let quickchartButtonEl =\n",
              "            document.querySelector('#df-b5d641b5-581e-4b07-94c2-acb53d39b703 button');\n",
              "          quickchartButtonEl.style.display =\n",
              "            google.colab.kernel.accessAllowed ? 'block' : 'none';\n",
              "        })();\n",
              "      </script>\n",
              "    </div>\n",
              "\n",
              "    </div>\n",
              "  </div>\n"
            ],
            "application/vnd.google.colaboratory.intrinsic+json": {
              "type": "dataframe",
              "summary": "{\n  \"name\": \"df\",\n  \"rows\": 11,\n  \"fields\": [\n    {\n      \"column\": \"title\",\n      \"properties\": {\n        \"dtype\": \"category\",\n        \"num_unique_values\": 4,\n        \"samples\": [\n          1262,\n          \"2\",\n          \"1272\"\n        ],\n        \"semantic_type\": \"\",\n        \"description\": \"\"\n      }\n    },\n    {\n      \"column\": \"year\",\n      \"properties\": {\n        \"dtype\": \"number\",\n        \"std\": 712.5087257524466,\n        \"min\": 12.968560071069561,\n        \"max\": 2020.0,\n        \"num_unique_values\": 8,\n        \"samples\": [\n          2007.0235849056603,\n          2011.0,\n          1272.0\n        ],\n        \"semantic_type\": \"\",\n        \"description\": \"\"\n      }\n    },\n    {\n      \"column\": \"description\",\n      \"properties\": {\n        \"dtype\": \"category\",\n        \"num_unique_values\": 3,\n        \"samples\": [\n          \"840\",\n          \"It tells the story of an Indonesian revolutionary who falls in love with one of his Dutch prisoners.\",\n          \"1\"\n        ],\n        \"semantic_type\": \"\",\n        \"description\": \"\"\n      }\n    },\n    {\n      \"column\": \"genre\",\n      \"properties\": {\n        \"dtype\": \"category\",\n        \"num_unique_values\": 4,\n        \"samples\": [\n          15,\n          \"456\",\n          \"1236\"\n        ],\n        \"semantic_type\": \"\",\n        \"description\": \"\"\n      }\n    },\n    {\n      \"column\": \"rating\",\n      \"properties\": {\n        \"dtype\": \"category\",\n        \"num_unique_values\": 4,\n        \"samples\": [\n          11,\n          \"161\",\n          \"376\"\n        ],\n        \"semantic_type\": \"\",\n        \"description\": \"\"\n      }\n    },\n    {\n      \"column\": \"users_rating\",\n      \"properties\": {\n        \"dtype\": \"number\",\n        \"std\": 447.8631015683402,\n        \"min\": 1.2,\n        \"max\": 1272.0,\n        \"num_unique_values\": 8,\n        \"samples\": [\n          6.144418238993711,\n          6.4,\n          1272.0\n        ],\n        \"semantic_type\": \"\",\n        \"description\": \"\"\n      }\n    },\n    {\n      \"column\": \"votes\",\n      \"properties\": {\n        \"dtype\": \"category\",\n        \"num_unique_values\": 4,\n        \"samples\": [\n          312,\n          \"58\",\n          \"1272\"\n        ],\n        \"semantic_type\": \"\",\n        \"description\": \"\"\n      }\n    },\n    {\n      \"column\": \"languages\",\n      \"properties\": {\n        \"dtype\": \"category\",\n        \"num_unique_values\": 4,\n        \"samples\": [\n          8,\n          \"1241\",\n          \"1272\"\n        ],\n        \"semantic_type\": \"\",\n        \"description\": \"\"\n      }\n    },\n    {\n      \"column\": \"directors\",\n      \"properties\": {\n        \"dtype\": \"category\",\n        \"num_unique_values\": 4,\n        \"samples\": [\n          377,\n          \"61\",\n          \"1265\"\n        ],\n        \"semantic_type\": \"\",\n        \"description\": \"\"\n      }\n    },\n    {\n      \"column\": \"actors\",\n      \"properties\": {\n        \"dtype\": \"category\",\n        \"num_unique_values\": 4,\n        \"samples\": [\n          1266,\n          \"4\",\n          \"1272\"\n        ],\n        \"semantic_type\": \"\",\n        \"description\": \"\"\n      }\n    },\n    {\n      \"column\": \"runtime\",\n      \"properties\": {\n        \"dtype\": \"category\",\n        \"num_unique_values\": 4,\n        \"samples\": [\n          85,\n          \"109\",\n          \"869\"\n        ],\n        \"semantic_type\": \"\",\n        \"description\": \"\"\n      }\n    }\n  ]\n}"
            }
          },
          "metadata": {},
          "execution_count": 7
        }
      ]
    },
    {
      "cell_type": "markdown",
      "source": [
        "Insight :\n",
        "- **Data tidak sempurna:** Banyak missing value pada beberapa kolom (description, genre, rating, directors, runtime).\n",
        "- **Genre Drama dominan**\n",
        "- **Distribusi tahun:** Data meliputi film dari 1926 hingga 2020 dengan mayoritas film modern.\n",
        "- **Rata-rata rating pengguna cukup baik:** Mayoritas film mendapat rating pengguna di atas 6.\n",
        "- **Mayoritas film berdurasi 90 menit:** Ini adalah durasi paling umum film Indonesia di dataset.\n",
        "- **Sutradara dan aktor sangat bervariasi**"
      ],
      "metadata": {
        "id": "T_QGyPosCU8s"
      }
    },
    {
      "cell_type": "markdown",
      "source": [
        "# Data Cleaning"
      ],
      "metadata": {
        "id": "L_ExsjbSrdSd"
      }
    },
    {
      "cell_type": "code",
      "source": [
        "# Cek nilai yang kosong\n",
        "print(df.isnull().sum())"
      ],
      "metadata": {
        "colab": {
          "base_uri": "https://localhost:8080/"
        },
        "id": "AUtjYtud8tsJ",
        "outputId": "5e435786-6b4f-4dd0-c5c0-99ff8a8da184"
      },
      "execution_count": 8,
      "outputs": [
        {
          "output_type": "stream",
          "name": "stdout",
          "text": [
            "title             0\n",
            "year              0\n",
            "description     432\n",
            "genre            36\n",
            "rating          896\n",
            "users_rating      0\n",
            "votes             0\n",
            "languages         0\n",
            "directors         7\n",
            "actors            0\n",
            "runtime         403\n",
            "dtype: int64\n"
          ]
        }
      ]
    },
    {
      "cell_type": "code",
      "source": [
        "# Cek nilai duplikat\n",
        "print(f'\\njumlah duplikasi data : {df.duplicated().sum()}')"
      ],
      "metadata": {
        "colab": {
          "base_uri": "https://localhost:8080/"
        },
        "id": "c-AGNOo1hLxS",
        "outputId": "1cc54f67-ae3b-4fcb-87fd-f109d426601b"
      },
      "execution_count": 9,
      "outputs": [
        {
          "output_type": "stream",
          "name": "stdout",
          "text": [
            "\n",
            "jumlah duplikasi data : 0\n"
          ]
        }
      ]
    },
    {
      "cell_type": "markdown",
      "source": [
        "Dataset tidak mengandung data duplikat, namun memiliki sejumlah besar nilai yang hilang."
      ],
      "metadata": {
        "id": "5NrVXhqOCp_q"
      }
    },
    {
      "cell_type": "code",
      "source": [
        "# Kategori genre pada dataset\n",
        "print(f\"Data unik di kolom genre : {df['genre'].unique()} total ada {df['genre'].nunique()}\")\n",
        "\n",
        "# Kategori rating pada dataset\n",
        "print(f\"\\nData unik di kolom rating : {df['rating'].unique()} total ada {df['rating'].nunique()}\")"
      ],
      "metadata": {
        "colab": {
          "base_uri": "https://localhost:8080/"
        },
        "id": "e7RFj0ZaBreD",
        "outputId": "313f781c-ecfd-4ff1-fba4-01aaf7de2cee"
      },
      "execution_count": 10,
      "outputs": [
        {
          "output_type": "stream",
          "name": "stdout",
          "text": [
            "Data unik di kolom genre : ['Biography' 'Thriller' 'Horror' 'Adventure' 'Drama' 'Comedy' 'Animation'\n",
            " 'Action' 'History' 'Crime' 'Romance' 'Sci-Fi' 'Family' nan 'War'\n",
            " 'Fantasy'] total ada 15\n",
            "\n",
            "Data unik di kolom rating : ['13+' '17+' nan 'SU' 'TV-14' '21+' 'TV-MA' 'Not Rated' 'R' 'D' 'PG-13'\n",
            " 'Unrated'] total ada 11\n"
          ]
        }
      ]
    },
    {
      "cell_type": "markdown",
      "source": [
        "Meninjau setiap kategori dalam kolom kategorikal seperti genre dan rating untuk memperoleh pemahaman yang lebih baik sebelum melakukan penanganan terhadap nilai yang hilang."
      ],
      "metadata": {
        "id": "UMTPc929C7PU"
      }
    },
    {
      "cell_type": "code",
      "source": [
        "# Mengisi nilai kosong di kolom deskripsi dengan 'unknown'\n",
        "df['description'] = df['description'].fillna('Unknown')\n",
        "\n",
        "# Mengisi nilai kosong di kolom genre dengan 'unknown'\n",
        "df['genre'] = df['genre'].fillna('Unknown')\n",
        "\n",
        "# Mengisi nilai kosong di kolom rating\n",
        "df['rating'] = df['rating'].fillna(\"Unrated\")\n",
        "\n",
        "# Mengubah 11 kategori rating menjadi 5 kategori rating\n",
        "df['rating'] = df['rating'].replace({\n",
        "    \"Not Rated\": \"Unrated\",\n",
        "    \"PG-13\": \"13+\",\n",
        "    \"TV-14\": \"13+\",\n",
        "    \"TV-MA\": \"17+\",\n",
        "    \"R\": \"17+\",\n",
        "    \"D\": \"21+\"\n",
        "})\n",
        "\n",
        "# Mengisi nilai kosong di kolom directors dengan 'unknown'\n",
        "df['directors'] = df['directors'].fillna('unknown')\n",
        "\n",
        "# Mengisi nilai kosong di kolom runtime dengan 'unknown'\n",
        "df['runtime'] = df['runtime'].fillna('unknown')"
      ],
      "metadata": {
        "id": "FzUul5LS_INE"
      },
      "execution_count": 11,
      "outputs": []
    },
    {
      "cell_type": "markdown",
      "source": [
        "* Kolom 'description', 'genre', 'directors', dan 'runtime' ditangani dengan mengisi nilai yang kosong menggunakan teks 'Unknown', guna menjaga agar data potensial tetap dipertahankan dan tidak terbuang.\n",
        "* Kolom 'rating' disederhanakan dari 11 kategori menjadi hanya 5 kategori utama untuk memudahkan analisis, sementara film yang belum memiliki rating akan diberi label 'Unrated'."
      ],
      "metadata": {
        "id": "n5BlnD-kDR_e"
      }
    },
    {
      "cell_type": "code",
      "source": [
        "# mengubah kolom votes menjadi integer setelah menghapus koma\n",
        "df['votes'] = df['votes'].str.replace(',', '').astype(int)"
      ],
      "metadata": {
        "id": "oa-V6izfHOTW"
      },
      "execution_count": 12,
      "outputs": []
    },
    {
      "cell_type": "markdown",
      "source": [
        "Mengubah tipe data object pada kolom votes menjadi integer"
      ],
      "metadata": {
        "id": "9ZTPEjRpD5Mk"
      }
    },
    {
      "cell_type": "code",
      "source": [
        "# Cek informasi dataset setelah data cleaning\n",
        "df.info()"
      ],
      "metadata": {
        "colab": {
          "base_uri": "https://localhost:8080/"
        },
        "id": "SQ78VJSmGNxm",
        "outputId": "3f167df7-aeff-4c00-dba0-55bcd864e017"
      },
      "execution_count": 13,
      "outputs": [
        {
          "output_type": "stream",
          "name": "stdout",
          "text": [
            "<class 'pandas.core.frame.DataFrame'>\n",
            "RangeIndex: 1272 entries, 0 to 1271\n",
            "Data columns (total 11 columns):\n",
            " #   Column        Non-Null Count  Dtype  \n",
            "---  ------        --------------  -----  \n",
            " 0   title         1272 non-null   object \n",
            " 1   year          1272 non-null   int64  \n",
            " 2   description   1272 non-null   object \n",
            " 3   genre         1272 non-null   object \n",
            " 4   rating        1272 non-null   object \n",
            " 5   users_rating  1272 non-null   float64\n",
            " 6   votes         1272 non-null   int64  \n",
            " 7   languages     1272 non-null   object \n",
            " 8   directors     1272 non-null   object \n",
            " 9   actors        1272 non-null   object \n",
            " 10  runtime       1272 non-null   object \n",
            "dtypes: float64(1), int64(2), object(8)\n",
            "memory usage: 109.4+ KB\n"
          ]
        }
      ]
    },
    {
      "cell_type": "markdown",
      "source": [
        "# Exploratory Data Analysis (EDA)"
      ],
      "metadata": {
        "id": "q8_p2PoCrExy"
      }
    },
    {
      "cell_type": "markdown",
      "source": [
        "## Univariate EDA"
      ],
      "metadata": {
        "id": "SUHuLi5-rdKX"
      }
    },
    {
      "cell_type": "code",
      "source": [
        "sns.histplot(df['year'], bins=30, color='skyblue')\n",
        "plt.title('Distribusi Film per Tahun')\n",
        "plt.show()"
      ],
      "metadata": {
        "colab": {
          "base_uri": "https://localhost:8080/",
          "height": 472
        },
        "id": "LzaziOar8wz3",
        "outputId": "74eed8b4-d521-4e8b-a95e-66b01686045b"
      },
      "execution_count": 14,
      "outputs": [
        {
          "output_type": "display_data",
          "data": {
            "text/plain": [
              "<Figure size 640x480 with 1 Axes>"
            ],
            "image/png": "[encoded data removed]"
          },
          "metadata": {}
        }
      ]
    },
    {
      "cell_type": "markdown",
      "source": [
        "Visualisasi jumlah film yang dirilis setiap tahunnya memberikan gambaran tentang tren industri perfilman Indonesia, apakah sedang tumbuh, stagnan, atau menurun. Berdasarkan hasil plot, terlihat adanya lonjakan produksi film secara signifikan setelah tahun 2000, yang mengindikasikan kemajuan dan pertumbuhan positif dalam industri film nasional."
      ],
      "metadata": {
        "id": "EHgWJ_X4ET1Q"
      }
    },
    {
      "cell_type": "code",
      "source": [
        "df['genre'].value_counts().head(10).plot(kind='bar', color='skyblue')\n",
        "plt.title('Genre Film Terbanyak')\n",
        "plt.show()"
      ],
      "metadata": {
        "colab": {
          "base_uri": "https://localhost:8080/",
          "height": 530
        },
        "id": "sGCf9K4m_TnP",
        "outputId": "c9dd21eb-3084-4b9a-ac3a-3e86ac9b2ec5"
      },
      "execution_count": 15,
      "outputs": [
        {
          "output_type": "display_data",
          "data": {
            "text/plain": [
              "<Figure size 640x480 with 1 Axes>"
            ],
            "image/png": "[encoded data removed]"
          },
          "metadata": {}
        }
      ]
    },
    {
      "cell_type": "markdown",
      "source": [
        "Analisis ini mengidentifikasi genre yang paling umum atau paling sering diproduksi di industri film Indonesia. Dengan menghitung frekuensi kemunculan setiap genre, dapat diketahui genre-genre yang paling mendominasi dalam dataset. Hasil analisis menunjukkan bahwa genre seperti drama, komedi, dan horor merupakan genre yang paling populer dan banyak diproduksi."
      ],
      "metadata": {
        "id": "1OjYWH5LEjTP"
      }
    },
    {
      "cell_type": "code",
      "source": [
        "sns.histplot(df['users_rating'], bins=20, color='skyblue')\n",
        "plt.title('Distribusi User Rating')\n",
        "plt.show()"
      ],
      "metadata": {
        "colab": {
          "base_uri": "https://localhost:8080/",
          "height": 472
        },
        "id": "8SQ3HWjX_Vew",
        "outputId": "d59a1ed1-9bad-42f4-f0f6-b087d5926bb3"
      },
      "execution_count": 16,
      "outputs": [
        {
          "output_type": "display_data",
          "data": {
            "text/plain": [
              "<Figure size 640x480 with 1 Axes>"
            ],
            "image/png": "[encoded data removed]"
          },
          "metadata": {}
        }
      ]
    },
    {
      "cell_type": "markdown",
      "source": [
        "Distribusi ini memberikan gambaran mengenai bagaimana pengguna menilai film-film Indonesia. Dari sebaran nilai users_rating, terlihat bahwa sebagian besar film memperoleh rating antara 6 hingga 7. Pola ini tidak hanya mencerminkan persepsi umum penonton, tetapi juga berguna dalam menetapkan ambang batas (threshold) relevansi saat proses evaluasi dilakukan."
      ],
      "metadata": {
        "id": "FLcJSR3DEwN7"
      }
    },
    {
      "cell_type": "code",
      "source": [
        "df['rating'].value_counts().head(10).plot(kind='bar', color='skyblue')\n",
        "plt.title('Rating Kategori Film Terbanyak')\n",
        "plt.ylabel('Jumlah')\n",
        "plt.xticks(rotation=45)\n",
        "plt.tight_layout()\n",
        "plt.show()"
      ],
      "metadata": {
        "colab": {
          "base_uri": "https://localhost:8080/",
          "height": 487
        },
        "id": "fYfPIjOnIAJr",
        "outputId": "00ecbf74-c470-40c3-adb7-1f7829acec13"
      },
      "execution_count": 17,
      "outputs": [
        {
          "output_type": "display_data",
          "data": {
            "text/plain": [
              "<Figure size 640x480 with 1 Axes>"
            ],
            "image/png": "[encoded data removed]"
          },
          "metadata": {}
        }
      ]
    },
    {
      "cell_type": "markdown",
      "source": [
        "Kategori rating mengacu pada klasifikasi umur atau konten (seperti SU, 13+, 17+, dsb). Analisis ini memeriksa bagaimana distribusi film berdasarkan kategori rating, yang penting untuk memastikan sistem rekomendasi tidak merekomendasikan film yang tidak sesuai dengan preferensi usia pengguna."
      ],
      "metadata": {
        "id": "e39ZF4oGFCdz"
      }
    },
    {
      "cell_type": "markdown",
      "source": [
        "## Multivariate EDA"
      ],
      "metadata": {
        "id": "n0u2kJemrw7R"
      }
    },
    {
      "cell_type": "code",
      "source": [
        "for genre in df[\"genre\"].unique():\n",
        "    data = df[df[\"genre\"] == genre]\n",
        "    print(\"Film populer dengan genre\", genre, \"=\", data.sort_values(\"users_rating\", ascending = False).head(1)[\"title\"].values[0])"
      ],
      "metadata": {
        "colab": {
          "base_uri": "https://localhost:8080/"
        },
        "id": "15ZMC2LBIgtY",
        "outputId": "0a5092a3-276a-45b8-a702-bee7e0e84093"
      },
      "execution_count": 18,
      "outputs": [
        {
          "output_type": "stream",
          "name": "stdout",
          "text": [
            "Film populer dengan genre Biography = Wage\n",
            "Film populer dengan genre Thriller = Fiksi.\n",
            "Film populer dengan genre Horror = Malam Jumat Kliwon\n",
            "Film populer dengan genre Adventure = Anak Garuda\n",
            "Film populer dengan genre Drama = Salisiah Adaik\n",
            "Film populer dengan genre Comedy = Horas Amang: Tiga Bulan Untuk Selamanya\n",
            "Film populer dengan genre Animation = November 10th\n",
            "Film populer dengan genre Action = Merah Putih Memanggil\n",
            "Film populer dengan genre History = Moonrise Over Egypt\n",
            "Film populer dengan genre Crime = Leaf on a Pillow\n",
            "Film populer dengan genre Romance = Turis Romantis\n",
            "Film populer dengan genre Sci-Fi = Kurung Manuk (Bird Cage)\n",
            "Film populer dengan genre Family = Lima Elang\n",
            "Film populer dengan genre Unknown = Lupus\n",
            "Film populer dengan genre War = Tropic of Emerald\n",
            "Film populer dengan genre Fantasy = Loetoeng Kasaroeng\n"
          ]
        }
      ]
    },
    {
      "cell_type": "markdown",
      "source": [
        "Analisis ini mengeksplorasi hubungan antara tingkat popularitas (user_rating) dan genre film, dengan tujuan mengidentifikasi genre yang cenderung menghasilkan film-film yang disukai oleh pengguna. Informasi ini berguna untuk menentukan genre-genre yang potensial dan layak menjadi fokus utama dalam pengembangan sistem rekomendasi."
      ],
      "metadata": {
        "id": "pcJj8CgVFQ9p"
      }
    },
    {
      "cell_type": "code",
      "source": [
        "df.groupby('genre')['users_rating'].mean().sort_values(ascending=False).head(10).plot(kind='barh', color='skyblue')\n",
        "plt.title('Rata-rata User Rating per Genre')\n",
        "plt.xlabel('Rata-rata Rating')\n",
        "plt.tight_layout()\n",
        "plt.show()"
      ],
      "metadata": {
        "colab": {
          "base_uri": "https://localhost:8080/",
          "height": 487
        },
        "id": "pykRLZdX8ycN",
        "outputId": "db182d1c-f8cf-4196-aa01-c027c7807f10"
      },
      "execution_count": 19,
      "outputs": [
        {
          "output_type": "display_data",
          "data": {
            "text/plain": [
              "<Figure size 640x480 with 1 Axes>"
            ],
            "image/png": "[encoded data removed]"
          },
          "metadata": {}
        }
      ]
    },
    {
      "cell_type": "markdown",
      "source": [
        "Analisis ini bertujuan untuk mengidentifikasi genre dengan rata-rata penilaian pengguna tertinggi, di mana genre 'History' menempati posisi teratas. Genre-genre dengan rata-rata rating yang tinggi dapat dianggap memiliki kualitas konten yang unggul dan berpotensi tinggi untuk menarik minat penonton."
      ],
      "metadata": {
        "id": "gek9DcoVFUOp"
      }
    },
    {
      "cell_type": "markdown",
      "source": [
        "# Data Preparation"
      ],
      "metadata": {
        "id": "MDNtwW63rFCG"
      }
    },
    {
      "cell_type": "markdown",
      "source": [
        "Menggabungkan kolom title, description, genre sebagai acuan untuk TF-IDF Vectorizer"
      ],
      "metadata": {
        "id": "HRCdgeQmM43c"
      }
    },
    {
      "cell_type": "code",
      "source": [
        "# menggabungkan kolom title, description, genre\n",
        "df['combined'] = df['title'] + ' ' + df['description'] + ' ' + df['genre']"
      ],
      "metadata": {
        "id": "ivBsn_r-80un"
      },
      "execution_count": 20,
      "outputs": []
    },
    {
      "cell_type": "code",
      "source": [
        "# menggunakan teknik TF-IDF pada kolom yang digabungkan sebelumnya\n",
        "tfidf = TfidfVectorizer(stop_words='english')\n",
        "tfidf_matrix = tfidf.fit_transform(df['combined'])\n",
        "\n",
        "# Melihat ukuran matrix tfidf\n",
        "tfidf_matrix.shape"
      ],
      "metadata": {
        "id": "C5d8eS4k_hDj",
        "colab": {
          "base_uri": "https://localhost:8080/"
        },
        "outputId": "e6106995-026e-42f1-9b9e-b5e310b9de10"
      },
      "execution_count": 21,
      "outputs": [
        {
          "output_type": "execute_result",
          "data": {
            "text/plain": [
              "(1272, 6263)"
            ]
          },
          "metadata": {},
          "execution_count": 21
        }
      ]
    },
    {
      "cell_type": "markdown",
      "source": [
        "* TfidfVectorizer digunakan untuk mengubah kumpulan dokumen teks mentah menjadi representasi numerik berupa matriks fitur TF-IDF (Term Frequency–Inverse Document Frequency), yang mencerminkan pentingnya kata-kata dalam dokumen relatif terhadap seluruh korpus.\n",
        "\n",
        "* Pengaturan parameter stop_words='english' menginstruksikan vektorizer untuk mengabaikan kata-kata umum dalam bahasa Inggris (seperti \"the\", \"is\", \"and\", \"a\", dll.). Kata-kata ini biasanya tidak memberikan informasi yang signifikan dan dapat mengaburkan makna sebenarnya dalam analisis teks. Dengan menghapusnya, model dapat lebih fokus pada kata-kata yang lebih bermakna dan informatif."
      ],
      "metadata": {
        "id": "GMZg4uLhN8jD"
      }
    },
    {
      "cell_type": "code",
      "source": [
        "# Mengubah vektor tf-idf dalam bentuk matriks dengan fungsi todense()\n",
        "tfidf_matrix.todense()"
      ],
      "metadata": {
        "colab": {
          "base_uri": "https://localhost:8080/"
        },
        "id": "ToZluD88d70h",
        "outputId": "0838eb6c-bb96-456c-eaff-082212c497a8"
      },
      "execution_count": 22,
      "outputs": [
        {
          "output_type": "execute_result",
          "data": {
            "text/plain": [
              "matrix([[0., 0., 0., ..., 0., 0., 0.],\n",
              "        [0., 0., 0., ..., 0., 0., 0.],\n",
              "        [0., 0., 0., ..., 0., 0., 0.],\n",
              "        ...,\n",
              "        [0., 0., 0., ..., 0., 0., 0.],\n",
              "        [0., 0., 0., ..., 0., 0., 0.],\n",
              "        [0., 0., 0., ..., 0., 0., 0.]])"
            ]
          },
          "metadata": {},
          "execution_count": 22
        }
      ]
    },
    {
      "cell_type": "code",
      "source": [
        "# Melakukan normalisasi dengan Normalizer\n",
        "normalizer = Normalizer()\n",
        "tfidf_norm = normalizer.fit_transform(tfidf_matrix)"
      ],
      "metadata": {
        "id": "Qj0ZLsH6_jM7"
      },
      "execution_count": 23,
      "outputs": []
    },
    {
      "cell_type": "markdown",
      "source": [
        "TF-IDF yang sudah dinormalisasi menggunakan Normalizer berfungsi untuk setiap baris dalam matriks ini sekarang mewakili dokumen, dan panjang vektor untuk setiap dokumen adalah 1."
      ],
      "metadata": {
        "id": "T8zwFKPBOULR"
      }
    },
    {
      "cell_type": "markdown",
      "source": [
        "# Model Development : Content based filtering"
      ],
      "metadata": {
        "id": "wb2xgIJWrFPc"
      }
    },
    {
      "cell_type": "code",
      "source": [
        "# membuat model menggunakan cosine similarity\n",
        "similarity_cb = cosine_similarity(tfidf_norm)\n",
        "similarity_cb"
      ],
      "metadata": {
        "id": "659csBIC84p-",
        "colab": {
          "base_uri": "https://localhost:8080/"
        },
        "outputId": "371b2b58-5c7a-4478-84f2-90ab59c379f6"
      },
      "execution_count": 24,
      "outputs": [
        {
          "output_type": "execute_result",
          "data": {
            "text/plain": [
              "array([[1.        , 0.        , 0.        , ..., 0.        , 0.        ,\n",
              "        0.        ],\n",
              "       [0.        , 1.        , 0.03508161, ..., 0.        , 0.        ,\n",
              "        0.        ],\n",
              "       [0.        , 0.03508161, 1.        , ..., 0.        , 0.        ,\n",
              "        0.        ],\n",
              "       ...,\n",
              "       [0.        , 0.        , 0.        , ..., 1.        , 0.        ,\n",
              "        0.        ],\n",
              "       [0.        , 0.        , 0.        , ..., 0.        , 1.        ,\n",
              "        0.03014689],\n",
              "       [0.        , 0.        , 0.        , ..., 0.        , 0.03014689,\n",
              "        1.        ]])"
            ]
          },
          "metadata": {},
          "execution_count": 24
        }
      ]
    },
    {
      "cell_type": "markdown",
      "source": [
        "Cosine similarity adalah metrik yang digunakan untuk mengukur kemiripan antara dua vektor non-nol dalam ruang produk skalar. Dalam konteks pengolahan bahasa alami (NLP).\n",
        "\n",
        "* Bagaimana cara kerjanya?\n",
        "\n",
        "Setiap dokumen diubah menjadi vektor dalam ruang berdimensi tinggi, dengan setiap dimensi mewakili kata unik. Cosine similarity digunakan untuk mengukur kemiripan antara dua vektor dengan menghitung kosinus sudut di antara keduanya. Nilai cosine similarity berada dalam rentang -1 hingga 1:\n",
        "\n",
        "1: Menunjukkan bahwa kedua vektor (dokumen) sangat mirip atau identik, dengan sudut antara keduanya adalah 0 derajat.\n",
        "\n",
        "0: Menunjukkan bahwa kedua vektor (dokumen) tidak terkait sama sekali atau saling tegak lurus, dengan sudut antara keduanya adalah 90 derajat.\n",
        "\n",
        "-1: Menunjukkan bahwa kedua vektor (dokumen) sangat berlawanan, dengan sudut antara keduanya adalah 180 derajat.\n",
        "\n",
        "**Karena vektor TF-IDF yang sudah dinormalisasi biasanya hanya memiliki nilai positif (atau nol), maka nilai cosine similarity-nya akan berkisar antara 0 dan 1.**"
      ],
      "metadata": {
        "id": "Hkl0kLRmO5s2"
      }
    },
    {
      "cell_type": "code",
      "source": [
        "# Menyimpan nilai simalarity ke dalam dataframe\n",
        "similarity_df = pd.DataFrame(similarity_cb, index=df['title'], columns=df['title'])"
      ],
      "metadata": {
        "id": "Ssxm8JRqKBLA"
      },
      "execution_count": 25,
      "outputs": []
    },
    {
      "cell_type": "markdown",
      "source": [
        "Menyimpan perhitungan cosine similarity ke dalam dataframe untuk melihat nilai kemiripan konten pada film"
      ],
      "metadata": {
        "id": "ohutDrwBKeL3"
      }
    },
    {
      "cell_type": "markdown",
      "source": [
        "# Testing Model"
      ],
      "metadata": {
        "id": "x0CMwbPfsF8k"
      }
    },
    {
      "cell_type": "code",
      "source": [
        "def recommend_movies(title, n=10):\n",
        "    if title not in similarity_df.columns:\n",
        "        return f\"Judul film '{title}' tidak ditemukan.\"\n",
        "\n",
        "    similar_movies = similarity_df[title].sort_values(ascending=False)[1:n+1]\n",
        "    return pd.DataFrame({\n",
        "        'Rekomendasi': similar_movies.index,\n",
        "        'Skor Similarity': similar_movies.values\n",
        "    })\n",
        "\n",
        "# Film yang mirip dilan\n",
        "recommend_movies('Dilan 1991', 10)"
      ],
      "metadata": {
        "colab": {
          "base_uri": "https://localhost:8080/",
          "height": 363
        },
        "id": "jcYp2VsM85x-",
        "outputId": "e677b5e4-a6b5-4d88-d268-01166a5b448c"
      },
      "execution_count": 26,
      "outputs": [
        {
          "output_type": "execute_result",
          "data": {
            "text/plain": [
              "                         Rekomendasi  Skor Similarity\n",
              "0                              Milea         0.489681\n",
              "1                         Dilan 1990         0.424312\n",
              "2                         Kera Sakti         0.117860\n",
              "3                  Serigala Terakhir         0.106119\n",
              "4                 The Tarix Jabrix 3         0.085149\n",
              "5                   The Tarix Jabrix         0.082189\n",
              "6              Misteri Janda Kembang         0.076466\n",
              "7                         Sweetheart         0.073403\n",
              "8                             Senior         0.067181\n",
              "9  Marlina the Murderer in Four Acts         0.065813"
            ],
            "text/html": [
              "\n",
              "  <div id=\"df-f8008d0b-5fa3-4bcb-812b-93b2e887586d\" class=\"colab-df-container\">\n",
              "    <div>\n",
              "<style scoped>\n",
              "    .dataframe tbody tr th:only-of-type {\n",
              "        vertical-align: middle;\n",
              "    }\n",
              "\n",
              "    .dataframe tbody tr th {\n",
              "        vertical-align: top;\n",
              "    }\n",
              "\n",
              "    .dataframe thead th {\n",
              "        text-align: right;\n",
              "    }\n",
              "</style>\n",
              "<table border=\"1\" class=\"dataframe\">\n",
              "  <thead>\n",
              "    <tr style=\"text-align: right;\">\n",
              "      <th></th>\n",
              "      <th>Rekomendasi</th>\n",
              "      <th>Skor Similarity</th>\n",
              "    </tr>\n",
              "  </thead>\n",
              "  <tbody>\n",
              "    <tr>\n",
              "      <th>0</th>\n",
              "      <td>Milea</td>\n",
              "      <td>0.489681</td>\n",
              "    </tr>\n",
              "    <tr>\n",
              "      <th>1</th>\n",
              "      <td>Dilan 1990</td>\n",
              "      <td>0.424312</td>\n",
              "    </tr>\n",
              "    <tr>\n",
              "      <th>2</th>\n",
              "      <td>Kera Sakti</td>\n",
              "      <td>0.117860</td>\n",
              "    </tr>\n",
              "    <tr>\n",
              "      <th>3</th>\n",
              "      <td>Serigala Terakhir</td>\n",
              "      <td>0.106119</td>\n",
              "    </tr>\n",
              "    <tr>\n",
              "      <th>4</th>\n",
              "      <td>The Tarix Jabrix 3</td>\n",
              "      <td>0.085149</td>\n",
              "    </tr>\n",
              "    <tr>\n",
              "      <th>5</th>\n",
              "      <td>The Tarix Jabrix</td>\n",
              "      <td>0.082189</td>\n",
              "    </tr>\n",
              "    <tr>\n",
              "      <th>6</th>\n",
              "      <td>Misteri Janda Kembang</td>\n",
              "      <td>0.076466</td>\n",
              "    </tr>\n",
              "    <tr>\n",
              "      <th>7</th>\n",
              "      <td>Sweetheart</td>\n",
              "      <td>0.073403</td>\n",
              "    </tr>\n",
              "    <tr>\n",
              "      <th>8</th>\n",
              "      <td>Senior</td>\n",
              "      <td>0.067181</td>\n",
              "    </tr>\n",
              "    <tr>\n",
              "      <th>9</th>\n",
              "      <td>Marlina the Murderer in Four Acts</td>\n",
              "      <td>0.065813</td>\n",
              "    </tr>\n",
              "  </tbody>\n",
              "</table>\n",
              "</div>\n",
              "    <div class=\"colab-df-buttons\">\n",
              "\n",
              "  <div class=\"colab-df-container\">\n",
              "    <button class=\"colab-df-convert\" onclick=\"convertToInteractive('df-f8008d0b-5fa3-4bcb-812b-93b2e887586d')\"\n",
              "            title=\"Convert this dataframe to an interactive table.\"\n",
              "            style=\"display:none;\">\n",
              "\n",
              "  <svg xmlns=\"http://www.w3.org/2000/svg\" height=\"24px\" viewBox=\"0 -960 960 960\">\n",
              "    <path d=\"M120-120v-720h720v720H120Zm60-500h600v-160H180v160Zm220 220h160v-160H400v160Zm0 220h160v-160H400v160ZM180-400h160v-160H180v160Zm440 0h160v-160H620v160ZM180-180h160v-160H180v160Zm440 0h160v-160H620v160Z\"/>\n",
              "  </svg>\n",
              "    </button>\n",
              "\n",
              "  <style>\n",
              "    .colab-df-container {\n",
              "      display:flex;\n",
              "      gap: 12px;\n",
              "    }\n",
              "\n",
              "    .colab-df-convert {\n",
              "      background-color: #E8F0FE;\n",
              "      border: none;\n",
              "      border-radius: 50%;\n",
              "      cursor: pointer;\n",
              "      display: none;\n",
              "      fill: #1967D2;\n",
              "      height: 32px;\n",
              "      padding: 0 0 0 0;\n",
              "      width: 32px;\n",
              "    }\n",
              "\n",
              "    .colab-df-convert:hover {\n",
              "      background-color: #E2EBFA;\n",
              "      box-shadow: 0px 1px 2px rgba(60, 64, 67, 0.3), 0px 1px 3px 1px rgba(60, 64, 67, 0.15);\n",
              "      fill: #174EA6;\n",
              "    }\n",
              "\n",
              "    .colab-df-buttons div {\n",
              "      margin-bottom: 4px;\n",
              "    }\n",
              "\n",
              "    [theme=dark] .colab-df-convert {\n",
              "      background-color: #3B4455;\n",
              "      fill: #D2E3FC;\n",
              "    }\n",
              "\n",
              "    [theme=dark] .colab-df-convert:hover {\n",
              "      background-color: #434B5C;\n",
              "      box-shadow: 0px 1px 3px 1px rgba(0, 0, 0, 0.15);\n",
              "      filter: drop-shadow(0px 1px 2px rgba(0, 0, 0, 0.3));\n",
              "      fill: #FFFFFF;\n",
              "    }\n",
              "  </style>\n",
              "\n",
              "    <script>\n",
              "      const buttonEl =\n",
              "        document.querySelector('#df-f8008d0b-5fa3-4bcb-812b-93b2e887586d button.colab-df-convert');\n",
              "      buttonEl.style.display =\n",
              "        google.colab.kernel.accessAllowed ? 'block' : 'none';\n",
              "\n",
              "      async function convertToInteractive(key) {\n",
              "        const element = document.querySelector('#df-f8008d0b-5fa3-4bcb-812b-93b2e887586d');\n",
              "        const dataTable =\n",
              "          await google.colab.kernel.invokeFunction('convertToInteractive',\n",
              "                                                    [key], {});\n",
              "        if (!dataTable) return;\n",
              "\n",
              "        const docLinkHtml = 'Like what you see? Visit the ' +\n",
              "          '<a target=\"_blank\" href=https://colab.research.google.com/notebooks/data_table.ipynb>data table notebook</a>'\n",
              "          + ' to learn more about interactive tables.';\n",
              "        element.innerHTML = '';\n",
              "        dataTable['output_type'] = 'display_data';\n",
              "        await google.colab.output.renderOutput(dataTable, element);\n",
              "        const docLink = document.createElement('div');\n",
              "        docLink.innerHTML = docLinkHtml;\n",
              "        element.appendChild(docLink);\n",
              "      }\n",
              "    </script>\n",
              "  </div>\n",
              "\n",
              "\n",
              "    <div id=\"df-ef44ca95-e8d1-452f-8953-4ca94a242f2a\">\n",
              "      <button class=\"colab-df-quickchart\" onclick=\"quickchart('df-ef44ca95-e8d1-452f-8953-4ca94a242f2a')\"\n",
              "                title=\"Suggest charts\"\n",
              "                style=\"display:none;\">\n",
              "\n",
              "<svg xmlns=\"http://www.w3.org/2000/svg\" height=\"24px\"viewBox=\"0 0 24 24\"\n",
              "     width=\"24px\">\n",
              "    <g>\n",
              "        <path d=\"M19 3H5c-1.1 0-2 .9-2 2v14c0 1.1.9 2 2 2h14c1.1 0 2-.9 2-2V5c0-1.1-.9-2-2-2zM9 17H7v-7h2v7zm4 0h-2V7h2v10zm4 0h-2v-4h2v4z\"/>\n",
              "    </g>\n",
              "</svg>\n",
              "      </button>\n",
              "\n",
              "<style>\n",
              "  .colab-df-quickchart {\n",
              "      --bg-color: #E8F0FE;\n",
              "      --fill-color: #1967D2;\n",
              "      --hover-bg-color: #E2EBFA;\n",
              "      --hover-fill-color: #174EA6;\n",
              "      --disabled-fill-color: #AAA;\n",
              "      --disabled-bg-color: #DDD;\n",
              "  }\n",
              "\n",
              "  [theme=dark] .colab-df-quickchart {\n",
              "      --bg-color: #3B4455;\n",
              "      --fill-color: #D2E3FC;\n",
              "      --hover-bg-color: #434B5C;\n",
              "      --hover-fill-color: #FFFFFF;\n",
              "      --disabled-bg-color: #3B4455;\n",
              "      --disabled-fill-color: #666;\n",
              "  }\n",
              "\n",
              "  .colab-df-quickchart {\n",
              "    background-color: var(--bg-color);\n",
              "    border: none;\n",
              "    border-radius: 50%;\n",
              "    cursor: pointer;\n",
              "    display: none;\n",
              "    fill: var(--fill-color);\n",
              "    height: 32px;\n",
              "    padding: 0;\n",
              "    width: 32px;\n",
              "  }\n",
              "\n",
              "  .colab-df-quickchart:hover {\n",
              "    background-color: var(--hover-bg-color);\n",
              "    box-shadow: 0 1px 2px rgba(60, 64, 67, 0.3), 0 1px 3px 1px rgba(60, 64, 67, 0.15);\n",
              "    fill: var(--button-hover-fill-color);\n",
              "  }\n",
              "\n",
              "  .colab-df-quickchart-complete:disabled,\n",
              "  .colab-df-quickchart-complete:disabled:hover {\n",
              "    background-color: var(--disabled-bg-color);\n",
              "    fill: var(--disabled-fill-color);\n",
              "    box-shadow: none;\n",
              "  }\n",
              "\n",
              "  .colab-df-spinner {\n",
              "    border: 2px solid var(--fill-color);\n",
              "    border-color: transparent;\n",
              "    border-bottom-color: var(--fill-color);\n",
              "    animation:\n",
              "      spin 1s steps(1) infinite;\n",
              "  }\n",
              "\n",
              "  @keyframes spin {\n",
              "    0% {\n",
              "      border-color: transparent;\n",
              "      border-bottom-color: var(--fill-color);\n",
              "      border-left-color: var(--fill-color);\n",
              "    }\n",
              "    20% {\n",
              "      border-color: transparent;\n",
              "      border-left-color: var(--fill-color);\n",
              "      border-top-color: var(--fill-color);\n",
              "    }\n",
              "    30% {\n",
              "      border-color: transparent;\n",
              "      border-left-color: var(--fill-color);\n",
              "      border-top-color: var(--fill-color);\n",
              "      border-right-color: var(--fill-color);\n",
              "    }\n",
              "    40% {\n",
              "      border-color: transparent;\n",
              "      border-right-color: var(--fill-color);\n",
              "      border-top-color: var(--fill-color);\n",
              "    }\n",
              "    60% {\n",
              "      border-color: transparent;\n",
              "      border-right-color: var(--fill-color);\n",
              "    }\n",
              "    80% {\n",
              "      border-color: transparent;\n",
              "      border-right-color: var(--fill-color);\n",
              "      border-bottom-color: var(--fill-color);\n",
              "    }\n",
              "    90% {\n",
              "      border-color: transparent;\n",
              "      border-bottom-color: var(--fill-color);\n",
              "    }\n",
              "  }\n",
              "</style>\n",
              "\n",
              "      <script>\n",
              "        async function quickchart(key) {\n",
              "          const quickchartButtonEl =\n",
              "            document.querySelector('#' + key + ' button');\n",
              "          quickchartButtonEl.disabled = true;  // To prevent multiple clicks.\n",
              "          quickchartButtonEl.classList.add('colab-df-spinner');\n",
              "          try {\n",
              "            const charts = await google.colab.kernel.invokeFunction(\n",
              "                'suggestCharts', [key], {});\n",
              "          } catch (error) {\n",
              "            console.error('Error during call to suggestCharts:', error);\n",
              "          }\n",
              "          quickchartButtonEl.classList.remove('colab-df-spinner');\n",
              "          quickchartButtonEl.classList.add('colab-df-quickchart-complete');\n",
              "        }\n",
              "        (() => {\n",
              "          let quickchartButtonEl =\n",
              "            document.querySelector('#df-ef44ca95-e8d1-452f-8953-4ca94a242f2a button');\n",
              "          quickchartButtonEl.style.display =\n",
              "            google.colab.kernel.accessAllowed ? 'block' : 'none';\n",
              "        })();\n",
              "      </script>\n",
              "    </div>\n",
              "\n",
              "    </div>\n",
              "  </div>\n"
            ],
            "application/vnd.google.colaboratory.intrinsic+json": {
              "type": "dataframe",
              "summary": "{\n  \"name\": \"recommend_movies('Dilan 1991', 10)\",\n  \"rows\": 10,\n  \"fields\": [\n    {\n      \"column\": \"Rekomendasi\",\n      \"properties\": {\n        \"dtype\": \"string\",\n        \"num_unique_values\": 10,\n        \"samples\": [\n          \"Senior\",\n          \"Dilan 1990\",\n          \"The Tarix Jabrix\"\n        ],\n        \"semantic_type\": \"\",\n        \"description\": \"\"\n      }\n    },\n    {\n      \"column\": \"Skor Similarity\",\n      \"properties\": {\n        \"dtype\": \"number\",\n        \"std\": 0.1587576103060046,\n        \"min\": 0.06581288039574536,\n        \"max\": 0.48968090865485264,\n        \"num_unique_values\": 10,\n        \"samples\": [\n          0.06718100641393186,\n          0.42431169595741225,\n          0.08218932302311943\n        ],\n        \"semantic_type\": \"\",\n        \"description\": \"\"\n      }\n    }\n  ]\n}"
            }
          },
          "metadata": {},
          "execution_count": 26
        }
      ]
    },
    {
      "cell_type": "markdown",
      "source": [
        "Dari testing model untuk Rekomendasi film yang mirip dengan dilan 1991 yaitu ada Milea dan Dilan 1990 yang merupakan film yang memiliki keterkaitan dengan dilan 1991 dengan kemiripan 0.49 dan 0.42 , lalu selanjutnya ada Kera Sakti\t dengan skor similarity 0.12."
      ],
      "metadata": {
        "id": "XJzwRDP3S7G_"
      }
    },
    {
      "cell_type": "markdown",
      "source": [
        "# Model Evaluation"
      ],
      "metadata": {
        "id": "u77aAgRarFma"
      }
    },
    {
      "cell_type": "code",
      "source": [
        "# Menampilkan dataframe\n",
        "similarity_df.head()"
      ],
      "metadata": {
        "colab": {
          "base_uri": "https://localhost:8080/",
          "height": 319
        },
        "id": "exINci72lkQT",
        "outputId": "117bc247-9bb4-4ccb-fe17-75f0bb34ba5d"
      },
      "execution_count": 27,
      "outputs": [
        {
          "output_type": "execute_result",
          "data": {
            "text/plain": [
              "title                     #FriendButMarried 2  4 Mantan  \\\n",
              "title                                                     \n",
              "#FriendButMarried 2                       1.0  0.000000   \n",
              "4 Mantan                                  0.0  1.000000   \n",
              "Aku Tahu Kapan Kamu Mati                  0.0  0.035082   \n",
              "Anak Garuda                               0.0  0.000000   \n",
              "Dignitate                                 0.0  0.000000   \n",
              "\n",
              "title                     Aku Tahu Kapan Kamu Mati  Anak Garuda  Dignitate  \\\n",
              "title                                                                        \n",
              "#FriendButMarried 2                       0.000000      0.00000    0.00000   \n",
              "4 Mantan                                  0.035082      0.00000    0.00000   \n",
              "Aku Tahu Kapan Kamu Mati                  1.000000      0.00000    0.00000   \n",
              "Anak Garuda                               0.000000      1.00000    0.01947   \n",
              "Dignitate                                 0.000000      0.01947    1.00000   \n",
              "\n",
              "title                     Guru-Guru Gokil  \\\n",
              "title                                       \n",
              "#FriendButMarried 2              0.000000   \n",
              "4 Mantan                         0.000000   \n",
              "Aku Tahu Kapan Kamu Mati         0.000000   \n",
              "Anak Garuda                      0.018243   \n",
              "Dignitate                        0.042979   \n",
              "\n",
              "title                     Hunter in the Blue Side of Manchester     Janin  \\\n",
              "title                                                                       \n",
              "#FriendButMarried 2                                    0.024546  0.000000   \n",
              "4 Mantan                                               0.000000  0.000000   \n",
              "Aku Tahu Kapan Kamu Mati                               0.000000  0.007786   \n",
              "Anak Garuda                                            0.000000  0.000000   \n",
              "Dignitate                                              0.000000  0.000000   \n",
              "\n",
              "title                     Mangkujiwo  Mariposa  ...  Pedjuang  Asrama Dara  \\\n",
              "title                                           ...                          \n",
              "#FriendButMarried 2         0.000000  0.000000  ...       0.0     0.000000   \n",
              "4 Mantan                    0.000000  0.000000  ...       0.0     0.000000   \n",
              "Aku Tahu Kapan Kamu Mati    0.016297  0.000000  ...       0.0     0.000000   \n",
              "Anak Garuda                 0.000000  0.000000  ...       0.0     0.000000   \n",
              "Dignitate                   0.000000  0.004258  ...       0.0     0.008003   \n",
              "\n",
              "title                     Tiga Dara  Tamu Agung  Lewat Djam Malam  \\\n",
              "title                                                               \n",
              "#FriendButMarried 2          0.0000         0.0          0.000000   \n",
              "4 Mantan                     0.0000         0.0          0.000000   \n",
              "Aku Tahu Kapan Kamu Mati     0.0000         0.0          0.000000   \n",
              "Anak Garuda                  0.0667         0.0          0.000000   \n",
              "Dignitate                    0.0000         0.0          0.035941   \n",
              "\n",
              "title                     The Tiger from Tjampa  Enam Djam di Djogja  \\\n",
              "title                                                                  \n",
              "#FriendButMarried 2                    0.000000             0.000000   \n",
              "4 Mantan                               0.000000             0.000000   \n",
              "Aku Tahu Kapan Kamu Mati               0.000000             0.000000   \n",
              "Anak Garuda                            0.000000             0.000000   \n",
              "Dignitate                              0.004604             0.005129   \n",
              "\n",
              "title                     Darah dan Doa  Resia Boroboedoer  Loetoeng Kasaroeng  \n",
              "title                                                                           \n",
              "#FriendButMarried 2            0.000000           0.000000                 0.0  \n",
              "4 Mantan                       0.000000           0.000000                 0.0  \n",
              "Aku Tahu Kapan Kamu Mati       0.000000           0.000000                 0.0  \n",
              "Anak Garuda                    0.019352           0.051245                 0.0  \n",
              "Dignitate                      0.008169           0.000000                 0.0  \n",
              "\n",
              "[5 rows x 1272 columns]"
            ],
            "text/html": [
              "\n",
              "  <div id=\"df-adbddb1e-80a2-4841-9136-3003240eb46f\" class=\"colab-df-container\">\n",
              "    <div>\n",
              "<style scoped>\n",
              "    .dataframe tbody tr th:only-of-type {\n",
              "        vertical-align: middle;\n",
              "    }\n",
              "\n",
              "    .dataframe tbody tr th {\n",
              "        vertical-align: top;\n",
              "    }\n",
              "\n",
              "    .dataframe thead th {\n",
              "        text-align: right;\n",
              "    }\n",
              "</style>\n",
              "<table border=\"1\" class=\"dataframe\">\n",
              "  <thead>\n",
              "    <tr style=\"text-align: right;\">\n",
              "      <th>title</th>\n",
              "      <th>#FriendButMarried 2</th>\n",
              "      <th>4 Mantan</th>\n",
              "      <th>Aku Tahu Kapan Kamu Mati</th>\n",
              "      <th>Anak Garuda</th>\n",
              "      <th>Dignitate</th>\n",
              "      <th>Guru-Guru Gokil</th>\n",
              "      <th>Hunter in the Blue Side of Manchester</th>\n",
              "      <th>Janin</th>\n",
              "      <th>Mangkujiwo</th>\n",
              "      <th>Mariposa</th>\n",
              "      <th>...</th>\n",
              "      <th>Pedjuang</th>\n",
              "      <th>Asrama Dara</th>\n",
              "      <th>Tiga Dara</th>\n",
              "      <th>Tamu Agung</th>\n",
              "      <th>Lewat Djam Malam</th>\n",
              "      <th>The Tiger from Tjampa</th>\n",
              "      <th>Enam Djam di Djogja</th>\n",
              "      <th>Darah dan Doa</th>\n",
              "      <th>Resia Boroboedoer</th>\n",
              "      <th>Loetoeng Kasaroeng</th>\n",
              "    </tr>\n",
              "    <tr>\n",
              "      <th>title</th>\n",
              "      <th></th>\n",
              "      <th></th>\n",
              "      <th></th>\n",
              "      <th></th>\n",
              "      <th></th>\n",
              "      <th></th>\n",
              "      <th></th>\n",
              "      <th></th>\n",
              "      <th></th>\n",
              "      <th></th>\n",
              "      <th></th>\n",
              "      <th></th>\n",
              "      <th></th>\n",
              "      <th></th>\n",
              "      <th></th>\n",
              "      <th></th>\n",
              "      <th></th>\n",
              "      <th></th>\n",
              "      <th></th>\n",
              "      <th></th>\n",
              "      <th></th>\n",
              "    </tr>\n",
              "  </thead>\n",
              "  <tbody>\n",
              "    <tr>\n",
              "      <th>#FriendButMarried 2</th>\n",
              "      <td>1.0</td>\n",
              "      <td>0.000000</td>\n",
              "      <td>0.000000</td>\n",
              "      <td>0.00000</td>\n",
              "      <td>0.00000</td>\n",
              "      <td>0.000000</td>\n",
              "      <td>0.024546</td>\n",
              "      <td>0.000000</td>\n",
              "      <td>0.000000</td>\n",
              "      <td>0.000000</td>\n",
              "      <td>...</td>\n",
              "      <td>0.0</td>\n",
              "      <td>0.000000</td>\n",
              "      <td>0.0000</td>\n",
              "      <td>0.0</td>\n",
              "      <td>0.000000</td>\n",
              "      <td>0.000000</td>\n",
              "      <td>0.000000</td>\n",
              "      <td>0.000000</td>\n",
              "      <td>0.000000</td>\n",
              "      <td>0.0</td>\n",
              "    </tr>\n",
              "    <tr>\n",
              "      <th>4 Mantan</th>\n",
              "      <td>0.0</td>\n",
              "      <td>1.000000</td>\n",
              "      <td>0.035082</td>\n",
              "      <td>0.00000</td>\n",
              "      <td>0.00000</td>\n",
              "      <td>0.000000</td>\n",
              "      <td>0.000000</td>\n",
              "      <td>0.000000</td>\n",
              "      <td>0.000000</td>\n",
              "      <td>0.000000</td>\n",
              "      <td>...</td>\n",
              "      <td>0.0</td>\n",
              "      <td>0.000000</td>\n",
              "      <td>0.0000</td>\n",
              "      <td>0.0</td>\n",
              "      <td>0.000000</td>\n",
              "      <td>0.000000</td>\n",
              "      <td>0.000000</td>\n",
              "      <td>0.000000</td>\n",
              "      <td>0.000000</td>\n",
              "      <td>0.0</td>\n",
              "    </tr>\n",
              "    <tr>\n",
              "      <th>Aku Tahu Kapan Kamu Mati</th>\n",
              "      <td>0.0</td>\n",
              "      <td>0.035082</td>\n",
              "      <td>1.000000</td>\n",
              "      <td>0.00000</td>\n",
              "      <td>0.00000</td>\n",
              "      <td>0.000000</td>\n",
              "      <td>0.000000</td>\n",
              "      <td>0.007786</td>\n",
              "      <td>0.016297</td>\n",
              "      <td>0.000000</td>\n",
              "      <td>...</td>\n",
              "      <td>0.0</td>\n",
              "      <td>0.000000</td>\n",
              "      <td>0.0000</td>\n",
              "      <td>0.0</td>\n",
              "      <td>0.000000</td>\n",
              "      <td>0.000000</td>\n",
              "      <td>0.000000</td>\n",
              "      <td>0.000000</td>\n",
              "      <td>0.000000</td>\n",
              "      <td>0.0</td>\n",
              "    </tr>\n",
              "    <tr>\n",
              "      <th>Anak Garuda</th>\n",
              "      <td>0.0</td>\n",
              "      <td>0.000000</td>\n",
              "      <td>0.000000</td>\n",
              "      <td>1.00000</td>\n",
              "      <td>0.01947</td>\n",
              "      <td>0.018243</td>\n",
              "      <td>0.000000</td>\n",
              "      <td>0.000000</td>\n",
              "      <td>0.000000</td>\n",
              "      <td>0.000000</td>\n",
              "      <td>...</td>\n",
              "      <td>0.0</td>\n",
              "      <td>0.000000</td>\n",
              "      <td>0.0667</td>\n",
              "      <td>0.0</td>\n",
              "      <td>0.000000</td>\n",
              "      <td>0.000000</td>\n",
              "      <td>0.000000</td>\n",
              "      <td>0.019352</td>\n",
              "      <td>0.051245</td>\n",
              "      <td>0.0</td>\n",
              "    </tr>\n",
              "    <tr>\n",
              "      <th>Dignitate</th>\n",
              "      <td>0.0</td>\n",
              "      <td>0.000000</td>\n",
              "      <td>0.000000</td>\n",
              "      <td>0.01947</td>\n",
              "      <td>1.00000</td>\n",
              "      <td>0.042979</td>\n",
              "      <td>0.000000</td>\n",
              "      <td>0.000000</td>\n",
              "      <td>0.000000</td>\n",
              "      <td>0.004258</td>\n",
              "      <td>...</td>\n",
              "      <td>0.0</td>\n",
              "      <td>0.008003</td>\n",
              "      <td>0.0000</td>\n",
              "      <td>0.0</td>\n",
              "      <td>0.035941</td>\n",
              "      <td>0.004604</td>\n",
              "      <td>0.005129</td>\n",
              "      <td>0.008169</td>\n",
              "      <td>0.000000</td>\n",
              "      <td>0.0</td>\n",
              "    </tr>\n",
              "  </tbody>\n",
              "</table>\n",
              "<p>5 rows × 1272 columns</p>\n",
              "</div>\n",
              "    <div class=\"colab-df-buttons\">\n",
              "\n",
              "  <div class=\"colab-df-container\">\n",
              "    <button class=\"colab-df-convert\" onclick=\"convertToInteractive('df-adbddb1e-80a2-4841-9136-3003240eb46f')\"\n",
              "            title=\"Convert this dataframe to an interactive table.\"\n",
              "            style=\"display:none;\">\n",
              "\n",
              "  <svg xmlns=\"http://www.w3.org/2000/svg\" height=\"24px\" viewBox=\"0 -960 960 960\">\n",
              "    <path d=\"M120-120v-720h720v720H120Zm60-500h600v-160H180v160Zm220 220h160v-160H400v160Zm0 220h160v-160H400v160ZM180-400h160v-160H180v160Zm440 0h160v-160H620v160ZM180-180h160v-160H180v160Zm440 0h160v-160H620v160Z\"/>\n",
              "  </svg>\n",
              "    </button>\n",
              "\n",
              "  <style>\n",
              "    .colab-df-container {\n",
              "      display:flex;\n",
              "      gap: 12px;\n",
              "    }\n",
              "\n",
              "    .colab-df-convert {\n",
              "      background-color: #E8F0FE;\n",
              "      border: none;\n",
              "      border-radius: 50%;\n",
              "      cursor: pointer;\n",
              "      display: none;\n",
              "      fill: #1967D2;\n",
              "      height: 32px;\n",
              "      padding: 0 0 0 0;\n",
              "      width: 32px;\n",
              "    }\n",
              "\n",
              "    .colab-df-convert:hover {\n",
              "      background-color: #E2EBFA;\n",
              "      box-shadow: 0px 1px 2px rgba(60, 64, 67, 0.3), 0px 1px 3px 1px rgba(60, 64, 67, 0.15);\n",
              "      fill: #174EA6;\n",
              "    }\n",
              "\n",
              "    .colab-df-buttons div {\n",
              "      margin-bottom: 4px;\n",
              "    }\n",
              "\n",
              "    [theme=dark] .colab-df-convert {\n",
              "      background-color: #3B4455;\n",
              "      fill: #D2E3FC;\n",
              "    }\n",
              "\n",
              "    [theme=dark] .colab-df-convert:hover {\n",
              "      background-color: #434B5C;\n",
              "      box-shadow: 0px 1px 3px 1px rgba(0, 0, 0, 0.15);\n",
              "      filter: drop-shadow(0px 1px 2px rgba(0, 0, 0, 0.3));\n",
              "      fill: #FFFFFF;\n",
              "    }\n",
              "  </style>\n",
              "\n",
              "    <script>\n",
              "      const buttonEl =\n",
              "        document.querySelector('#df-adbddb1e-80a2-4841-9136-3003240eb46f button.colab-df-convert');\n",
              "      buttonEl.style.display =\n",
              "        google.colab.kernel.accessAllowed ? 'block' : 'none';\n",
              "\n",
              "      async function convertToInteractive(key) {\n",
              "        const element = document.querySelector('#df-adbddb1e-80a2-4841-9136-3003240eb46f');\n",
              "        const dataTable =\n",
              "          await google.colab.kernel.invokeFunction('convertToInteractive',\n",
              "                                                    [key], {});\n",
              "        if (!dataTable) return;\n",
              "\n",
              "        const docLinkHtml = 'Like what you see? Visit the ' +\n",
              "          '<a target=\"_blank\" href=https://colab.research.google.com/notebooks/data_table.ipynb>data table notebook</a>'\n",
              "          + ' to learn more about interactive tables.';\n",
              "        element.innerHTML = '';\n",
              "        dataTable['output_type'] = 'display_data';\n",
              "        await google.colab.output.renderOutput(dataTable, element);\n",
              "        const docLink = document.createElement('div');\n",
              "        docLink.innerHTML = docLinkHtml;\n",
              "        element.appendChild(docLink);\n",
              "      }\n",
              "    </script>\n",
              "  </div>\n",
              "\n",
              "\n",
              "    <div id=\"df-bcdbb734-1fac-43e8-81a9-b33761bbcecd\">\n",
              "      <button class=\"colab-df-quickchart\" onclick=\"quickchart('df-bcdbb734-1fac-43e8-81a9-b33761bbcecd')\"\n",
              "                title=\"Suggest charts\"\n",
              "                style=\"display:none;\">\n",
              "\n",
              "<svg xmlns=\"http://www.w3.org/2000/svg\" height=\"24px\"viewBox=\"0 0 24 24\"\n",
              "     width=\"24px\">\n",
              "    <g>\n",
              "        <path d=\"M19 3H5c-1.1 0-2 .9-2 2v14c0 1.1.9 2 2 2h14c1.1 0 2-.9 2-2V5c0-1.1-.9-2-2-2zM9 17H7v-7h2v7zm4 0h-2V7h2v10zm4 0h-2v-4h2v4z\"/>\n",
              "    </g>\n",
              "</svg>\n",
              "      </button>\n",
              "\n",
              "<style>\n",
              "  .colab-df-quickchart {\n",
              "      --bg-color: #E8F0FE;\n",
              "      --fill-color: #1967D2;\n",
              "      --hover-bg-color: #E2EBFA;\n",
              "      --hover-fill-color: #174EA6;\n",
              "      --disabled-fill-color: #AAA;\n",
              "      --disabled-bg-color: #DDD;\n",
              "  }\n",
              "\n",
              "  [theme=dark] .colab-df-quickchart {\n",
              "      --bg-color: #3B4455;\n",
              "      --fill-color: #D2E3FC;\n",
              "      --hover-bg-color: #434B5C;\n",
              "      --hover-fill-color: #FFFFFF;\n",
              "      --disabled-bg-color: #3B4455;\n",
              "      --disabled-fill-color: #666;\n",
              "  }\n",
              "\n",
              "  .colab-df-quickchart {\n",
              "    background-color: var(--bg-color);\n",
              "    border: none;\n",
              "    border-radius: 50%;\n",
              "    cursor: pointer;\n",
              "    display: none;\n",
              "    fill: var(--fill-color);\n",
              "    height: 32px;\n",
              "    padding: 0;\n",
              "    width: 32px;\n",
              "  }\n",
              "\n",
              "  .colab-df-quickchart:hover {\n",
              "    background-color: var(--hover-bg-color);\n",
              "    box-shadow: 0 1px 2px rgba(60, 64, 67, 0.3), 0 1px 3px 1px rgba(60, 64, 67, 0.15);\n",
              "    fill: var(--button-hover-fill-color);\n",
              "  }\n",
              "\n",
              "  .colab-df-quickchart-complete:disabled,\n",
              "  .colab-df-quickchart-complete:disabled:hover {\n",
              "    background-color: var(--disabled-bg-color);\n",
              "    fill: var(--disabled-fill-color);\n",
              "    box-shadow: none;\n",
              "  }\n",
              "\n",
              "  .colab-df-spinner {\n",
              "    border: 2px solid var(--fill-color);\n",
              "    border-color: transparent;\n",
              "    border-bottom-color: var(--fill-color);\n",
              "    animation:\n",
              "      spin 1s steps(1) infinite;\n",
              "  }\n",
              "\n",
              "  @keyframes spin {\n",
              "    0% {\n",
              "      border-color: transparent;\n",
              "      border-bottom-color: var(--fill-color);\n",
              "      border-left-color: var(--fill-color);\n",
              "    }\n",
              "    20% {\n",
              "      border-color: transparent;\n",
              "      border-left-color: var(--fill-color);\n",
              "      border-top-color: var(--fill-color);\n",
              "    }\n",
              "    30% {\n",
              "      border-color: transparent;\n",
              "      border-left-color: var(--fill-color);\n",
              "      border-top-color: var(--fill-color);\n",
              "      border-right-color: var(--fill-color);\n",
              "    }\n",
              "    40% {\n",
              "      border-color: transparent;\n",
              "      border-right-color: var(--fill-color);\n",
              "      border-top-color: var(--fill-color);\n",
              "    }\n",
              "    60% {\n",
              "      border-color: transparent;\n",
              "      border-right-color: var(--fill-color);\n",
              "    }\n",
              "    80% {\n",
              "      border-color: transparent;\n",
              "      border-right-color: var(--fill-color);\n",
              "      border-bottom-color: var(--fill-color);\n",
              "    }\n",
              "    90% {\n",
              "      border-color: transparent;\n",
              "      border-bottom-color: var(--fill-color);\n",
              "    }\n",
              "  }\n",
              "</style>\n",
              "\n",
              "      <script>\n",
              "        async function quickchart(key) {\n",
              "          const quickchartButtonEl =\n",
              "            document.querySelector('#' + key + ' button');\n",
              "          quickchartButtonEl.disabled = true;  // To prevent multiple clicks.\n",
              "          quickchartButtonEl.classList.add('colab-df-spinner');\n",
              "          try {\n",
              "            const charts = await google.colab.kernel.invokeFunction(\n",
              "                'suggestCharts', [key], {});\n",
              "          } catch (error) {\n",
              "            console.error('Error during call to suggestCharts:', error);\n",
              "          }\n",
              "          quickchartButtonEl.classList.remove('colab-df-spinner');\n",
              "          quickchartButtonEl.classList.add('colab-df-quickchart-complete');\n",
              "        }\n",
              "        (() => {\n",
              "          let quickchartButtonEl =\n",
              "            document.querySelector('#df-bcdbb734-1fac-43e8-81a9-b33761bbcecd button');\n",
              "          quickchartButtonEl.style.display =\n",
              "            google.colab.kernel.accessAllowed ? 'block' : 'none';\n",
              "        })();\n",
              "      </script>\n",
              "    </div>\n",
              "\n",
              "    </div>\n",
              "  </div>\n"
            ],
            "application/vnd.google.colaboratory.intrinsic+json": {
              "type": "dataframe",
              "variable_name": "similarity_df"
            }
          },
          "metadata": {},
          "execution_count": 27
        }
      ]
    },
    {
      "cell_type": "code",
      "source": [
        "plt.figure(figsize=(10,7))\n",
        "sns.heatmap(similarity_df.iloc[:5, :5],\n",
        "            cmap='Blues',\n",
        "            annot=True,\n",
        "            fmt=\".2f\",\n",
        "            linewidths=0.5)\n",
        "plt.xticks(rotation=45)\n",
        "plt.title(\"Similarity Matrix antar Film (Top 5) dengan Nilai Cosine Similarity\")\n",
        "plt.show()"
      ],
      "metadata": {
        "colab": {
          "base_uri": "https://localhost:8080/",
          "height": 771
        },
        "id": "46CAsn5o84CQ",
        "outputId": "70534b08-1be2-4674-bff1-bf415351598d"
      },
      "execution_count": 28,
      "outputs": [
        {
          "output_type": "display_data",
          "data": {
            "text/plain": [
              "<Figure size 1000x700 with 2 Axes>"
            ],
            "image/png": "[encoded data removed]"
          },
          "metadata": {}
        }
      ]
    },
    {
      "cell_type": "markdown",
      "source": [
        "Matriks similarity menunjukkan rendahnya kemiripan antar sebagian besar film berdasarkan konten teks TF-IDF (banyak nilai 0.00). Ini menyiratkan konten film yang sangat beragam/unik.\n",
        "\n",
        "Namun, terdapat poin kemiripan menarik seperti \"Aku tahu kapan kamu mati\" dengan \"4 Mantan\" (0.04) yang menjadi kandidat utama untuk rekomendasi berbasis konten dan menunjukkan model berhasil menangkap koneksi khusus."
      ],
      "metadata": {
        "id": "t9kObPCzQFs2"
      }
    },
    {
      "cell_type": "code",
      "source": [
        "threshold = 6.0  # batasan rating >= 6 dianggap relevan\n",
        "\n",
        "def get_top_k_recommendations(title, k=5):\n",
        "    similar_movies = similarity_df[title].sort_values(ascending=False)[1:k+1]\n",
        "    return similar_movies.index.tolist()\n",
        "\n",
        "def precision_at_k(title, k=5, threshold=threshold):\n",
        "    top_k = get_top_k_recommendations(title, k)\n",
        "\n",
        "    # Hitung jumlah rekomendasi relevan (users_rating >= threshold)\n",
        "    relevan = df[df['title'].isin(top_k)]\n",
        "    relevan_count = (relevan['users_rating'] >= threshold).sum()\n",
        "\n",
        "    precision = relevan_count / k\n",
        "    return precision"
      ],
      "metadata": {
        "id": "ROGEeg_AgC_h"
      },
      "execution_count": 29,
      "outputs": []
    },
    {
      "cell_type": "code",
      "source": [
        "film_sample = df['title'].sample(10, random_state=1)\n",
        "precision_list = []\n",
        "\n",
        "for film in film_sample:\n",
        "    try:\n",
        "        p = precision_at_k(film, k=5)\n",
        "        precision_list.append(p)\n",
        "    except:\n",
        "        continue\n",
        "\n",
        "average_precision = np.mean(precision_list)\n",
        "print(f'Average Precision@5: {average_precision:.2f}')"
      ],
      "metadata": {
        "colab": {
          "base_uri": "https://localhost:8080/"
        },
        "id": "i6l8s4PXgT3w",
        "outputId": "386d9dcc-ee26-444e-cf07-823170eddf4e"
      },
      "execution_count": 30,
      "outputs": [
        {
          "output_type": "stream",
          "name": "stdout",
          "text": [
            "Average Precision@5: 0.48\n"
          ]
        }
      ]
    },
    {
      "cell_type": "markdown",
      "source": [
        "Rata-rata precision@5 sekitar 48% dari 5 rekomendasi teratas yang diberikan oleh sistem Anda 2 sampai 3 di antaranya adalah relevan bagi pengguna.\n",
        "\n",
        "**Ini menunjukkan bahwa sistem rekomendasi memiliki kemampuan yang cukup bagus untuk mendapatkan rekomendasi film dengan genre, deskripsi, dan judul yang mirip**"
      ],
      "metadata": {
        "id": "qAUBLTWIQlA7"
      }
    }
  ]
}