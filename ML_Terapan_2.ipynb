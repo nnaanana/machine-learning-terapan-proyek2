{
  "nbformat": 4,
  "nbformat_minor": 0,
  "metadata": {
    "colab": {
      "provenance": []
    },
    "kernelspec": {
      "name": "python3",
      "display_name": "Python 3"
    },
    "language_info": {
      "name": "python"
    }
  },
  "cells": [
    {
      "cell_type": "markdown",
      "source": [
        "# Proyek Kedua Machine Learning Terapan - Recommendation System\n",
        "- **Nama:** Nabilah Wanara\n",
        "- **Email:** \tmc006d5x211p@student.devacademy.id\n",
        "- **ID Dicoding:** MC006D5X2119"
      ],
      "metadata": {
        "id": "JMf3zGHAFfVf"
      }
    },
    {
      "cell_type": "markdown",
      "source": [
        "# Import Library dan Setup"
      ],
      "metadata": {
        "id": "i50CTtBskCeu"
      }
    },
    {
      "cell_type": "code",
      "execution_count": null,
      "metadata": {
        "id": "uVRYKRqbJqyC"
      },
      "outputs": [],
      "source": [
        "import os\n",
        "import numpy as np\n",
        "import pandas as pd\n",
        "import seaborn as sns\n",
        "import matplotlib.pyplot as plt\n",
        "\n",
        "from scipy.sparse import csr_matrix\n",
        "from sklearn.model_selection import train_test_split\n",
        "from sklearn.preprocessing import MultiLabelBinarizer\n",
        "from sklearn.metrics.pairwise import cosine_similarity\n",
        "from sklearn.feature_extraction.text import TfidfVectorizer\n",
        "\n",
        "import warnings\n",
        "warnings.filterwarnings('ignore')"
      ]
    },
    {
      "cell_type": "code",
      "source": [
        "from google.colab import files\n",
        "files.upload()"
      ],
      "metadata": {
        "id": "BnT_KTxrJ6UQ",
        "colab": {
          "base_uri": "https://localhost:8080/",
          "height": 91
        },
        "outputId": "415b9f11-eec5-4e1e-f2ff-8ffcd2731b56"
      },
      "execution_count": null,
      "outputs": [
        {
          "output_type": "display_data",
          "data": {
            "text/plain": [
              "<IPython.core.display.HTML object>"
            ],
            "text/html": [
              "\n",
              "     <input type=\"file\" id=\"files-29135004-5f7e-497b-bbef-370aa076ee9c\" name=\"files[]\" multiple disabled\n",
              "        style=\"border:none\" />\n",
              "     <output id=\"result-29135004-5f7e-497b-bbef-370aa076ee9c\">\n",
              "      Upload widget is only available when the cell has been executed in the\n",
              "      current browser session. Please rerun this cell to enable.\n",
              "      </output>\n",
              "      <script>// Copyright 2017 Google LLC\n",
              "//\n",
              "// Licensed under the Apache License, Version 2.0 (the \"License\");\n",
              "// you may not use this file except in compliance with the License.\n",
              "// You may obtain a copy of the License at\n",
              "//\n",
              "//      http://www.apache.org/licenses/LICENSE-2.0\n",
              "//\n",
              "// Unless required by applicable law or agreed to in writing, software\n",
              "// distributed under the License is distributed on an \"AS IS\" BASIS,\n",
              "// WITHOUT WARRANTIES OR CONDITIONS OF ANY KIND, either express or implied.\n",
              "// See the License for the specific language governing permissions and\n",
              "// limitations under the License.\n",
              "\n",
              "/**\n",
              " * @fileoverview Helpers for google.colab Python module.\n",
              " */\n",
              "(function(scope) {\n",
              "function span(text, styleAttributes = {}) {\n",
              "  const element = document.createElement('span');\n",
              "  element.textContent = text;\n",
              "  for (const key of Object.keys(styleAttributes)) {\n",
              "    element.style[key] = styleAttributes[key];\n",
              "  }\n",
              "  return element;\n",
              "}\n",
              "\n",
              "// Max number of bytes which will be uploaded at a time.\n",
              "const MAX_PAYLOAD_SIZE = 100 * 1024;\n",
              "\n",
              "function _uploadFiles(inputId, outputId) {\n",
              "  const steps = uploadFilesStep(inputId, outputId);\n",
              "  const outputElement = document.getElementById(outputId);\n",
              "  // Cache steps on the outputElement to make it available for the next call\n",
              "  // to uploadFilesContinue from Python.\n",
              "  outputElement.steps = steps;\n",
              "\n",
              "  return _uploadFilesContinue(outputId);\n",
              "}\n",
              "\n",
              "// This is roughly an async generator (not supported in the browser yet),\n",
              "// where there are multiple asynchronous steps and the Python side is going\n",
              "// to poll for completion of each step.\n",
              "// This uses a Promise to block the python side on completion of each step,\n",
              "// then passes the result of the previous step as the input to the next step.\n",
              "function _uploadFilesContinue(outputId) {\n",
              "  const outputElement = document.getElementById(outputId);\n",
              "  const steps = outputElement.steps;\n",
              "\n",
              "  const next = steps.next(outputElement.lastPromiseValue);\n",
              "  return Promise.resolve(next.value.promise).then((value) => {\n",
              "    // Cache the last promise value to make it available to the next\n",
              "    // step of the generator.\n",
              "    outputElement.lastPromiseValue = value;\n",
              "    return next.value.response;\n",
              "  });\n",
              "}\n",
              "\n",
              "/**\n",
              " * Generator function which is called between each async step of the upload\n",
              " * process.\n",
              " * @param {string} inputId Element ID of the input file picker element.\n",
              " * @param {string} outputId Element ID of the output display.\n",
              " * @return {!Iterable<!Object>} Iterable of next steps.\n",
              " */\n",
              "function* uploadFilesStep(inputId, outputId) {\n",
              "  const inputElement = document.getElementById(inputId);\n",
              "  inputElement.disabled = false;\n",
              "\n",
              "  const outputElement = document.getElementById(outputId);\n",
              "  outputElement.innerHTML = '';\n",
              "\n",
              "  const pickedPromise = new Promise((resolve) => {\n",
              "    inputElement.addEventListener('change', (e) => {\n",
              "      resolve(e.target.files);\n",
              "    });\n",
              "  });\n",
              "\n",
              "  const cancel = document.createElement('button');\n",
              "  inputElement.parentElement.appendChild(cancel);\n",
              "  cancel.textContent = 'Cancel upload';\n",
              "  const cancelPromise = new Promise((resolve) => {\n",
              "    cancel.onclick = () => {\n",
              "      resolve(null);\n",
              "    };\n",
              "  });\n",
              "\n",
              "  // Wait for the user to pick the files.\n",
              "  const files = yield {\n",
              "    promise: Promise.race([pickedPromise, cancelPromise]),\n",
              "    response: {\n",
              "      action: 'starting',\n",
              "    }\n",
              "  };\n",
              "\n",
              "  cancel.remove();\n",
              "\n",
              "  // Disable the input element since further picks are not allowed.\n",
              "  inputElement.disabled = true;\n",
              "\n",
              "  if (!files) {\n",
              "    return {\n",
              "      response: {\n",
              "        action: 'complete',\n",
              "      }\n",
              "    };\n",
              "  }\n",
              "\n",
              "  for (const file of files) {\n",
              "    const li = document.createElement('li');\n",
              "    li.append(span(file.name, {fontWeight: 'bold'}));\n",
              "    li.append(span(\n",
              "        `(${file.type || 'n/a'}) - ${file.size} bytes, ` +\n",
              "        `last modified: ${\n",
              "            file.lastModifiedDate ? file.lastModifiedDate.toLocaleDateString() :\n",
              "                                    'n/a'} - `));\n",
              "    const percent = span('0% done');\n",
              "    li.appendChild(percent);\n",
              "\n",
              "    outputElement.appendChild(li);\n",
              "\n",
              "    const fileDataPromise = new Promise((resolve) => {\n",
              "      const reader = new FileReader();\n",
              "      reader.onload = (e) => {\n",
              "        resolve(e.target.result);\n",
              "      };\n",
              "      reader.readAsArrayBuffer(file);\n",
              "    });\n",
              "    // Wait for the data to be ready.\n",
              "    let fileData = yield {\n",
              "      promise: fileDataPromise,\n",
              "      response: {\n",
              "        action: 'continue',\n",
              "      }\n",
              "    };\n",
              "\n",
              "    // Use a chunked sending to avoid message size limits. See b/62115660.\n",
              "    let position = 0;\n",
              "    do {\n",
              "      const length = Math.min(fileData.byteLength - position, MAX_PAYLOAD_SIZE);\n",
              "      const chunk = new Uint8Array(fileData, position, length);\n",
              "      position += length;\n",
              "\n",
              "      const base64 = btoa(String.fromCharCode.apply(null, chunk));\n",
              "      yield {\n",
              "        response: {\n",
              "          action: 'append',\n",
              "          file: file.name,\n",
              "          data: base64,\n",
              "        },\n",
              "      };\n",
              "\n",
              "      let percentDone = fileData.byteLength === 0 ?\n",
              "          100 :\n",
              "          Math.round((position / fileData.byteLength) * 100);\n",
              "      percent.textContent = `${percentDone}% done`;\n",
              "\n",
              "    } while (position < fileData.byteLength);\n",
              "  }\n",
              "\n",
              "  // All done.\n",
              "  yield {\n",
              "    response: {\n",
              "      action: 'complete',\n",
              "    }\n",
              "  };\n",
              "}\n",
              "\n",
              "scope.google = scope.google || {};\n",
              "scope.google.colab = scope.google.colab || {};\n",
              "scope.google.colab._files = {\n",
              "  _uploadFiles,\n",
              "  _uploadFilesContinue,\n",
              "};\n",
              "})(self);\n",
              "</script> "
            ]
          },
          "metadata": {}
        },
        {
          "output_type": "stream",
          "name": "stdout",
          "text": [
            "Saving kaggle.json to kaggle (1).json\n"
          ]
        },
        {
          "output_type": "execute_result",
          "data": {
            "text/plain": [
              "{'kaggle (1).json': b'{\"username\":\"nabilahwanara\",\"key\":\"9b07444ef34e60b9ab3e8c83b1cc9c7e\"}'}"
            ]
          },
          "metadata": {},
          "execution_count": 49
        }
      ]
    },
    {
      "cell_type": "code",
      "source": [
        "os.makedirs('/root/.kaggle', exist_ok=True)\n",
        "!cp kaggle.json /root/.kaggle/\n",
        "!chmod 600 /root/.kaggle/kaggle.json"
      ],
      "metadata": {
        "id": "ayRDYQZKJ7ed"
      },
      "execution_count": null,
      "outputs": []
    },
    {
      "cell_type": "markdown",
      "source": [
        "# Data Loading"
      ],
      "metadata": {
        "id": "nWloEPzxkTWu"
      }
    },
    {
      "cell_type": "code",
      "source": [
        "#Download dataset dari Kaggle\n",
        "!kaggle datasets download -d meirnizri/cellphones-recommendations\n",
        "\n",
        "!unzip -q cellphones-recommendations.zip -d cellphones-recommendations"
      ],
      "metadata": {
        "id": "ragmNruWJ9Nr",
        "colab": {
          "base_uri": "https://localhost:8080/"
        },
        "outputId": "22db9236-b915-4de6-cc27-6c0f2916443d"
      },
      "execution_count": null,
      "outputs": [
        {
          "output_type": "stream",
          "name": "stdout",
          "text": [
            "Dataset URL: https://www.kaggle.com/datasets/meirnizri/cellphones-recommendations\n",
            "License(s): ODbL-1.0\n",
            "cellphones-recommendations.zip: Skipping, found more recently modified local copy (use --force to force download)\n",
            "replace cellphones-recommendations/cellphones data.csv? [y]es, [n]o, [A]ll, [N]one, [r]ename: y\n",
            "replace cellphones-recommendations/cellphones ratings.csv? [y]es, [n]o, [A]ll, [N]one, [r]ename: y\n",
            "replace cellphones-recommendations/cellphones users.csv? [y]es, [n]o, [A]ll, [N]one, [r]ename: y\n"
          ]
        }
      ]
    },
    {
      "cell_type": "code",
      "source": [
        "def load_data(folder_path):\n",
        "    data_file = os.path.join(folder_path, 'cellphones data.csv')\n",
        "    users_file = os.path.join(folder_path, 'cellphones users.csv')\n",
        "    ratings_file = os.path.join(folder_path, 'cellphones ratings.csv')\n",
        "\n",
        "    products = pd.read_csv(data_file)\n",
        "    users = pd.read_csv(users_file)\n",
        "    ratings = pd.read_csv(ratings_file)\n",
        "\n",
        "    return products, users, ratings"
      ],
      "metadata": {
        "id": "Ci-8uEwtKRsI"
      },
      "execution_count": null,
      "outputs": []
    },
    {
      "cell_type": "code",
      "source": [
        "folder_path = 'cellphones-recommendations'\n",
        "products, users, ratings = load_data(folder_path)"
      ],
      "metadata": {
        "id": "cB0Xrn55TwZO"
      },
      "execution_count": null,
      "outputs": []
    },
    {
      "cell_type": "markdown",
      "source": [
        "# Data Understanding"
      ],
      "metadata": {
        "id": "EfK8PiTVK_gT"
      }
    },
    {
      "cell_type": "markdown",
      "source": [
        "Tujuan tahap ini adalah:\n",
        "\n",
        "- Melihat info awal data."
      ],
      "metadata": {
        "id": "BqORAuNpn5BW"
      }
    },
    {
      "cell_type": "code",
      "source": [
        "def dataset_info(df, name):\n",
        "    print(f\"Dataset: {name}\")\n",
        "    print(f\"{'='*50}\")\n",
        "    print(f\"Shape   : {df.shape}\")\n",
        "    print(f\"Columns : {df.columns.tolist()}\\n\")\n",
        "\n",
        "    print(\"nfo:\")\n",
        "    print(df.info())\n",
        "\n",
        "    print(\"\\nFirst 10 Rows:\")\n",
        "    print(df.head(10))\n",
        "    print()"
      ],
      "metadata": {
        "id": "hhnShpx7fC8-"
      },
      "execution_count": null,
      "outputs": []
    },
    {
      "cell_type": "code",
      "source": [
        "dataset_info(products, \"Products\")"
      ],
      "metadata": {
        "id": "99SJWLYNKeAU",
        "colab": {
          "base_uri": "https://localhost:8080/"
        },
        "outputId": "6e99ef93-59b3-4e64-808d-cde249d19074"
      },
      "execution_count": null,
      "outputs": [
        {
          "output_type": "stream",
          "name": "stdout",
          "text": [
            "Dataset: Products\n",
            "==================================================\n",
            "Shape   : (33, 14)\n",
            "Columns : ['cellphone_id', 'brand', 'model', 'operating system', 'internal memory', 'RAM', 'performance', 'main camera', 'selfie camera', 'battery size', 'screen size', 'weight', 'price', 'release date']\n",
            "\n",
            "nfo:\n",
            "<class 'pandas.core.frame.DataFrame'>\n",
            "RangeIndex: 33 entries, 0 to 32\n",
            "Data columns (total 14 columns):\n",
            " #   Column            Non-Null Count  Dtype  \n",
            "---  ------            --------------  -----  \n",
            " 0   cellphone_id      33 non-null     int64  \n",
            " 1   brand             33 non-null     object \n",
            " 2   model             33 non-null     object \n",
            " 3   operating system  33 non-null     object \n",
            " 4   internal memory   33 non-null     int64  \n",
            " 5   RAM               33 non-null     int64  \n",
            " 6   performance       33 non-null     float64\n",
            " 7   main camera       33 non-null     int64  \n",
            " 8   selfie camera     33 non-null     int64  \n",
            " 9   battery size      33 non-null     int64  \n",
            " 10  screen size       33 non-null     float64\n",
            " 11  weight            33 non-null     int64  \n",
            " 12  price             33 non-null     int64  \n",
            " 13  release date      33 non-null     object \n",
            "dtypes: float64(2), int64(8), object(4)\n",
            "memory usage: 3.7+ KB\n",
            "None\n",
            "\n",
            "First 10 Rows:\n",
            "   cellphone_id    brand              model operating system  internal memory  \\\n",
            "0             0    Apple   iPhone SE (2022)              iOS              128   \n",
            "1             1    Apple     iPhone 13 Mini              iOS              128   \n",
            "2             2    Apple          iPhone 13              iOS              128   \n",
            "3             3    Apple      iPhone 13 Pro              iOS              256   \n",
            "4             4    Apple  iPhone 13 Pro Max              iOS              256   \n",
            "5             5    Apple          iPhone XR              iOS               64   \n",
            "6             6     Asus          Zenfone 8          Android              128   \n",
            "7             7  Samsung         Galaxy A13          Android               32   \n",
            "8             8  Samsung         Galaxy A32          Android               64   \n",
            "9             9  Samsung         Galaxy A53          Android              128   \n",
            "\n",
            "   RAM  performance  main camera  selfie camera  battery size  screen size  \\\n",
            "0    4         7.23           12              7          2018          4.7   \n",
            "1    4         7.72           12             12          2438          5.4   \n",
            "2    4         7.75           12             12          3240          6.1   \n",
            "3    6         7.94           12             12          3065          6.1   \n",
            "4    6         8.01           12             12          4352          6.7   \n",
            "5    3         4.22           12              7          2942          6.1   \n",
            "6    8         6.76           64             12          4000          5.9   \n",
            "7    3         1.36           50              8          5000          6.6   \n",
            "8    4         2.20           48             13          5000          6.5   \n",
            "9    6         3.79           64             32          5000          6.5   \n",
            "\n",
            "   weight  price release date  \n",
            "0     144    429   18/03/2022  \n",
            "1     141    699   24/09/2021  \n",
            "2     174    699   24/09/2021  \n",
            "3     204    999   24/09/2021  \n",
            "4     240   1199   24/09/2021  \n",
            "5     194    236   26/10/2018  \n",
            "6     169    599   12/05/2021  \n",
            "7     196    154   23/03/2022  \n",
            "8     205    199   22/01/2021  \n",
            "9     189    312   24/03/2022  \n",
            "\n"
          ]
        }
      ]
    },
    {
      "cell_type": "code",
      "source": [
        "dataset_info(users, \"Users\")"
      ],
      "metadata": {
        "colab": {
          "base_uri": "https://localhost:8080/"
        },
        "id": "OkX4jvX0UbbK",
        "outputId": "9972610e-5742-4e47-a5da-1995ca852d5c"
      },
      "execution_count": null,
      "outputs": [
        {
          "output_type": "stream",
          "name": "stdout",
          "text": [
            "Dataset: Users\n",
            "==================================================\n",
            "Shape   : (99, 4)\n",
            "Columns : ['user_id', 'age', 'gender', 'occupation']\n",
            "\n",
            "nfo:\n",
            "<class 'pandas.core.frame.DataFrame'>\n",
            "RangeIndex: 99 entries, 0 to 98\n",
            "Data columns (total 4 columns):\n",
            " #   Column      Non-Null Count  Dtype \n",
            "---  ------      --------------  ----- \n",
            " 0   user_id     99 non-null     int64 \n",
            " 1   age         99 non-null     int64 \n",
            " 2   gender      99 non-null     object\n",
            " 3   occupation  98 non-null     object\n",
            "dtypes: int64(2), object(2)\n",
            "memory usage: 3.2+ KB\n",
            "None\n",
            "\n",
            "First 10 Rows:\n",
            "   user_id  age  gender         occupation\n",
            "0        0   38  Female       Data analyst\n",
            "1        1   40  Female  team worker in it\n",
            "2        6   55  Female                 IT\n",
            "3        8   25  Female            Manager\n",
            "4       10   23    Male             worker\n",
            "5       12   28  Female         Accountant\n",
            "6       16   31  Female              sales\n",
            "7       24   57  Female                 it\n",
            "8       25   27  Female        Team leader\n",
            "9       26   28  Female            FINANCE\n",
            "\n"
          ]
        }
      ]
    },
    {
      "cell_type": "code",
      "source": [
        "dataset_info(ratings, \"Ratings\")"
      ],
      "metadata": {
        "colab": {
          "base_uri": "https://localhost:8080/"
        },
        "id": "6_VikSPBUfF7",
        "outputId": "ac0f43e9-e20d-4a5e-ba01-0132b97c00b3"
      },
      "execution_count": null,
      "outputs": [
        {
          "output_type": "stream",
          "name": "stdout",
          "text": [
            "Dataset: Ratings\n",
            "==================================================\n",
            "Shape   : (990, 3)\n",
            "Columns : ['user_id', 'cellphone_id', 'rating']\n",
            "\n",
            "nfo:\n",
            "<class 'pandas.core.frame.DataFrame'>\n",
            "RangeIndex: 990 entries, 0 to 989\n",
            "Data columns (total 3 columns):\n",
            " #   Column        Non-Null Count  Dtype\n",
            "---  ------        --------------  -----\n",
            " 0   user_id       990 non-null    int64\n",
            " 1   cellphone_id  990 non-null    int64\n",
            " 2   rating        990 non-null    int64\n",
            "dtypes: int64(3)\n",
            "memory usage: 23.3 KB\n",
            "None\n",
            "\n",
            "First 10 Rows:\n",
            "   user_id  cellphone_id  rating\n",
            "0        0            30       1\n",
            "1        0             5       3\n",
            "2        0            10       9\n",
            "3        0             9       3\n",
            "4        0            23       2\n",
            "5        0             8       2\n",
            "6        0            22       1\n",
            "7        0            16       2\n",
            "8        0            19       1\n",
            "9        0             3      10\n",
            "\n"
          ]
        }
      ]
    },
    {
      "cell_type": "markdown",
      "source": [
        "# Exploratory Data Analysis (EDA)"
      ],
      "metadata": {
        "id": "DJdgHPr0Qn0H"
      }
    },
    {
      "cell_type": "code",
      "source": [
        "def describe(df, name):\n",
        "    print(f\"Statistik Deskriptif: {name}\")\n",
        "    print(df.describe())\n",
        "    print()"
      ],
      "metadata": {
        "id": "hILyFA5OxuGJ"
      },
      "execution_count": null,
      "outputs": []
    },
    {
      "cell_type": "code",
      "source": [
        "describe(products, \"Products\")"
      ],
      "metadata": {
        "id": "wHLyjxsEx5ut",
        "colab": {
          "base_uri": "https://localhost:8080/"
        },
        "outputId": "7ce3f51b-2d63-4914-ad83-310d6372b6c5"
      },
      "execution_count": null,
      "outputs": [
        {
          "output_type": "stream",
          "name": "stdout",
          "text": [
            "Statistik Deskriptif: Products\n",
            "       cellphone_id  internal memory        RAM  performance  main camera  \\\n",
            "count      33.00000        33.000000  33.000000    33.000000    33.000000   \n",
            "mean       16.00000       148.363636   6.787879     6.219091    41.333333   \n",
            "std         9.66954        92.197417   2.712904     2.885472    26.350601   \n",
            "min         0.00000        32.000000   3.000000     1.020000    12.000000   \n",
            "25%         8.00000       128.000000   4.000000     3.800000    12.000000   \n",
            "50%        16.00000       128.000000   8.000000     6.880000    50.000000   \n",
            "75%        24.00000       128.000000   8.000000     7.940000    50.000000   \n",
            "max        32.00000       512.000000  12.000000    11.000000   108.000000   \n",
            "\n",
            "       selfie camera  battery size  screen size      weight        price  \n",
            "count      33.000000     33.000000    33.000000   33.000000    33.000000  \n",
            "mean       15.484848   4320.666667     6.433333  197.363636   628.272727  \n",
            "std        10.028463    818.746590     0.476095   25.379394   433.873057  \n",
            "min         4.000000   2018.000000     4.700000  141.000000   129.000000  \n",
            "25%         8.000000   4000.000000     6.400000  183.000000   312.000000  \n",
            "50%        12.000000   4500.000000     6.500000  201.000000   528.000000  \n",
            "75%        16.000000   5000.000000     6.700000  207.000000   840.000000  \n",
            "max        40.000000   5003.000000     7.600000  271.000000  1998.000000  \n",
            "\n"
          ]
        }
      ]
    },
    {
      "cell_type": "code",
      "source": [
        "describe(users, \"Users\")"
      ],
      "metadata": {
        "colab": {
          "base_uri": "https://localhost:8080/"
        },
        "id": "puxJEMo8WNX5",
        "outputId": "fe5391c2-3f51-4779-aa3d-91db92991417"
      },
      "execution_count": null,
      "outputs": [
        {
          "output_type": "stream",
          "name": "stdout",
          "text": [
            "Statistik Deskriptif: Users\n",
            "          user_id        age\n",
            "count   99.000000  99.000000\n",
            "mean   136.373737  36.393939\n",
            "std     81.034206   9.678314\n",
            "min      0.000000  21.000000\n",
            "25%     76.500000  29.500000\n",
            "50%    128.000000  33.000000\n",
            "75%    220.500000  42.000000\n",
            "max    258.000000  61.000000\n",
            "\n"
          ]
        }
      ]
    },
    {
      "cell_type": "code",
      "source": [
        "describe(ratings, \"Ratings\")"
      ],
      "metadata": {
        "colab": {
          "base_uri": "https://localhost:8080/"
        },
        "id": "lmJM92jKWObX",
        "outputId": "a62b821e-bb2e-4541-c56d-673b5e192a4f"
      },
      "execution_count": null,
      "outputs": [
        {
          "output_type": "stream",
          "name": "stdout",
          "text": [
            "Statistik Deskriptif: Ratings\n",
            "          user_id  cellphone_id      rating\n",
            "count  990.000000    990.000000  990.000000\n",
            "mean   136.373737     16.421212    6.700000\n",
            "std     80.664654      9.473466    2.639036\n",
            "min      0.000000      0.000000    1.000000\n",
            "25%     74.000000      8.000000    5.000000\n",
            "50%    128.000000     16.000000    7.000000\n",
            "75%    226.000000     25.000000    9.000000\n",
            "max    258.000000     32.000000   18.000000\n",
            "\n"
          ]
        }
      ]
    },
    {
      "cell_type": "markdown",
      "source": [
        "1. **Statistik Deskriptif: Products**\n",
        "  \n",
        "  * Internal memory berkisar antara 32–512 GB, dengan rata-rata 148 GB.\n",
        "\n",
        "  * RAM rata-rata sekitar 6.8 GB, minimum 3 GB dan maksimum 12 GB.\n",
        "\n",
        "  * Main camera dan selfie camera memiliki variasi besar, dengan kamera utama tertinggi mencapai 108 MP.\n",
        "\n",
        "  * Battery size rata-rata 4320 mAh, menunjukkan sebagian besar ponsel memiliki baterai besar.\n",
        "  * Screen size umumnya berkisar antara 4.7 hingga 7.6 inci.\n",
        "\n",
        "  * Price bervariasi cukup besar, dengan rata-rata 628 USD dan maksimum hampir 2000 USD.\n",
        "\n",
        "\n",
        "2.  **Statistik Deskriptif: Users**\n",
        "\n",
        "  * Terdapat 99 pengguna, dengan usia antara 21 hingga 61 tahun.\n",
        "\n",
        "  * Usia rata-rata pengguna adalah sekitar 36 tahun, menunjukkan dominasi usia produktif.\n",
        "\n",
        "\n",
        "3.  **Statistik Deskriptif: Ratings**\n",
        "\n",
        "  * Terdapat 990 data rating yang diberikan pengguna terhadap ponsel.\n",
        "\n",
        "  * Rating berkisar dari 1 hingga 18, dengan rata-rata sekitar 6.7.\n",
        "\n",
        "  * Distribusi rating menunjukkan nilai tengah di angka 7, dan mayoritas rating berada di rentang 5 hingga 9."
      ],
      "metadata": {
        "id": "qaNJHFwS2AbS"
      }
    },
    {
      "cell_type": "markdown",
      "source": [
        "**Visualisasi Fitur**"
      ],
      "metadata": {
        "id": "In-UN2IfTwUl"
      }
    },
    {
      "cell_type": "code",
      "source": [
        "sns.set_theme(style=\"whitegrid\")\n",
        "plt.figure(figsize=(10, 5))\n",
        "\n",
        "# Distribusi Jumlah Ponsel per Brand\n",
        "brand_counts= products['brand'].value_counts()\n",
        "\n",
        "sns.countplot(data=products, x='brand', hue='brand', order=brand_counts.index, palette='Set2', legend=False)\n",
        "plt.title('Distribusi Jumlah Ponsel per Brand', fontsize=14, fontweight='bold')\n",
        "plt.xlabel(\"Brand\")\n",
        "plt.ylabel(\"Jumlah Ponsel\")\n",
        "plt.show()"
      ],
      "metadata": {
        "id": "7KMT-quQRMMk",
        "colab": {
          "base_uri": "https://localhost:8080/",
          "height": 497
        },
        "outputId": "d0eb4f8c-5bb0-41ae-a75d-9ec240d9d7b0"
      },
      "execution_count": null,
      "outputs": [
        {
          "output_type": "display_data",
          "data": {
            "text/plain": [
              "<Figure size 1000x500 with 1 Axes>"
            ],
            "image/png": "[encoded data removed]"
          },
          "metadata": {}
        }
      ]
    },
    {
      "cell_type": "markdown",
      "source": [
        "Dari **10** brand yang ada, Samsung memiliki **8** model ponsel paling banyak, disusul Apple dengan **6** model. Sementara itu, Asus, Oppo, Vivo, dan Sony tercatat hanya memiliki **1** model ponsel masing-masing."
      ],
      "metadata": {
        "id": "Diy-Jdi5Tmw_"
      }
    },
    {
      "cell_type": "code",
      "source": [
        "# Mengelompokkan model berdasarkan brand\n",
        "models_by_brand = products.groupby('brand')['model'].apply(list).to_dict()\n",
        "\n",
        "# Menghitung jumlah total model\n",
        "total_models = sum(len(models) for models in models_by_brand.values())\n",
        "print('Jumlah model ponsel:', total_models)\n",
        "\n",
        "print(\"\\nDaftar model berdasarkan brand:\")\n",
        "for brand, models in models_by_brand.items():\n",
        "    print(f\"\\nBrand: {brand}\")\n",
        "    for model in models:\n",
        "        print(f\"- {model}\")"
      ],
      "metadata": {
        "id": "z11Lw0S2rLsH",
        "colab": {
          "base_uri": "https://localhost:8080/"
        },
        "outputId": "f660e961-45ac-408c-83e2-9fbb73e5c6c2"
      },
      "execution_count": null,
      "outputs": [
        {
          "output_type": "stream",
          "name": "stdout",
          "text": [
            "Jumlah model ponsel: 33\n",
            "\n",
            "Daftar model berdasarkan brand:\n",
            "\n",
            "Brand: Apple\n",
            "- iPhone SE (2022)\n",
            "- iPhone 13 Mini\n",
            "- iPhone 13\n",
            "- iPhone 13 Pro\n",
            "- iPhone 13 Pro Max\n",
            "- iPhone XR\n",
            "\n",
            "Brand: Asus\n",
            "- Zenfone 8\n",
            "\n",
            "Brand: Google\n",
            "- Pixel 6  \n",
            "- Pixel 6a\n",
            "- Pixel 6 Pro \n",
            "\n",
            "Brand: Motorola\n",
            "- Moto G Stylus (2022)\n",
            "- Moto G Play (2021)\n",
            "- Moto G Pure\n",
            "- Moto G Power (2022)\n",
            "\n",
            "Brand: OnePlus\n",
            "- Nord N20\n",
            "- Nord 2T\n",
            "- 10 Pro\n",
            "- 10T\n",
            "\n",
            "Brand: Oppo\n",
            "- Find X5 Pro\n",
            "\n",
            "Brand: Samsung\n",
            "- Galaxy A13\n",
            "- Galaxy A32\n",
            "- Galaxy A53\n",
            "- Galaxy S22\n",
            "- Galaxy S22 Plus\n",
            "- Galaxy S22 Ultra\n",
            "- Galaxy Z Flip 3\n",
            "- Galaxy Z Fold 3\n",
            "\n",
            "Brand: Sony\n",
            "- Xperia Pro\n",
            "\n",
            "Brand: Vivo\n",
            "- X80 Pro\n",
            "\n",
            "Brand: Xiaomi\n",
            "- Redmi Note 11\n",
            "- 11T Pro\n",
            "- 12 Pro\n",
            "- Poco F4\n"
          ]
        }
      ]
    },
    {
      "cell_type": "markdown",
      "source": [
        "Terdapat total **33** model ponsel yang berasal dari seluruh brand yang ada.\n"
      ],
      "metadata": {
        "id": "HGuf_p7grkFt"
      }
    },
    {
      "cell_type": "code",
      "source": [
        "# Menghitung jumlah operating system\n",
        "os_counts = products['operating system'].value_counts()\n",
        "\n",
        "# Distribusi Sistem Operasi Ponsel\n",
        "sns.countplot(data=products, x='operating system', palette='Blues', legend=False)\n",
        "plt.title(\"Distribusi Sistem Operasi Ponsel\")\n",
        "plt.xlabel(\"Operating System\")\n",
        "plt.ylabel(\"Jumlah Ponsel\")\n",
        "plt.show()"
      ],
      "metadata": {
        "id": "21kO95yFTLFf",
        "colab": {
          "base_uri": "https://localhost:8080/",
          "height": 480
        },
        "outputId": "d4073cc1-26cd-4a0f-c5e3-2d0dc6c18e7f"
      },
      "execution_count": null,
      "outputs": [
        {
          "output_type": "display_data",
          "data": {
            "text/plain": [
              "<Figure size 640x480 with 1 Axes>"
            ],
            "image/png": "[encoded data removed]"
          },
          "metadata": {}
        }
      ]
    },
    {
      "cell_type": "markdown",
      "source": [
        "Grafik tersebut menunjukkan bahwa sebagian besar model ponsel menggunakan sistem operasi **Android**, dengan total sebanyak 27 perangkat. Sementara itu, hanya 6 perangkat yang menggunakan sistem operasi **iOS**."
      ],
      "metadata": {
        "id": "5HTQp32GT3OI"
      }
    },
    {
      "cell_type": "code",
      "source": [
        "def plot_memory_and_ram(data):\n",
        "    print(\"Jumlah Internal Memory:\\n\", data['internal memory'].value_counts(), \"\\n\")\n",
        "    print(\"Jumlah RAM:\\n\", data['RAM'].value_counts(), \"\\n\")\n",
        "    fig, axes = plt.subplots(1, 2, figsize=(10, 5))\n",
        "\n",
        "    # Plot Internal Memory\n",
        "    sns.countplot(ax=axes[0], data=data, x='internal memory', palette='Blues')\n",
        "    axes[0].set_title(\"Distribusi Internal Memory\", fontsize=13, fontweight='bold')\n",
        "    axes[0].set_xlabel(\"Internal Memory (GB)\")\n",
        "    axes[0].set_ylabel(\"Jumlah\")\n",
        "\n",
        "    # Plot RAM\n",
        "    sns.countplot(ax=axes[1], data=data, x='RAM', palette='Purples')\n",
        "    axes[1].set_title(\"Distribusi RAM\", fontsize=13, fontweight='bold')\n",
        "    axes[1].set_xlabel(\"RAM (GB)\")\n",
        "    axes[1].set_ylabel(\"Jumlah\")\n",
        "\n",
        "    plt.tight_layout()\n",
        "    plt.show()\n",
        "\n",
        "plot_memory_and_ram(products)"
      ],
      "metadata": {
        "id": "AArjEzweTOvg",
        "colab": {
          "base_uri": "https://localhost:8080/",
          "height": 829
        },
        "outputId": "7900921f-91d4-439e-de68-34cc8c745567"
      },
      "execution_count": null,
      "outputs": [
        {
          "output_type": "stream",
          "name": "stdout",
          "text": [
            "Jumlah Internal Memory:\n",
            " internal memory\n",
            "128    20\n",
            "256     6\n",
            "64      3\n",
            "32      3\n",
            "512     1\n",
            "Name: count, dtype: int64 \n",
            "\n",
            "Jumlah RAM:\n",
            " RAM\n",
            "8     13\n",
            "4      6\n",
            "6      6\n",
            "3      4\n",
            "12     4\n",
            "Name: count, dtype: int64 \n",
            "\n"
          ]
        },
        {
          "output_type": "display_data",
          "data": {
            "text/plain": [
              "<Figure size 1000x500 with 2 Axes>"
            ],
            "image/png": "[encoded data removed]"
          },
          "metadata": {}
        }
      ]
    },
    {
      "cell_type": "markdown",
      "source": [
        "Grafik tersebut menunjukkan sebagian besar perangkat yang tersedia dilengkapi dengan memori internal sebesar **128 GB** sebanyak **20 perangkat**, serta **RAM 8 GB** yang digunakan pada **13 perangkat**.\n"
      ],
      "metadata": {
        "id": "WeQHJc56UBke"
      }
    },
    {
      "cell_type": "code",
      "source": [
        "min_performance = products['performance'].min()\n",
        "max_performance = products['performance'].max()\n",
        "print(f\"Rentang nilai performance: {min_performance} - {max_performance}\\n\")"
      ],
      "metadata": {
        "id": "OXZhI4cqTYMP",
        "colab": {
          "base_uri": "https://localhost:8080/"
        },
        "outputId": "599e672f-7c03-4be8-e692-05e90806e41e"
      },
      "execution_count": null,
      "outputs": [
        {
          "output_type": "stream",
          "name": "stdout",
          "text": [
            "Rentang nilai performance: 1.02 - 11.0\n",
            "\n"
          ]
        }
      ]
    },
    {
      "cell_type": "code",
      "source": [
        "# Memisahkan produk berdasarkan ambang batas performance\n",
        "performance_high = products[products['performance'] > 5]\n",
        "performance_low = products[products['performance'] <= 5]\n",
        "\n",
        "# Menghitung total data untuk masing-masing kategori\n",
        "total_high = len(performance_high)\n",
        "total_low = len(performance_low)\n",
        "\n",
        "# Menampilkan total produk untuk masing-masing kategori\n",
        "print(\"Total ponsel dengan performa tinggi:\", total_high)\n",
        "print(\"Total ponsel dengan performa rendah:\", total_low)"
      ],
      "metadata": {
        "colab": {
          "base_uri": "https://localhost:8080/"
        },
        "id": "J-or_tlp6CA4",
        "outputId": "ca7f7edd-3846-4fc4-8159-8f7ea0dc6323"
      },
      "execution_count": null,
      "outputs": [
        {
          "output_type": "stream",
          "name": "stdout",
          "text": [
            "Total ponsel dengan performa tinggi: 23\n",
            "Total ponsel dengan performa rendah: 10\n"
          ]
        }
      ]
    },
    {
      "cell_type": "code",
      "source": [
        "# Menyiapkan data untuk visualisasi\n",
        "performance_summary = pd.DataFrame({\n",
        "    'Category': ['High', 'Low'],\n",
        "    'Total': [total_high, total_low]})"
      ],
      "metadata": {
        "id": "oB4OOQAC6Giv"
      },
      "execution_count": null,
      "outputs": []
    },
    {
      "cell_type": "code",
      "source": [
        "# Membuat grafik batang dengan warna menarik\n",
        "plt.figure(figsize=(8, 5))\n",
        "barplot = sns.barplot(data=performance_summary, x='Category', y='Total', palette='Blues')\n",
        "\n",
        "plt.title(\"Distribusi Kategori Performa\", fontsize=14, fontweight='bold')\n",
        "plt.xlabel(\"Kategori Performa\")\n",
        "plt.ylabel(\"Jumlah\")\n",
        "plt.tight_layout()\n",
        "plt.show()"
      ],
      "metadata": {
        "colab": {
          "base_uri": "https://localhost:8080/",
          "height": 501
        },
        "id": "se0s3lHy6KcN",
        "outputId": "59121b3b-164c-4ca6-de3f-c55b52326127"
      },
      "execution_count": null,
      "outputs": [
        {
          "output_type": "display_data",
          "data": {
            "text/plain": [
              "<Figure size 800x500 with 1 Axes>"
            ],
            "image/png": "[encoded data removed]"
          },
          "metadata": {}
        }
      ]
    },
    {
      "cell_type": "markdown",
      "source": [
        "Rentang nilai performa berkisar antara 1,02 hingga 11,0, dengan kategori performa rendah untuk nilai di bawah 5 dan performa tinggi untuk nilai di atas 5. Grafik tersebut memperlihatkan bahwa dari total perangkat, terdapat 23 unit dengan performa tinggi dan 10 unit dengan performa rendah berdasarkan hasil pengujian menggunakan AnTuTu.\n"
      ],
      "metadata": {
        "id": "XRVDdrf_UQJ0"
      }
    },
    {
      "cell_type": "code",
      "source": [
        "# Menampilkan rentang nilai harga\n",
        "min_price = products['price'].min()\n",
        "max_price = products['price'].max()\n",
        "print(f\"Rentang harga: {min_price} - {max_price}\\n\")"
      ],
      "metadata": {
        "id": "s09CWa4dTbAZ",
        "colab": {
          "base_uri": "https://localhost:8080/"
        },
        "outputId": "25bb1619-4623-4656-e20f-c5fc5c27e143"
      },
      "execution_count": null,
      "outputs": [
        {
          "output_type": "stream",
          "name": "stdout",
          "text": [
            "Rentang harga: 129 - 1998\n",
            "\n"
          ]
        }
      ]
    },
    {
      "cell_type": "code",
      "source": [
        "# Membuat kategori harga: Entry Level, Mid Level, Flagship\n",
        "price_bins = [0, 300, 800, max_price + 1]\n",
        "price_labels = ['Entry Level (0-300 USD)', 'Mid Level (301-800 USD)', 'Flagship (>800 USD)']\n",
        "products['price_category'] = pd.cut(products['price'], bins=price_bins, labels=price_labels, include_lowest=True)\n"
      ],
      "metadata": {
        "id": "n6jV13gX6s7J"
      },
      "execution_count": null,
      "outputs": []
    },
    {
      "cell_type": "code",
      "source": [
        "# Menghitung jumlah ponsel di setiap kategori harga\n",
        "category_counts = products['price_category'].value_counts().sort_index()\n",
        "print(\"Jumlah ponsel per kategori harga:\")\n",
        "print(category_counts)"
      ],
      "metadata": {
        "colab": {
          "base_uri": "https://localhost:8080/"
        },
        "id": "IJJGFXJc6ter",
        "outputId": "eb331b81-ebae-4c07-d87b-166e362a9f53"
      },
      "execution_count": null,
      "outputs": [
        {
          "output_type": "stream",
          "name": "stdout",
          "text": [
            "Jumlah ponsel per kategori harga:\n",
            "price_category\n",
            "Entry Level (0-300 USD)     8\n",
            "Mid Level (301-800 USD)    16\n",
            "Flagship (>800 USD)         9\n",
            "Name: count, dtype: int64\n"
          ]
        }
      ]
    },
    {
      "cell_type": "code",
      "source": [
        "# Distribusi kategori harga\n",
        "plt.figure(figsize=(10, 5))\n",
        "sns.barplot(x=category_counts.index, y=category_counts.values, palette='Purples')\n",
        "plt.title(\"Distribusi Kategori Harga Ponsel\")\n",
        "plt.xlabel(\"Kategori Harga\")\n",
        "plt.ylabel(\"Jumlah Ponsel\")\n",
        "plt.tight_layout()\n",
        "plt.show()"
      ],
      "metadata": {
        "colab": {
          "base_uri": "https://localhost:8080/",
          "height": 501
        },
        "id": "WdN8jnVc6tWB",
        "outputId": "e4e8d7bc-e441-49a3-af66-a4315cb0ebfc"
      },
      "execution_count": null,
      "outputs": [
        {
          "output_type": "display_data",
          "data": {
            "text/plain": [
              "<Figure size 1000x500 with 1 Axes>"
            ],
            "image/png": "[encoded data removed]"
          },
          "metadata": {}
        }
      ]
    },
    {
      "cell_type": "markdown",
      "source": [
        "Dari grafik tersebut, jumlah ponsel berdasarkan kategori harga menunjukkan bahwa terdapat **8** perangkat pada kategori Entry Level (0-300 USD), **16** perangkat pada kategori Mid Level (301-800 USD), dan **9** perangkat pada kategori Flagship dengan harga di atas 800 USD."
      ],
      "metadata": {
        "id": "ti0Ieau3Usaw"
      }
    },
    {
      "cell_type": "code",
      "source": [
        "user_review_counts = ratings['user_id'].value_counts()\n",
        "\n",
        "print(\"Analisis Review User: \")\n",
        "print(\"\\nJumlah review per user:\")\n",
        "print(user_review_counts.describe())  # Statistik ringkas (count, mean, std, min, max, dll)\n",
        "\n",
        "unique_review_counts = user_review_counts.unique()\n",
        "print(f\"\\nNilai unik jumlah review per user: {unique_review_counts}\")\n",
        "\n",
        "if len(unique_review_counts) == 1:\n",
        "    print(f\"Semua user melakukan jumlah review yang sama: {unique_review_counts[0]} review per user.\")\n",
        "else:\n",
        "    print(f\"User dengan review terbanyak: {user_review_counts.max()} review\")\n",
        "    print(f\"User dengan review paling sedikit: {user_review_counts.min()} review\")\n",
        "    print(f\"Rata-rata review per user: {user_review_counts.mean():.2f}\")"
      ],
      "metadata": {
        "id": "fsNMn-sf5Aw2",
        "colab": {
          "base_uri": "https://localhost:8080/"
        },
        "outputId": "fe3e1cef-d9cd-4542-90ce-418f8dd19603"
      },
      "execution_count": null,
      "outputs": [
        {
          "output_type": "stream",
          "name": "stdout",
          "text": [
            "Analisis Review User: \n",
            "\n",
            "Jumlah review per user:\n",
            "count    99.0\n",
            "mean     10.0\n",
            "std       0.0\n",
            "min      10.0\n",
            "25%      10.0\n",
            "50%      10.0\n",
            "75%      10.0\n",
            "max      10.0\n",
            "Name: count, dtype: float64\n",
            "\n",
            "Nilai unik jumlah review per user: [10]\n",
            "Semua user melakukan jumlah review yang sama: 10 review per user.\n"
          ]
        }
      ]
    },
    {
      "cell_type": "markdown",
      "source": [
        "**Analisis Ulasan Pengguna:**\n",
        "\n",
        "* Setiap pengguna memberikan jumlah ulasan yang sama, yakni sebanyak 10 ulasan."
      ],
      "metadata": {
        "id": "C_ec7wUi5lce"
      }
    },
    {
      "cell_type": "code",
      "source": [
        "# Hitung jumlah review untuk tiap tipe ponsel\n",
        "cellphone_review_counts = ratings['cellphone_id'].value_counts().reset_index()\n",
        "cellphone_review_counts.columns = ['cellphone_id', 'review_count']\n",
        "\n",
        "cellphone_reviews = cellphone_review_counts.merge(\n",
        "    products[['cellphone_id', 'model']],\n",
        "    on='cellphone_id',\n",
        "    how='left'\n",
        ")"
      ],
      "metadata": {
        "id": "mrb9vRpt5EHH"
      },
      "execution_count": null,
      "outputs": []
    },
    {
      "cell_type": "code",
      "source": [
        "min_reviews = cellphone_review_counts['review_count'].min()\n",
        "max_reviews = cellphone_review_counts['review_count'].max()\n",
        "avg_reviews = cellphone_review_counts['review_count'].mean()\n",
        "\n",
        "print(\"Analisis Review per Tipe Ponsel: \")\n",
        "print(f\"Ponsel dengan review paling sedikit: {min_reviews} review\")\n",
        "print(f\"Ponsel dengan review paling banyak: {max_reviews} review\")\n",
        "print(f\"Rata-rata jumlah review per ponsel: {avg_reviews:.2f}\")"
      ],
      "metadata": {
        "colab": {
          "base_uri": "https://localhost:8080/"
        },
        "id": "zxR8NTim7qL_",
        "outputId": "c08407a6-020d-4f69-d14a-79f3a14e7f9d"
      },
      "execution_count": null,
      "outputs": [
        {
          "output_type": "stream",
          "name": "stdout",
          "text": [
            "Analisis Review per Tipe Ponsel: \n",
            "Ponsel dengan review paling sedikit: 20 review\n",
            "Ponsel dengan review paling banyak: 41 review\n",
            "Rata-rata jumlah review per ponsel: 30.00\n"
          ]
        }
      ]
    },
    {
      "cell_type": "code",
      "source": [
        "plt.figure(figsize=(15, 7))\n",
        "sns.barplot(x='model', y='review_count', data=cellphone_reviews.sort_values('review_count', ascending=False),\n",
        "            palette='PuBu')\n",
        "plt.title(\"Distribusi Jumlah Review per Tipe Ponsel (Urut dari yang Terbanyak)\")\n",
        "plt.xlabel(\"Model Ponsel\")\n",
        "plt.ylabel(\"Jumlah Review\")\n",
        "plt.xticks(rotation=90)\n",
        "plt.tight_layout()\n",
        "plt.show()"
      ],
      "metadata": {
        "colab": {
          "base_uri": "https://localhost:8080/",
          "height": 701
        },
        "id": "J3amz7lz7qut",
        "outputId": "046985b4-ed06-4cf5-f37f-ed299888e3f7"
      },
      "execution_count": null,
      "outputs": [
        {
          "output_type": "display_data",
          "data": {
            "text/plain": [
              "<Figure size 1500x700 with 1 Axes>"
            ],
            "image/png": "[encoded data removed]"
          },
          "metadata": {}
        }
      ]
    },
    {
      "cell_type": "markdown",
      "source": [
        "**Analisis Ulasan Ponsel:**\n",
        "\n",
        "* Ponsel dengan jumlah ulasan terbanyak adalah **Moto G Play (2021)** dengan **41** ulasan, sementara ponsel dengan ulasan paling sedikit adalah **iPhone SE (2022)** dan **10T**, masing-masing menerima **20** ulasan."
      ],
      "metadata": {
        "id": "9yTlPHuu5sdM"
      }
    },
    {
      "cell_type": "code",
      "source": [
        "# Hitung distribusi rating\n",
        "rating_counts = ratings['rating'].value_counts().sort_index()\n",
        "\n",
        "# Statistik rating\n",
        "min_rating = ratings['rating'].min()\n",
        "max_rating = ratings['rating'].max()\n",
        "mean_rating = ratings['rating'].mean()\n",
        "\n",
        "print(\"Analisis Distribusi Rating: \")\n",
        "print(f\"Rating terkecil: {min_rating}\")\n",
        "print(f\"Rating terbesar: {max_rating}\")\n",
        "print(f\"Rata-rata rating: {mean_rating:.2f}\")"
      ],
      "metadata": {
        "id": "Xl4T3neZTexr",
        "colab": {
          "base_uri": "https://localhost:8080/"
        },
        "outputId": "bb5e51b9-3fff-45a7-b20a-a11a5ff6bc06"
      },
      "execution_count": null,
      "outputs": [
        {
          "output_type": "stream",
          "name": "stdout",
          "text": [
            "Analisis Distribusi Rating: \n",
            "Rating terkecil: 1\n",
            "Rating terbesar: 18\n",
            "Rata-rata rating: 6.70\n"
          ]
        }
      ]
    },
    {
      "cell_type": "code",
      "source": [
        "# Deteksi kemungkinan outlier rating (nilai di luar rentang umum 1-10)\n",
        "if max_rating > 10 or min_rating < 1:\n",
        "    print(\"Terdapat nilai rating yang mencurigakan (outliers) dalam data.\")"
      ],
      "metadata": {
        "colab": {
          "base_uri": "https://localhost:8080/"
        },
        "id": "hnliYlzg9mGT",
        "outputId": "48e28b38-728a-4b87-b8f9-c6f21dc78e38"
      },
      "execution_count": null,
      "outputs": [
        {
          "output_type": "stream",
          "name": "stdout",
          "text": [
            "Terdapat nilai rating yang mencurigakan (outliers) dalam data.\n"
          ]
        }
      ]
    },
    {
      "cell_type": "code",
      "source": [
        "# Visualisasi distribusi rating\n",
        "plt.figure(figsize=(6, 5))\n",
        "sns.countplot(x='rating', data=ratings, palette='Blues')\n",
        "plt.title(\"Distribusi Rating User\")\n",
        "plt.xlabel(\"Rating\")\n",
        "plt.ylabel(\"Jumlah Review\")\n",
        "plt.tight_layout()\n",
        "plt.show()"
      ],
      "metadata": {
        "colab": {
          "base_uri": "https://localhost:8080/",
          "height": 501
        },
        "id": "kmYtLayw9p5e",
        "outputId": "de815e49-c074-401e-d771-eb4bf80adee1"
      },
      "execution_count": null,
      "outputs": [
        {
          "output_type": "display_data",
          "data": {
            "text/plain": [
              "<Figure size 600x500 with 1 Axes>"
            ],
            "image/png": "[encoded data removed]"
          },
          "metadata": {}
        }
      ]
    },
    {
      "cell_type": "markdown",
      "source": [
        "**Analisis Distribusi Rating:**\n",
        "\n",
        "* Nilai rating berkisar antara 1 hingga 10. Rating yang paling sering muncul adalah nilai 8 dengan **195** kemunculan, sedangkan rating yang paling jarang diberikan adalah nilai 3 dengan **30** kemunculan. Selain itu, terdapat outlier pada nilai rating sebesar 18."
      ],
      "metadata": {
        "id": "UEqRmYkAU8bR"
      }
    },
    {
      "cell_type": "code",
      "source": [
        "# Hitung frekuensi kemunculan setiap usia dan tampilkan secara terurut\n",
        "age_counts = users['age'].value_counts().sort_index()"
      ],
      "metadata": {
        "id": "lINgD7uT4zm5"
      },
      "execution_count": null,
      "outputs": []
    },
    {
      "cell_type": "code",
      "source": [
        "# Tampilkan rentang usia pengguna\n",
        "min_age = users['age'].min()\n",
        "max_age = users['age'].max()\n",
        "most_common_age = age_counts.idxmax()\n",
        "most_common_age_count = age_counts.max()\n",
        "\n",
        "print(\"Analisis Usia Pengguna: \")\n",
        "print(f\"Usia termuda: {min_age}\")\n",
        "print(f\"Usia tertua: {max_age}\")\n",
        "print(f\"Usia yang paling banyak muncul: {most_common_age} (sebanyak {most_common_age_count} pengguna)\")"
      ],
      "metadata": {
        "colab": {
          "base_uri": "https://localhost:8080/"
        },
        "id": "3gEqbETo98Bc",
        "outputId": "bd122c2c-387d-42a2-c541-6a0d6be262e5"
      },
      "execution_count": null,
      "outputs": [
        {
          "output_type": "stream",
          "name": "stdout",
          "text": [
            "Analisis Usia Pengguna: \n",
            "Usia termuda: 21\n",
            "Usia tertua: 61\n",
            "Usia yang paling banyak muncul: 25 (sebanyak 12 pengguna)\n"
          ]
        }
      ]
    },
    {
      "cell_type": "code",
      "source": [
        "# Visualisasi distribusi usia\n",
        "plt.figure(figsize=(10, 5))\n",
        "sns.countplot(data=users, x='age', palette='Blues')\n",
        "plt.title(\"Distribusi Usia Pengguna\")\n",
        "plt.xlabel(\"Usia\")\n",
        "plt.ylabel(\"Jumlah Pengguna\")\n",
        "plt.tight_layout()\n",
        "plt.show()"
      ],
      "metadata": {
        "colab": {
          "base_uri": "https://localhost:8080/",
          "height": 501
        },
        "id": "7uBQoOWc98b2",
        "outputId": "1444fba7-2d56-4077-812e-ea3a731e1599"
      },
      "execution_count": null,
      "outputs": [
        {
          "output_type": "display_data",
          "data": {
            "text/plain": [
              "<Figure size 1000x500 with 1 Axes>"
            ],
            "image/png": "[encoded data removed]"
          },
          "metadata": {}
        }
      ]
    },
    {
      "cell_type": "markdown",
      "source": [
        "Grafik menunjukkan mayoritas pengguna berusia 25–35 tahun, dengan puncak pada usia 25 (12 pengguna). Usia termuda adalah 21 dan tertua 61. Ini menunjukkan dominasi pengguna usia muda, yang penting dipertimbangkan dalam sistem rekomendasi."
      ],
      "metadata": {
        "id": "PmXbAuAe_piy"
      }
    },
    {
      "cell_type": "code",
      "source": [
        "# Hitung jumlah setiap kategori gender dan tampilkan\n",
        "gender_counts = users['gender'].value_counts().sort_index()\n",
        "print(\"Analisis Gender Pengguna: \")\n",
        "\n",
        "if '-Select Gender-' in gender_counts.index:\n",
        "    print(\"Terdapat data invalid berupa pilihan '-Select Gender-' yang perlu dibersihkan.\")\n",
        "\n",
        "plt.figure(figsize=(5, 3))\n",
        "sns.countplot(data=users, x='gender', palette='Blues')\n",
        "plt.title(\"Distribusi Gender Pengguna\")\n",
        "plt.xlabel(\"Gender\")\n",
        "plt.ylabel(\"Jumlah Pengguna\")\n",
        "plt.tight_layout()\n",
        "plt.show()"
      ],
      "metadata": {
        "id": "Ws5LJB_443uO",
        "colab": {
          "base_uri": "https://localhost:8080/",
          "height": 337
        },
        "outputId": "312d3f4a-ac7c-4c17-f6e4-e27bc832d5e0"
      },
      "execution_count": null,
      "outputs": [
        {
          "output_type": "stream",
          "name": "stdout",
          "text": [
            "Analisis Gender Pengguna: \n",
            "Terdapat data invalid berupa pilihan '-Select Gender-' yang perlu dibersihkan.\n"
          ]
        },
        {
          "output_type": "display_data",
          "data": {
            "text/plain": [
              "<Figure size 500x300 with 1 Axes>"
            ],
            "image/png": "[encoded data removed]"
          },
          "metadata": {}
        }
      ]
    },
    {
      "cell_type": "markdown",
      "source": [
        "Grafik menunjukkan distribusi gender pengguna didominasi oleh **laki-laki (50 pengguna)** dan **perempuan (45 pengguna)**. Terdapat juga beberapa entri tidak valid atau kosong **(label \"-Select Gender-\")** sebanyak **4 pengguna**. Data ini penting untuk memastikan sistem rekomendasi bersifat inklusif terhadap seluruh gender."
      ],
      "metadata": {
        "id": "lBQzxb80CjNe"
      }
    },
    {
      "cell_type": "code",
      "source": [
        "# Hitung jumlah kemunculan tiap jenis pekerjaan (case insensitive)\n",
        "occupation_counts = users['occupation'].str.lower().value_counts().sort_index()\n",
        "print(\"Analisis Pekerjaan Pengguna: \")\n",
        "print(f\"Jumlah kategori pekerjaan unik: {len(occupation_counts)}\")\n",
        "print(\"Frekuensi pekerjaan pengguna:\")\n",
        "print(occupation_counts)\n",
        "\n",
        "# Deteksi kesalahan penulisan umum pada pekerjaan\n",
        "if 'healthare' in occupation_counts.index:\n",
        "    print(\"\\nDitemukan kesalahan penulisan pada 'healthare', yang benar adalah 'healthcare'.\")\n",
        "\n",
        "# Identifikasi pekerjaan yang bisa digabungkan untuk analisis yang lebih rapi\n",
        "if 'information technology' in occupation_counts.index and 'it' in occupation_counts.index:\n",
        "    print(\"Pekerjaan dengan kategori 'information technology' dan 'it' dapat digabungkan menjadi satu kelompok untuk mempermudah analisis.\")"
      ],
      "metadata": {
        "id": "-nf_P5QgTg83",
        "colab": {
          "base_uri": "https://localhost:8080/"
        },
        "outputId": "4d01024f-da6d-4f46-980c-a954ef98982d"
      },
      "execution_count": null,
      "outputs": [
        {
          "output_type": "stream",
          "name": "stdout",
          "text": [
            "Analisis Pekerjaan Pengguna: \n",
            "Jumlah kategori pekerjaan unik: 45\n",
            "Frekuensi pekerjaan pengguna:\n",
            "occupation\n",
            "accountant                           2\n",
            "administrative officer               5\n",
            "administrator                        1\n",
            "banking                              1\n",
            "business                             1\n",
            "computer technician                  1\n",
            "construction                         2\n",
            "data analyst                         2\n",
            "education                            2\n",
            "executive                            1\n",
            "executive manager                    1\n",
            "finance                              2\n",
            "healthare                            1\n",
            "healthcare                           2\n",
            "homemaker                            1\n",
            "ict officer                          1\n",
            "information                          1\n",
            "information technology              12\n",
            "it                                   6\n",
            "manager                             18\n",
            "marketing                            1\n",
            "master degree                        1\n",
            "nurse                                1\n",
            "ops manager                          1\n",
            "president transportation company     1\n",
            "purchase manager                     1\n",
            "qa software manager                  1\n",
            "registered                           1\n",
            "retail                               1\n",
            "sales                                3\n",
            "sales manager                        2\n",
            "security                             3\n",
            "self employed                        1\n",
            "software developer                   4\n",
            "system administrator                 1\n",
            "teacher                              1\n",
            "team leader                          2\n",
            "team worker in it                    1\n",
            "technical engineer                   1\n",
            "technician                           1\n",
            "transportation                       1\n",
            "warehousing                          1\n",
            "web design                           1\n",
            "worker                               2\n",
            "writer                               1\n",
            "Name: count, dtype: int64\n",
            "\n",
            "Ditemukan kesalahan penulisan pada 'healthare', yang benar adalah 'healthcare'.\n",
            "Pekerjaan dengan kategori 'information technology' dan 'it' dapat digabungkan menjadi satu kelompok untuk mempermudah analisis.\n"
          ]
        }
      ]
    },
    {
      "cell_type": "markdown",
      "source": [
        "Berdasarkan data pekerjaan pengguna:\n",
        "\n",
        "* Terdapat 45 kategori pekerjaan unik.\n",
        "\n",
        "* Pekerjaan terbanyak adalah manager sebanyak 18 pengguna, diikuti oleh information technology (12 pengguna) dan it (6 pengguna).\n",
        "\n",
        "* Ditemukan duplikasi makna pekerjaan, seperti information technology dan it, yang sebaiknya digabungkan untuk analisis lebih akurat.\n",
        "\n",
        "* Terdapat kesalahan penulisan pada healthare, yang seharusnya healthcare."
      ],
      "metadata": {
        "id": "oRxxRnqjCZTB"
      }
    },
    {
      "cell_type": "markdown",
      "source": [
        "# Data Preparation"
      ],
      "metadata": {
        "id": "pt28enOUVqrp"
      }
    },
    {
      "cell_type": "markdown",
      "source": [
        "Pada tahap ini dilakukan:\n",
        "\n",
        "1. **Merged all datasets**"
      ],
      "metadata": {
        "id": "y9Lo0nDho0uD"
      }
    },
    {
      "cell_type": "code",
      "source": [
        "ratings_data = pd.merge(ratings, products, on='cellphone_id')\n",
        "merged_data = pd.merge(ratings_data, users, on='user_id')"
      ],
      "metadata": {
        "id": "80YjUS1N7uLD"
      },
      "execution_count": null,
      "outputs": []
    },
    {
      "cell_type": "markdown",
      "source": [
        "2. **Cek dan Hapus Missing Values**"
      ],
      "metadata": {
        "id": "RDsd-vC6GpnG"
      }
    },
    {
      "cell_type": "code",
      "source": [
        "def check_and_drop_missing(data):\n",
        "    # Periksa jumlah data yang hilang (missing value) di setiap kolom\n",
        "    missing_values = data.isnull().sum()\n",
        "    print(\"Jumlah data yang hilang di setiap kolom:\")\n",
        "    print(missing_values)\n",
        "\n",
        "    # Tampilkan detail kolom dan baris yang memiliki missing value, jika ada\n",
        "    if missing_values.any():\n",
        "        print(\"\\nTerdapat kolom yang mengandung nilai yang hilang.\")\n",
        "        print(data[data.isnull().any(axis=1)])\n",
        "        cleaned_data = data.dropna()\n",
        "        print(\"\\nDataset setelah dihapus baris yang mengandung nilai yang hilang.\")\n",
        "        return cleaned_data\n",
        "    else:\n",
        "        print(\"\\nDataset tidak mengandung nilai yang hilang.\")\n",
        "        return data\n",
        "\n",
        "merged_data = check_and_drop_missing(merged_data)"
      ],
      "metadata": {
        "id": "ploZEzLF7Bt9",
        "colab": {
          "base_uri": "https://localhost:8080/"
        },
        "outputId": "6a2760b4-7e80-40e0-ba09-b80fec63209f"
      },
      "execution_count": null,
      "outputs": [
        {
          "output_type": "stream",
          "name": "stdout",
          "text": [
            "Jumlah data yang hilang di setiap kolom:\n",
            "user_id              0\n",
            "cellphone_id         0\n",
            "rating               0\n",
            "brand                0\n",
            "model                0\n",
            "operating system     0\n",
            "internal memory      0\n",
            "RAM                  0\n",
            "performance          0\n",
            "main camera          0\n",
            "selfie camera        0\n",
            "battery size         0\n",
            "screen size          0\n",
            "weight               0\n",
            "price                0\n",
            "release date         0\n",
            "price_category       0\n",
            "age                  0\n",
            "gender               0\n",
            "occupation          10\n",
            "dtype: int64\n",
            "\n",
            "Terdapat kolom yang mengandung nilai yang hilang.\n",
            "     user_id  cellphone_id  rating     brand                 model  \\\n",
            "210       53            32       9  Motorola   Moto G Power (2022)   \n",
            "211       53             5       8     Apple             iPhone XR   \n",
            "212       53            15      10    Google             Pixel 6     \n",
            "213       53             4       9     Apple     iPhone 13 Pro Max   \n",
            "214       53            26       9    Xiaomi                12 Pro   \n",
            "215       53             9       8   Samsung            Galaxy A53   \n",
            "216       53             7       8   Samsung            Galaxy A13   \n",
            "217       53            29       8  Motorola  Moto G Stylus (2022)   \n",
            "218       53            25       9    Xiaomi               11T Pro   \n",
            "219       53            17       8    Google          Pixel 6 Pro    \n",
            "\n",
            "    operating system  internal memory  RAM  performance  main camera  \\\n",
            "210          Android               64    4         1.35           50   \n",
            "211              iOS               64    3         4.22           12   \n",
            "212          Android              128    8         6.76           50   \n",
            "213              iOS              256    6         8.01           12   \n",
            "214          Android              128    8         9.85           50   \n",
            "215          Android              128    6         3.79           64   \n",
            "216          Android               32    3         1.36           50   \n",
            "217          Android              128    6         2.30           50   \n",
            "218          Android              256    8         7.59          108   \n",
            "219          Android              128   12         7.19           50   \n",
            "\n",
            "     selfie camera  battery size  screen size  weight  price release date  \\\n",
            "210              8          5000          6.5     203    189   22/02/2022   \n",
            "211              7          2942          6.1     194    236   26/10/2018   \n",
            "212              8          4614          6.4     207    499   28/10/2021   \n",
            "213             12          4352          6.7     240   1199   24/09/2021   \n",
            "214             32          4600          6.7     204    618   31/12/2021   \n",
            "215             32          5000          6.5     189    312   24/03/2022   \n",
            "216              8          5000          6.6     196    154   23/03/2022   \n",
            "217             16          5000          6.8     215    500   27/04/2022   \n",
            "218             16          5000          6.6     204    435   05/10/2021   \n",
            "219             11          5003          6.7     210    699   28/10/2021   \n",
            "\n",
            "              price_category  age           gender occupation  \n",
            "210  Entry Level (0-300 USD)   38  -Select Gender-        NaN  \n",
            "211  Entry Level (0-300 USD)   38  -Select Gender-        NaN  \n",
            "212  Mid Level (301-800 USD)   38  -Select Gender-        NaN  \n",
            "213      Flagship (>800 USD)   38  -Select Gender-        NaN  \n",
            "214  Mid Level (301-800 USD)   38  -Select Gender-        NaN  \n",
            "215  Mid Level (301-800 USD)   38  -Select Gender-        NaN  \n",
            "216  Entry Level (0-300 USD)   38  -Select Gender-        NaN  \n",
            "217  Mid Level (301-800 USD)   38  -Select Gender-        NaN  \n",
            "218  Mid Level (301-800 USD)   38  -Select Gender-        NaN  \n",
            "219  Mid Level (301-800 USD)   38  -Select Gender-        NaN  \n",
            "\n",
            "Dataset setelah dihapus baris yang mengandung nilai yang hilang.\n"
          ]
        }
      ]
    },
    {
      "cell_type": "markdown",
      "source": [
        "Terdapat 10 nilai kosong pada kolom `occupation`, dan langsung dilakukan penanganan dengan cara di hapus baris yang mengandung nilai kosong tersebut."
      ],
      "metadata": {
        "id": "2Nir8Yjz8LMZ"
      }
    },
    {
      "cell_type": "markdown",
      "source": [
        "3. **Cek dan Hapus Data Duplikat**"
      ],
      "metadata": {
        "id": "Pshq8PSZG_rl"
      }
    },
    {
      "cell_type": "code",
      "source": [
        "def check_and_drop_duplicates(data):\n",
        "\n",
        "    duplicate_count = data.duplicated().sum()\n",
        "    print(f\"Jumlah data duplikat: {duplicate_count}\")\n",
        "\n",
        "    if duplicate_count > 0:\n",
        "        print(\"\\nTerdapat data duplikat:\")\n",
        "        print(data[data.duplicated()])\n",
        "        cleaned_data = data.drop_duplicates()\n",
        "        print(\"\\nDataset setelah dihapus data duplikat.\")\n",
        "        return cleaned_data\n",
        "    else:\n",
        "        print(\"\\nDataset tidak mengandung data duplikat.\")\n",
        "        return data\n",
        "\n",
        "merged_data = check_and_drop_duplicates(merged_data)"
      ],
      "metadata": {
        "id": "bhF606tAFgl4",
        "colab": {
          "base_uri": "https://localhost:8080/"
        },
        "outputId": "824e1bdb-3f90-45b9-fbbf-bbf1be75fdc6"
      },
      "execution_count": null,
      "outputs": [
        {
          "output_type": "stream",
          "name": "stdout",
          "text": [
            "Jumlah data duplikat: 0\n",
            "\n",
            "Dataset tidak mengandung data duplikat.\n"
          ]
        }
      ]
    },
    {
      "cell_type": "markdown",
      "source": [
        "Tidak terdapat nilai terduplikasi"
      ],
      "metadata": {
        "id": "XIWLoYRSHFwM"
      }
    },
    {
      "cell_type": "markdown",
      "source": [
        "4. **Cek dan Hapus Nilai Invalid**"
      ],
      "metadata": {
        "id": "pFQNtuRwHI42"
      }
    },
    {
      "cell_type": "code",
      "source": [
        "def check_invalid(data):\n",
        "    # Periksa jumlah data dengan entri gender tidak valid \"-Select Gender-\"\n",
        "    invalid_gender_count = data[data['gender'] == \"-Select Gender-\"].shape[0]\n",
        "    print(f\"Jumlah data gender invalid (-Select Gender-): {invalid_gender_count}\")\n",
        "\n",
        "    if invalid_gender_count > 0:\n",
        "        print(\"\\nData gender '-Select Gender-':\")\n",
        "        print(data[data['gender'] == \"-Select Gender-\"])\n",
        "        cleaned_data = data[data['gender'] != \"-Select Gender-\"]\n",
        "        print(\"\\nDataset setelah dihapus entri dengan gender '-Select Gender-'\")\n",
        "        return cleaned_data\n",
        "    else:\n",
        "        print(\"\\nTidak ditemukan entri dengan gender '-Select Gender-' dalam dataset.\")\n",
        "        return data"
      ],
      "metadata": {
        "id": "zELeHaMtVxK3"
      },
      "execution_count": null,
      "outputs": []
    },
    {
      "cell_type": "code",
      "source": [
        "check_invalid(merged_data)"
      ],
      "metadata": {
        "colab": {
          "base_uri": "https://localhost:8080/",
          "height": 1000
        },
        "id": "7WXQwx65Drf9",
        "outputId": "b7ca54ff-be1b-44eb-fba4-bcfc2ad47af7"
      },
      "execution_count": null,
      "outputs": [
        {
          "output_type": "stream",
          "name": "stdout",
          "text": [
            "Jumlah data gender invalid (-Select Gender-): 20\n",
            "\n",
            "Data gender '-Select Gender-':\n",
            "     user_id  cellphone_id  rating     brand                 model  \\\n",
            "550      144            30       7  Motorola    Moto G Play (2021)   \n",
            "551      144             5      10     Apple             iPhone XR   \n",
            "552      144            28       9      Sony            Xperia Pro   \n",
            "553      144            22       7      Oppo           Find X5 Pro   \n",
            "554      144            32       7  Motorola   Moto G Power (2022)   \n",
            "555      144            15       9    Google             Pixel 6     \n",
            "556      144             3      10     Apple         iPhone 13 Pro   \n",
            "557      144            18       8   OnePlus              Nord N20   \n",
            "558      144             8       8   Samsung            Galaxy A32   \n",
            "559      144            29       7  Motorola  Moto G Stylus (2022)   \n",
            "640      169            31       1  Motorola           Moto G Pure   \n",
            "641      169             1       5     Apple        iPhone 13 Mini   \n",
            "642      169             5       7     Apple             iPhone XR   \n",
            "643      169            25       9    Xiaomi               11T Pro   \n",
            "644      169             3      10     Apple         iPhone 13 Pro   \n",
            "645      169            27       7    Xiaomi               Poco F4   \n",
            "646      169             2      10     Apple             iPhone 13   \n",
            "647      169            12      10   Samsung      Galaxy S22 Ultra   \n",
            "648      169             9       8   Samsung            Galaxy A53   \n",
            "649      169            26       8    Xiaomi                12 Pro   \n",
            "\n",
            "    operating system  internal memory  RAM  performance  main camera  \\\n",
            "550          Android               32    3         1.42           13   \n",
            "551              iOS               64    3         4.22           12   \n",
            "552          Android              512   12         6.82           12   \n",
            "553          Android              256   12        10.12           50   \n",
            "554          Android               64    4         1.35           50   \n",
            "555          Android              128    8         6.76           50   \n",
            "556              iOS              256    6         7.94           12   \n",
            "557          Android              128    6         3.80           64   \n",
            "558          Android               64    4         2.20           48   \n",
            "559          Android              128    6         2.30           50   \n",
            "640          Android               32    3         1.02           13   \n",
            "641              iOS              128    4         7.72           12   \n",
            "642              iOS               64    3         4.22           12   \n",
            "643          Android              256    8         7.59          108   \n",
            "644              iOS              256    6         7.94           12   \n",
            "645          Android              128    8         6.98           64   \n",
            "646              iOS              128    4         7.75           12   \n",
            "647          Android              128    8         9.68          108   \n",
            "648          Android              128    6         3.79           64   \n",
            "649          Android              128    8         9.85           50   \n",
            "\n",
            "     selfie camera  battery size  screen size  weight  price release date  \\\n",
            "550              5          5000          6.5     204    159   14/01/2021   \n",
            "551              7          2942          6.1     194    236   26/10/2018   \n",
            "552              8          4000          6.5     225   1998   27/01/2021   \n",
            "553             32          5000          6.7     218    987   14/03/2022   \n",
            "554              8          5000          6.5     203    189   22/02/2022   \n",
            "555              8          4614          6.4     207    499   28/10/2021   \n",
            "556             12          3065          6.1     204    999   24/09/2021   \n",
            "557             16          4500          6.4     173    299   28/04/2022   \n",
            "558             13          5000          6.5     205    199   22/01/2021   \n",
            "559             16          5000          6.8     215    500   27/04/2022   \n",
            "640              5          4000          6.5     188    129   14/10/2021   \n",
            "641             12          2438          5.4     141    699   24/09/2021   \n",
            "642              7          2942          6.1     194    236   26/10/2018   \n",
            "643             16          5000          6.6     204    435   05/10/2021   \n",
            "644             12          3065          6.1     204    999   24/09/2021   \n",
            "645             20          4500          6.6     195    428   27/07/2022   \n",
            "646             12          3240          6.1     174    699   24/09/2021   \n",
            "647             40          5000          6.8     228    840   25/02/2022   \n",
            "648             32          5000          6.5     189    312   24/03/2022   \n",
            "649             32          4600          6.7     204    618   31/12/2021   \n",
            "\n",
            "              price_category  age           gender              occupation  \n",
            "550  Entry Level (0-300 USD)   38  -Select Gender-  ADMINISTRATIVE OFFICER  \n",
            "551  Entry Level (0-300 USD)   38  -Select Gender-  ADMINISTRATIVE OFFICER  \n",
            "552      Flagship (>800 USD)   38  -Select Gender-  ADMINISTRATIVE OFFICER  \n",
            "553      Flagship (>800 USD)   38  -Select Gender-  ADMINISTRATIVE OFFICER  \n",
            "554  Entry Level (0-300 USD)   38  -Select Gender-  ADMINISTRATIVE OFFICER  \n",
            "555  Mid Level (301-800 USD)   38  -Select Gender-  ADMINISTRATIVE OFFICER  \n",
            "556      Flagship (>800 USD)   38  -Select Gender-  ADMINISTRATIVE OFFICER  \n",
            "557  Entry Level (0-300 USD)   38  -Select Gender-  ADMINISTRATIVE OFFICER  \n",
            "558  Entry Level (0-300 USD)   38  -Select Gender-  ADMINISTRATIVE OFFICER  \n",
            "559  Mid Level (301-800 USD)   38  -Select Gender-  ADMINISTRATIVE OFFICER  \n",
            "640  Entry Level (0-300 USD)   38  -Select Gender-                 Manager  \n",
            "641  Mid Level (301-800 USD)   38  -Select Gender-                 Manager  \n",
            "642  Entry Level (0-300 USD)   38  -Select Gender-                 Manager  \n",
            "643  Mid Level (301-800 USD)   38  -Select Gender-                 Manager  \n",
            "644      Flagship (>800 USD)   38  -Select Gender-                 Manager  \n",
            "645  Mid Level (301-800 USD)   38  -Select Gender-                 Manager  \n",
            "646  Mid Level (301-800 USD)   38  -Select Gender-                 Manager  \n",
            "647      Flagship (>800 USD)   38  -Select Gender-                 Manager  \n",
            "648  Mid Level (301-800 USD)   38  -Select Gender-                 Manager  \n",
            "649  Mid Level (301-800 USD)   38  -Select Gender-                 Manager  \n",
            "\n",
            "Dataset setelah dihapus entri dengan gender '-Select Gender-'\n"
          ]
        },
        {
          "output_type": "execute_result",
          "data": {
            "text/plain": [
              "     user_id  cellphone_id  rating     brand               model  \\\n",
              "0          0            30       1  Motorola  Moto G Play (2021)   \n",
              "1          0             5       3     Apple           iPhone XR   \n",
              "2          0            10       9   Samsung          Galaxy S22   \n",
              "3          0             9       3   Samsung          Galaxy A53   \n",
              "4          0            23       2      Vivo             X80 Pro   \n",
              "..       ...           ...     ...       ...                 ...   \n",
              "985      258            31       5  Motorola         Moto G Pure   \n",
              "986      258            17       8    Google        Pixel 6 Pro    \n",
              "987      258            23       9      Vivo             X80 Pro   \n",
              "988      258            27       8    Xiaomi             Poco F4   \n",
              "989      258            24       6    Xiaomi       Redmi Note 11   \n",
              "\n",
              "    operating system  internal memory  RAM  performance  main camera  \\\n",
              "0            Android               32    3         1.42           13   \n",
              "1                iOS               64    3         4.22           12   \n",
              "2            Android              128    8         8.81           50   \n",
              "3            Android              128    6         3.79           64   \n",
              "4            Android              256    8         9.81           50   \n",
              "..               ...              ...  ...          ...          ...   \n",
              "985          Android               32    3         1.02           13   \n",
              "986          Android              128   12         7.19           50   \n",
              "987          Android              256    8         9.81           50   \n",
              "988          Android              128    8         6.98           64   \n",
              "989          Android              128    4         2.44           50   \n",
              "\n",
              "     selfie camera  battery size  screen size  weight  price release date  \\\n",
              "0                5          5000          6.5     204    159   14/01/2021   \n",
              "1                7          2942          6.1     194    236   26/10/2018   \n",
              "2               10          3700          6.1     167    528   25/02/2022   \n",
              "3               32          5000          6.5     189    312   24/03/2022   \n",
              "4               32          4700          6.7     215    872   29/04/2022   \n",
              "..             ...           ...          ...     ...    ...          ...   \n",
              "985              5          4000          6.5     188    129   14/10/2021   \n",
              "986             11          5003          6.7     210    699   28/10/2021   \n",
              "987             32          4700          6.7     215    872   29/04/2022   \n",
              "988             20          4500          6.6     195    428   27/07/2022   \n",
              "989             13          5000          6.4     179    174   09/02/2022   \n",
              "\n",
              "              price_category  age  gender         occupation  \n",
              "0    Entry Level (0-300 USD)   38  Female       Data analyst  \n",
              "1    Entry Level (0-300 USD)   38  Female       Data analyst  \n",
              "2    Mid Level (301-800 USD)   38  Female       Data analyst  \n",
              "3    Mid Level (301-800 USD)   38  Female       Data analyst  \n",
              "4        Flagship (>800 USD)   38  Female       Data analyst  \n",
              "..                       ...  ...     ...                ...  \n",
              "985  Entry Level (0-300 USD)   25    Male  Executive Manager  \n",
              "986  Mid Level (301-800 USD)   25    Male  Executive Manager  \n",
              "987      Flagship (>800 USD)   25    Male  Executive Manager  \n",
              "988  Mid Level (301-800 USD)   25    Male  Executive Manager  \n",
              "989  Entry Level (0-300 USD)   25    Male  Executive Manager  \n",
              "\n",
              "[960 rows x 20 columns]"
            ],
            "text/html": [
              "\n",
              "  <div id=\"df-90566873-4ff6-4cf9-9d74-ed275c8f360b\" class=\"colab-df-container\">\n",
              "    <div>\n",
              "<style scoped>\n",
              "    .dataframe tbody tr th:only-of-type {\n",
              "        vertical-align: middle;\n",
              "    }\n",
              "\n",
              "    .dataframe tbody tr th {\n",
              "        vertical-align: top;\n",
              "    }\n",
              "\n",
              "    .dataframe thead th {\n",
              "        text-align: right;\n",
              "    }\n",
              "</style>\n",
              "<table border=\"1\" class=\"dataframe\">\n",
              "  <thead>\n",
              "    <tr style=\"text-align: right;\">\n",
              "      <th></th>\n",
              "      <th>user_id</th>\n",
              "      <th>cellphone_id</th>\n",
              "      <th>rating</th>\n",
              "      <th>brand</th>\n",
              "      <th>model</th>\n",
              "      <th>operating system</th>\n",
              "      <th>internal memory</th>\n",
              "      <th>RAM</th>\n",
              "      <th>performance</th>\n",
              "      <th>main camera</th>\n",
              "      <th>selfie camera</th>\n",
              "      <th>battery size</th>\n",
              "      <th>screen size</th>\n",
              "      <th>weight</th>\n",
              "      <th>price</th>\n",
              "      <th>release date</th>\n",
              "      <th>price_category</th>\n",
              "      <th>age</th>\n",
              "      <th>gender</th>\n",
              "      <th>occupation</th>\n",
              "    </tr>\n",
              "  </thead>\n",
              "  <tbody>\n",
              "    <tr>\n",
              "      <th>0</th>\n",
              "      <td>0</td>\n",
              "      <td>30</td>\n",
              "      <td>1</td>\n",
              "      <td>Motorola</td>\n",
              "      <td>Moto G Play (2021)</td>\n",
              "      <td>Android</td>\n",
              "      <td>32</td>\n",
              "      <td>3</td>\n",
              "      <td>1.42</td>\n",
              "      <td>13</td>\n",
              "      <td>5</td>\n",
              "      <td>5000</td>\n",
              "      <td>6.5</td>\n",
              "      <td>204</td>\n",
              "      <td>159</td>\n",
              "      <td>14/01/2021</td>\n",
              "      <td>Entry Level (0-300 USD)</td>\n",
              "      <td>38</td>\n",
              "      <td>Female</td>\n",
              "      <td>Data analyst</td>\n",
              "    </tr>\n",
              "    <tr>\n",
              "      <th>1</th>\n",
              "      <td>0</td>\n",
              "      <td>5</td>\n",
              "      <td>3</td>\n",
              "      <td>Apple</td>\n",
              "      <td>iPhone XR</td>\n",
              "      <td>iOS</td>\n",
              "      <td>64</td>\n",
              "      <td>3</td>\n",
              "      <td>4.22</td>\n",
              "      <td>12</td>\n",
              "      <td>7</td>\n",
              "      <td>2942</td>\n",
              "      <td>6.1</td>\n",
              "      <td>194</td>\n",
              "      <td>236</td>\n",
              "      <td>26/10/2018</td>\n",
              "      <td>Entry Level (0-300 USD)</td>\n",
              "      <td>38</td>\n",
              "      <td>Female</td>\n",
              "      <td>Data analyst</td>\n",
              "    </tr>\n",
              "    <tr>\n",
              "      <th>2</th>\n",
              "      <td>0</td>\n",
              "      <td>10</td>\n",
              "      <td>9</td>\n",
              "      <td>Samsung</td>\n",
              "      <td>Galaxy S22</td>\n",
              "      <td>Android</td>\n",
              "      <td>128</td>\n",
              "      <td>8</td>\n",
              "      <td>8.81</td>\n",
              "      <td>50</td>\n",
              "      <td>10</td>\n",
              "      <td>3700</td>\n",
              "      <td>6.1</td>\n",
              "      <td>167</td>\n",
              "      <td>528</td>\n",
              "      <td>25/02/2022</td>\n",
              "      <td>Mid Level (301-800 USD)</td>\n",
              "      <td>38</td>\n",
              "      <td>Female</td>\n",
              "      <td>Data analyst</td>\n",
              "    </tr>\n",
              "    <tr>\n",
              "      <th>3</th>\n",
              "      <td>0</td>\n",
              "      <td>9</td>\n",
              "      <td>3</td>\n",
              "      <td>Samsung</td>\n",
              "      <td>Galaxy A53</td>\n",
              "      <td>Android</td>\n",
              "      <td>128</td>\n",
              "      <td>6</td>\n",
              "      <td>3.79</td>\n",
              "      <td>64</td>\n",
              "      <td>32</td>\n",
              "      <td>5000</td>\n",
              "      <td>6.5</td>\n",
              "      <td>189</td>\n",
              "      <td>312</td>\n",
              "      <td>24/03/2022</td>\n",
              "      <td>Mid Level (301-800 USD)</td>\n",
              "      <td>38</td>\n",
              "      <td>Female</td>\n",
              "      <td>Data analyst</td>\n",
              "    </tr>\n",
              "    <tr>\n",
              "      <th>4</th>\n",
              "      <td>0</td>\n",
              "      <td>23</td>\n",
              "      <td>2</td>\n",
              "      <td>Vivo</td>\n",
              "      <td>X80 Pro</td>\n",
              "      <td>Android</td>\n",
              "      <td>256</td>\n",
              "      <td>8</td>\n",
              "      <td>9.81</td>\n",
              "      <td>50</td>\n",
              "      <td>32</td>\n",
              "      <td>4700</td>\n",
              "      <td>6.7</td>\n",
              "      <td>215</td>\n",
              "      <td>872</td>\n",
              "      <td>29/04/2022</td>\n",
              "      <td>Flagship (&gt;800 USD)</td>\n",
              "      <td>38</td>\n",
              "      <td>Female</td>\n",
              "      <td>Data analyst</td>\n",
              "    </tr>\n",
              "    <tr>\n",
              "      <th>...</th>\n",
              "      <td>...</td>\n",
              "      <td>...</td>\n",
              "      <td>...</td>\n",
              "      <td>...</td>\n",
              "      <td>...</td>\n",
              "      <td>...</td>\n",
              "      <td>...</td>\n",
              "      <td>...</td>\n",
              "      <td>...</td>\n",
              "      <td>...</td>\n",
              "      <td>...</td>\n",
              "      <td>...</td>\n",
              "      <td>...</td>\n",
              "      <td>...</td>\n",
              "      <td>...</td>\n",
              "      <td>...</td>\n",
              "      <td>...</td>\n",
              "      <td>...</td>\n",
              "      <td>...</td>\n",
              "      <td>...</td>\n",
              "    </tr>\n",
              "    <tr>\n",
              "      <th>985</th>\n",
              "      <td>258</td>\n",
              "      <td>31</td>\n",
              "      <td>5</td>\n",
              "      <td>Motorola</td>\n",
              "      <td>Moto G Pure</td>\n",
              "      <td>Android</td>\n",
              "      <td>32</td>\n",
              "      <td>3</td>\n",
              "      <td>1.02</td>\n",
              "      <td>13</td>\n",
              "      <td>5</td>\n",
              "      <td>4000</td>\n",
              "      <td>6.5</td>\n",
              "      <td>188</td>\n",
              "      <td>129</td>\n",
              "      <td>14/10/2021</td>\n",
              "      <td>Entry Level (0-300 USD)</td>\n",
              "      <td>25</td>\n",
              "      <td>Male</td>\n",
              "      <td>Executive Manager</td>\n",
              "    </tr>\n",
              "    <tr>\n",
              "      <th>986</th>\n",
              "      <td>258</td>\n",
              "      <td>17</td>\n",
              "      <td>8</td>\n",
              "      <td>Google</td>\n",
              "      <td>Pixel 6 Pro</td>\n",
              "      <td>Android</td>\n",
              "      <td>128</td>\n",
              "      <td>12</td>\n",
              "      <td>7.19</td>\n",
              "      <td>50</td>\n",
              "      <td>11</td>\n",
              "      <td>5003</td>\n",
              "      <td>6.7</td>\n",
              "      <td>210</td>\n",
              "      <td>699</td>\n",
              "      <td>28/10/2021</td>\n",
              "      <td>Mid Level (301-800 USD)</td>\n",
              "      <td>25</td>\n",
              "      <td>Male</td>\n",
              "      <td>Executive Manager</td>\n",
              "    </tr>\n",
              "    <tr>\n",
              "      <th>987</th>\n",
              "      <td>258</td>\n",
              "      <td>23</td>\n",
              "      <td>9</td>\n",
              "      <td>Vivo</td>\n",
              "      <td>X80 Pro</td>\n",
              "      <td>Android</td>\n",
              "      <td>256</td>\n",
              "      <td>8</td>\n",
              "      <td>9.81</td>\n",
              "      <td>50</td>\n",
              "      <td>32</td>\n",
              "      <td>4700</td>\n",
              "      <td>6.7</td>\n",
              "      <td>215</td>\n",
              "      <td>872</td>\n",
              "      <td>29/04/2022</td>\n",
              "      <td>Flagship (&gt;800 USD)</td>\n",
              "      <td>25</td>\n",
              "      <td>Male</td>\n",
              "      <td>Executive Manager</td>\n",
              "    </tr>\n",
              "    <tr>\n",
              "      <th>988</th>\n",
              "      <td>258</td>\n",
              "      <td>27</td>\n",
              "      <td>8</td>\n",
              "      <td>Xiaomi</td>\n",
              "      <td>Poco F4</td>\n",
              "      <td>Android</td>\n",
              "      <td>128</td>\n",
              "      <td>8</td>\n",
              "      <td>6.98</td>\n",
              "      <td>64</td>\n",
              "      <td>20</td>\n",
              "      <td>4500</td>\n",
              "      <td>6.6</td>\n",
              "      <td>195</td>\n",
              "      <td>428</td>\n",
              "      <td>27/07/2022</td>\n",
              "      <td>Mid Level (301-800 USD)</td>\n",
              "      <td>25</td>\n",
              "      <td>Male</td>\n",
              "      <td>Executive Manager</td>\n",
              "    </tr>\n",
              "    <tr>\n",
              "      <th>989</th>\n",
              "      <td>258</td>\n",
              "      <td>24</td>\n",
              "      <td>6</td>\n",
              "      <td>Xiaomi</td>\n",
              "      <td>Redmi Note 11</td>\n",
              "      <td>Android</td>\n",
              "      <td>128</td>\n",
              "      <td>4</td>\n",
              "      <td>2.44</td>\n",
              "      <td>50</td>\n",
              "      <td>13</td>\n",
              "      <td>5000</td>\n",
              "      <td>6.4</td>\n",
              "      <td>179</td>\n",
              "      <td>174</td>\n",
              "      <td>09/02/2022</td>\n",
              "      <td>Entry Level (0-300 USD)</td>\n",
              "      <td>25</td>\n",
              "      <td>Male</td>\n",
              "      <td>Executive Manager</td>\n",
              "    </tr>\n",
              "  </tbody>\n",
              "</table>\n",
              "<p>960 rows × 20 columns</p>\n",
              "</div>\n",
              "    <div class=\"colab-df-buttons\">\n",
              "\n",
              "  <div class=\"colab-df-container\">\n",
              "    <button class=\"colab-df-convert\" onclick=\"convertToInteractive('df-90566873-4ff6-4cf9-9d74-ed275c8f360b')\"\n",
              "            title=\"Convert this dataframe to an interactive table.\"\n",
              "            style=\"display:none;\">\n",
              "\n",
              "  <svg xmlns=\"http://www.w3.org/2000/svg\" height=\"24px\" viewBox=\"0 -960 960 960\">\n",
              "    <path d=\"M120-120v-720h720v720H120Zm60-500h600v-160H180v160Zm220 220h160v-160H400v160Zm0 220h160v-160H400v160ZM180-400h160v-160H180v160Zm440 0h160v-160H620v160ZM180-180h160v-160H180v160Zm440 0h160v-160H620v160Z\"/>\n",
              "  </svg>\n",
              "    </button>\n",
              "\n",
              "  <style>\n",
              "    .colab-df-container {\n",
              "      display:flex;\n",
              "      gap: 12px;\n",
              "    }\n",
              "\n",
              "    .colab-df-convert {\n",
              "      background-color: #E8F0FE;\n",
              "      border: none;\n",
              "      border-radius: 50%;\n",
              "      cursor: pointer;\n",
              "      display: none;\n",
              "      fill: #1967D2;\n",
              "      height: 32px;\n",
              "      padding: 0 0 0 0;\n",
              "      width: 32px;\n",
              "    }\n",
              "\n",
              "    .colab-df-convert:hover {\n",
              "      background-color: #E2EBFA;\n",
              "      box-shadow: 0px 1px 2px rgba(60, 64, 67, 0.3), 0px 1px 3px 1px rgba(60, 64, 67, 0.15);\n",
              "      fill: #174EA6;\n",
              "    }\n",
              "\n",
              "    .colab-df-buttons div {\n",
              "      margin-bottom: 4px;\n",
              "    }\n",
              "\n",
              "    [theme=dark] .colab-df-convert {\n",
              "      background-color: #3B4455;\n",
              "      fill: #D2E3FC;\n",
              "    }\n",
              "\n",
              "    [theme=dark] .colab-df-convert:hover {\n",
              "      background-color: #434B5C;\n",
              "      box-shadow: 0px 1px 3px 1px rgba(0, 0, 0, 0.15);\n",
              "      filter: drop-shadow(0px 1px 2px rgba(0, 0, 0, 0.3));\n",
              "      fill: #FFFFFF;\n",
              "    }\n",
              "  </style>\n",
              "\n",
              "    <script>\n",
              "      const buttonEl =\n",
              "        document.querySelector('#df-90566873-4ff6-4cf9-9d74-ed275c8f360b button.colab-df-convert');\n",
              "      buttonEl.style.display =\n",
              "        google.colab.kernel.accessAllowed ? 'block' : 'none';\n",
              "\n",
              "      async function convertToInteractive(key) {\n",
              "        const element = document.querySelector('#df-90566873-4ff6-4cf9-9d74-ed275c8f360b');\n",
              "        const dataTable =\n",
              "          await google.colab.kernel.invokeFunction('convertToInteractive',\n",
              "                                                    [key], {});\n",
              "        if (!dataTable) return;\n",
              "\n",
              "        const docLinkHtml = 'Like what you see? Visit the ' +\n",
              "          '<a target=\"_blank\" href=https://colab.research.google.com/notebooks/data_table.ipynb>data table notebook</a>'\n",
              "          + ' to learn more about interactive tables.';\n",
              "        element.innerHTML = '';\n",
              "        dataTable['output_type'] = 'display_data';\n",
              "        await google.colab.output.renderOutput(dataTable, element);\n",
              "        const docLink = document.createElement('div');\n",
              "        docLink.innerHTML = docLinkHtml;\n",
              "        element.appendChild(docLink);\n",
              "      }\n",
              "    </script>\n",
              "  </div>\n",
              "\n",
              "\n",
              "    <div id=\"df-4074d581-319d-487f-8e76-bc8556eeee4a\">\n",
              "      <button class=\"colab-df-quickchart\" onclick=\"quickchart('df-4074d581-319d-487f-8e76-bc8556eeee4a')\"\n",
              "                title=\"Suggest charts\"\n",
              "                style=\"display:none;\">\n",
              "\n",
              "<svg xmlns=\"http://www.w3.org/2000/svg\" height=\"24px\"viewBox=\"0 0 24 24\"\n",
              "     width=\"24px\">\n",
              "    <g>\n",
              "        <path d=\"M19 3H5c-1.1 0-2 .9-2 2v14c0 1.1.9 2 2 2h14c1.1 0 2-.9 2-2V5c0-1.1-.9-2-2-2zM9 17H7v-7h2v7zm4 0h-2V7h2v10zm4 0h-2v-4h2v4z\"/>\n",
              "    </g>\n",
              "</svg>\n",
              "      </button>\n",
              "\n",
              "<style>\n",
              "  .colab-df-quickchart {\n",
              "      --bg-color: #E8F0FE;\n",
              "      --fill-color: #1967D2;\n",
              "      --hover-bg-color: #E2EBFA;\n",
              "      --hover-fill-color: #174EA6;\n",
              "      --disabled-fill-color: #AAA;\n",
              "      --disabled-bg-color: #DDD;\n",
              "  }\n",
              "\n",
              "  [theme=dark] .colab-df-quickchart {\n",
              "      --bg-color: #3B4455;\n",
              "      --fill-color: #D2E3FC;\n",
              "      --hover-bg-color: #434B5C;\n",
              "      --hover-fill-color: #FFFFFF;\n",
              "      --disabled-bg-color: #3B4455;\n",
              "      --disabled-fill-color: #666;\n",
              "  }\n",
              "\n",
              "  .colab-df-quickchart {\n",
              "    background-color: var(--bg-color);\n",
              "    border: none;\n",
              "    border-radius: 50%;\n",
              "    cursor: pointer;\n",
              "    display: none;\n",
              "    fill: var(--fill-color);\n",
              "    height: 32px;\n",
              "    padding: 0;\n",
              "    width: 32px;\n",
              "  }\n",
              "\n",
              "  .colab-df-quickchart:hover {\n",
              "    background-color: var(--hover-bg-color);\n",
              "    box-shadow: 0 1px 2px rgba(60, 64, 67, 0.3), 0 1px 3px 1px rgba(60, 64, 67, 0.15);\n",
              "    fill: var(--button-hover-fill-color);\n",
              "  }\n",
              "\n",
              "  .colab-df-quickchart-complete:disabled,\n",
              "  .colab-df-quickchart-complete:disabled:hover {\n",
              "    background-color: var(--disabled-bg-color);\n",
              "    fill: var(--disabled-fill-color);\n",
              "    box-shadow: none;\n",
              "  }\n",
              "\n",
              "  .colab-df-spinner {\n",
              "    border: 2px solid var(--fill-color);\n",
              "    border-color: transparent;\n",
              "    border-bottom-color: var(--fill-color);\n",
              "    animation:\n",
              "      spin 1s steps(1) infinite;\n",
              "  }\n",
              "\n",
              "  @keyframes spin {\n",
              "    0% {\n",
              "      border-color: transparent;\n",
              "      border-bottom-color: var(--fill-color);\n",
              "      border-left-color: var(--fill-color);\n",
              "    }\n",
              "    20% {\n",
              "      border-color: transparent;\n",
              "      border-left-color: var(--fill-color);\n",
              "      border-top-color: var(--fill-color);\n",
              "    }\n",
              "    30% {\n",
              "      border-color: transparent;\n",
              "      border-left-color: var(--fill-color);\n",
              "      border-top-color: var(--fill-color);\n",
              "      border-right-color: var(--fill-color);\n",
              "    }\n",
              "    40% {\n",
              "      border-color: transparent;\n",
              "      border-right-color: var(--fill-color);\n",
              "      border-top-color: var(--fill-color);\n",
              "    }\n",
              "    60% {\n",
              "      border-color: transparent;\n",
              "      border-right-color: var(--fill-color);\n",
              "    }\n",
              "    80% {\n",
              "      border-color: transparent;\n",
              "      border-right-color: var(--fill-color);\n",
              "      border-bottom-color: var(--fill-color);\n",
              "    }\n",
              "    90% {\n",
              "      border-color: transparent;\n",
              "      border-bottom-color: var(--fill-color);\n",
              "    }\n",
              "  }\n",
              "</style>\n",
              "\n",
              "      <script>\n",
              "        async function quickchart(key) {\n",
              "          const quickchartButtonEl =\n",
              "            document.querySelector('#' + key + ' button');\n",
              "          quickchartButtonEl.disabled = true;  // To prevent multiple clicks.\n",
              "          quickchartButtonEl.classList.add('colab-df-spinner');\n",
              "          try {\n",
              "            const charts = await google.colab.kernel.invokeFunction(\n",
              "                'suggestCharts', [key], {});\n",
              "          } catch (error) {\n",
              "            console.error('Error during call to suggestCharts:', error);\n",
              "          }\n",
              "          quickchartButtonEl.classList.remove('colab-df-spinner');\n",
              "          quickchartButtonEl.classList.add('colab-df-quickchart-complete');\n",
              "        }\n",
              "        (() => {\n",
              "          let quickchartButtonEl =\n",
              "            document.querySelector('#df-4074d581-319d-487f-8e76-bc8556eeee4a button');\n",
              "          quickchartButtonEl.style.display =\n",
              "            google.colab.kernel.accessAllowed ? 'block' : 'none';\n",
              "        })();\n",
              "      </script>\n",
              "    </div>\n",
              "\n",
              "    </div>\n",
              "  </div>\n"
            ],
            "application/vnd.google.colaboratory.intrinsic+json": {
              "type": "dataframe",
              "summary": "{\n  \"name\": \"check_invalid(merged_data)\",\n  \"rows\": 960,\n  \"fields\": [\n    {\n      \"column\": \"user_id\",\n      \"properties\": {\n        \"dtype\": \"number\",\n        \"std\": 81,\n        \"min\": 0,\n        \"max\": 258,\n        \"num_unique_values\": 96,\n        \"samples\": [\n          237,\n          234,\n          230\n        ],\n        \"semantic_type\": \"\",\n        \"description\": \"\"\n      }\n    },\n    {\n      \"column\": \"cellphone_id\",\n      \"properties\": {\n        \"dtype\": \"number\",\n        \"std\": 9,\n        \"min\": 0,\n        \"max\": 32,\n        \"num_unique_values\": 33,\n        \"samples\": [\n          26,\n          15,\n          21\n        ],\n        \"semantic_type\": \"\",\n        \"description\": \"\"\n      }\n    },\n    {\n      \"column\": \"rating\",\n      \"properties\": {\n        \"dtype\": \"number\",\n        \"std\": 2,\n        \"min\": 1,\n        \"max\": 18,\n        \"num_unique_values\": 11,\n        \"samples\": [\n          8,\n          1,\n          4\n        ],\n        \"semantic_type\": \"\",\n        \"description\": \"\"\n      }\n    },\n    {\n      \"column\": \"brand\",\n      \"properties\": {\n        \"dtype\": \"category\",\n        \"num_unique_values\": 10,\n        \"samples\": [\n          \"Xiaomi\",\n          \"Apple\",\n          \"Google\"\n        ],\n        \"semantic_type\": \"\",\n        \"description\": \"\"\n      }\n    },\n    {\n      \"column\": \"model\",\n      \"properties\": {\n        \"dtype\": \"category\",\n        \"num_unique_values\": 33,\n        \"samples\": [\n          \"12 Pro\",\n          \"Pixel 6 \\u00a0\",\n          \"10T\"\n        ],\n        \"semantic_type\": \"\",\n        \"description\": \"\"\n      }\n    },\n    {\n      \"column\": \"operating system\",\n      \"properties\": {\n        \"dtype\": \"category\",\n        \"num_unique_values\": 2,\n        \"samples\": [\n          \"iOS\",\n          \"Android\"\n        ],\n        \"semantic_type\": \"\",\n        \"description\": \"\"\n      }\n    },\n    {\n      \"column\": \"internal memory\",\n      \"properties\": {\n        \"dtype\": \"number\",\n        \"std\": 89,\n        \"min\": 32,\n        \"max\": 512,\n        \"num_unique_values\": 5,\n        \"samples\": [\n          64,\n          512\n        ],\n        \"semantic_type\": \"\",\n        \"description\": \"\"\n      }\n    },\n    {\n      \"column\": \"RAM\",\n      \"properties\": {\n        \"dtype\": \"number\",\n        \"std\": 2,\n        \"min\": 3,\n        \"max\": 12,\n        \"num_unique_values\": 5,\n        \"samples\": [\n          8,\n          12\n        ],\n        \"semantic_type\": \"\",\n        \"description\": \"\"\n      }\n    },\n    {\n      \"column\": \"performance\",\n      \"properties\": {\n        \"dtype\": \"number\",\n        \"std\": 2.8642813867280257,\n        \"min\": 1.02,\n        \"max\": 11.0,\n        \"num_unique_values\": 32,\n        \"samples\": [\n          2.44,\n          6.76\n        ],\n        \"semantic_type\": \"\",\n        \"description\": \"\"\n      }\n    },\n    {\n      \"column\": \"main camera\",\n      \"properties\": {\n        \"dtype\": \"number\",\n        \"std\": 26,\n        \"min\": 12,\n        \"max\": 108,\n        \"num_unique_values\": 6,\n        \"samples\": [\n          13,\n          12\n        ],\n        \"semantic_type\": \"\",\n        \"description\": \"\"\n      }\n    },\n    {\n      \"column\": \"selfie camera\",\n      \"properties\": {\n        \"dtype\": \"number\",\n        \"std\": 9,\n        \"min\": 4,\n        \"max\": 40,\n        \"num_unique_values\": 12,\n        \"samples\": [\n          4,\n          11\n        ],\n        \"semantic_type\": \"\",\n        \"description\": \"\"\n      }\n    },\n    {\n      \"column\": \"battery size\",\n      \"properties\": {\n        \"dtype\": \"number\",\n        \"std\": 761,\n        \"min\": 2018,\n        \"max\": 5003,\n        \"num_unique_values\": 18,\n        \"samples\": [\n          5000,\n          2942\n        ],\n        \"semantic_type\": \"\",\n        \"description\": \"\"\n      }\n    },\n    {\n      \"column\": \"screen size\",\n      \"properties\": {\n        \"dtype\": \"number\",\n        \"std\": 0.424060624838487,\n        \"min\": 4.7,\n        \"max\": 7.6,\n        \"num_unique_values\": 10,\n        \"samples\": [\n          5.9,\n          6.1\n        ],\n        \"semantic_type\": \"\",\n        \"description\": \"\"\n      }\n    },\n    {\n      \"column\": \"weight\",\n      \"properties\": {\n        \"dtype\": \"number\",\n        \"std\": 23,\n        \"min\": 141,\n        \"max\": 271,\n        \"num_unique_values\": 27,\n        \"samples\": [\n          190,\n          225\n        ],\n        \"semantic_type\": \"\",\n        \"description\": \"\"\n      }\n    },\n    {\n      \"column\": \"price\",\n      \"properties\": {\n        \"dtype\": \"number\",\n        \"std\": 421,\n        \"min\": 129,\n        \"max\": 1998,\n        \"num_unique_values\": 30,\n        \"samples\": [\n          840,\n          499\n        ],\n        \"semantic_type\": \"\",\n        \"description\": \"\"\n      }\n    },\n    {\n      \"column\": \"release date\",\n      \"properties\": {\n        \"dtype\": \"object\",\n        \"num_unique_values\": 26,\n        \"samples\": [\n          \"21/05/2022\",\n          \"11/08/2021\"\n        ],\n        \"semantic_type\": \"\",\n        \"description\": \"\"\n      }\n    },\n    {\n      \"column\": \"price_category\",\n      \"properties\": {\n        \"dtype\": \"category\",\n        \"num_unique_values\": 3,\n        \"samples\": [\n          \"Entry Level (0-300 USD)\",\n          \"Mid Level (301-800 USD)\"\n        ],\n        \"semantic_type\": \"\",\n        \"description\": \"\"\n      }\n    },\n    {\n      \"column\": \"age\",\n      \"properties\": {\n        \"dtype\": \"number\",\n        \"std\": 9,\n        \"min\": 21,\n        \"max\": 61,\n        \"num_unique_values\": 30,\n        \"samples\": [\n          35,\n          41\n        ],\n        \"semantic_type\": \"\",\n        \"description\": \"\"\n      }\n    },\n    {\n      \"column\": \"gender\",\n      \"properties\": {\n        \"dtype\": \"category\",\n        \"num_unique_values\": 2,\n        \"samples\": [\n          \"Male\",\n          \"Female\"\n        ],\n        \"semantic_type\": \"\",\n        \"description\": \"\"\n      }\n    },\n    {\n      \"column\": \"occupation\",\n      \"properties\": {\n        \"dtype\": \"category\",\n        \"num_unique_values\": 56,\n        \"samples\": [\n          \"Data analyst\",\n          \"Accountant\"\n        ],\n        \"semantic_type\": \"\",\n        \"description\": \"\"\n      }\n    }\n  ]\n}"
            }
          },
          "metadata": {},
          "execution_count": 120
        }
      ]
    },
    {
      "cell_type": "markdown",
      "source": [
        "Fungsi ini digunakan untuk memeriksa dan menghapus entri data yang memiliki nilai tidak valid pada kolom gender, khususnya nilai \"-Select Gender-\" yang merupakan placeholder dan bukan kategori gender sebenarnya. Tahapannya:\n",
        "\n",
        "1. Menghitung jumlah entri dengan gender \"-Select Gender-\".\n",
        "\n",
        "2. Menampilkan entri-entri tersebut (jika ada), agar pengguna dapat melihat data yang bermasalah.\n",
        "\n",
        "3. Menghapus entri yang memiliki gender tidak valid dari dataset agar hasil analisis tidak bias atau keliru.\n",
        "\n",
        "Fungsi ini mengembalikan dataset yang telah dibersihkan dari entri gender tidak valid."
      ],
      "metadata": {
        "id": "QiiDHNvYQsKM"
      }
    },
    {
      "cell_type": "markdown",
      "source": [
        "5. **Hapus Outlier dan Memperbaiki Typo Penulisan**"
      ],
      "metadata": {
        "id": "nul-S5qyILKX"
      }
    },
    {
      "cell_type": "code",
      "source": [
        "def cleaning_data(data):\n",
        "    # Drop rows with rating == 18\n",
        "    cleaned_data = data[data['rating'] != 18]\n",
        "    print(\"Data dengan rating 18 telah dihapus.\")\n",
        "\n",
        "    # Replace 'healthare' with 'healthcare'\n",
        "    cleaned_data['occupation'] = cleaned_data['occupation'].replace('healthare', 'healthcare')\n",
        "    print(\"Data 'healthare' telah diganti menjadi 'healthcare'.\")\n",
        "\n",
        "    # Replace 'it' with 'information technology'\n",
        "    cleaned_data['occupation'] = cleaned_data['occupation'].replace('it', 'information technology')\n",
        "    print(\"Data 'it' telah diganti menjadi 'information technology'.\")\n",
        "\n",
        "    # Convert all occupation values to lowercase\n",
        "    cleaned_data['occupation'] = cleaned_data['occupation'].str.lower()\n",
        "    print(\"Seluruh nilai pada kolom 'occupation' telah diubah menjadi lowercase.\")\n",
        "\n",
        "    return cleaned_data\n",
        "\n",
        "merged_data = cleaning_data(merged_data)"
      ],
      "metadata": {
        "id": "Jht-aPZjATXJ",
        "colab": {
          "base_uri": "https://localhost:8080/"
        },
        "outputId": "8e251169-805e-4c49-c20d-3e35023799b8"
      },
      "execution_count": null,
      "outputs": [
        {
          "output_type": "stream",
          "name": "stdout",
          "text": [
            "Data dengan rating 18 telah dihapus.\n",
            "Data 'healthare' telah diganti menjadi 'healthcare'.\n",
            "Data 'it' telah diganti menjadi 'information technology'.\n",
            "Seluruh nilai pada kolom 'occupation' telah diubah menjadi lowercase.\n"
          ]
        }
      ]
    },
    {
      "cell_type": "markdown",
      "source": [
        "Fungsi ini digunakan untuk membersihkan data dari nilai-nilai yang tidak valid atau tidak konsisten, khususnya pada kolom rating dan occupation. Berikut tahapan pembersihannya:\n",
        "\n",
        "1. Menghapus data dengan rating = 18, karena nilai ini tidak valid (rating seharusnya berada pada rentang 1–10).\n",
        "\n",
        "2. Mengoreksi kesalahan penulisan pada kolom occupation, seperti:\n",
        "\n",
        "3. Mengganti 'healthare' menjadi 'healthcare'.\n",
        "\n",
        "4. Mengganti 'it' menjadi 'information technology'.\n",
        "\n",
        "5. Mengubah semua nilai pada occupation menjadi huruf kecil (lowercase) untuk menjaga konsistensi data."
      ],
      "metadata": {
        "id": "62w8r1HmPKiY"
      }
    },
    {
      "cell_type": "code",
      "source": [
        "merged_data.info()"
      ],
      "metadata": {
        "id": "dOn2OIFhIivs",
        "colab": {
          "base_uri": "https://localhost:8080/"
        },
        "outputId": "0963192a-4d80-4dc2-a162-eef47e6e2524"
      },
      "execution_count": null,
      "outputs": [
        {
          "output_type": "stream",
          "name": "stdout",
          "text": [
            "<class 'pandas.core.frame.DataFrame'>\n",
            "Index: 979 entries, 0 to 989\n",
            "Data columns (total 20 columns):\n",
            " #   Column            Non-Null Count  Dtype   \n",
            "---  ------            --------------  -----   \n",
            " 0   user_id           979 non-null    int64   \n",
            " 1   cellphone_id      979 non-null    int64   \n",
            " 2   rating            979 non-null    int64   \n",
            " 3   brand             979 non-null    object  \n",
            " 4   model             979 non-null    object  \n",
            " 5   operating system  979 non-null    object  \n",
            " 6   internal memory   979 non-null    int64   \n",
            " 7   RAM               979 non-null    int64   \n",
            " 8   performance       979 non-null    float64 \n",
            " 9   main camera       979 non-null    int64   \n",
            " 10  selfie camera     979 non-null    int64   \n",
            " 11  battery size      979 non-null    int64   \n",
            " 12  screen size       979 non-null    float64 \n",
            " 13  weight            979 non-null    int64   \n",
            " 14  price             979 non-null    int64   \n",
            " 15  release date      979 non-null    object  \n",
            " 16  price_category    979 non-null    category\n",
            " 17  age               979 non-null    int64   \n",
            " 18  gender            979 non-null    object  \n",
            " 19  occupation        979 non-null    object  \n",
            "dtypes: category(1), float64(2), int64(11), object(6)\n",
            "memory usage: 154.1+ KB\n"
          ]
        }
      ]
    },
    {
      "cell_type": "markdown",
      "source": [
        "6. **Membersihkan dan menyiapkan data ponsel untuk analisis lebih lanjut.**"
      ],
      "metadata": {
        "id": "vHihvN13N1zf"
      }
    },
    {
      "cell_type": "code",
      "source": [
        "def prepare_data(df):\n",
        "    print(\"Data Preparation: \")\n",
        "\n",
        "    unique_df = df.drop_duplicates(subset='cellphone_id').reset_index(drop=True)\n",
        "    print(f\"Total entri unik berdasarkan 'cellphone_id': {len(unique_df)}\")\n",
        "\n",
        "    selected_columns = ['cellphone_id', 'brand', 'model', 'operating system']\n",
        "    prepared_df = unique_df[selected_columns].copy()\n",
        "    prepared_df.columns = ['cellphone_id', 'brand', 'model', 'operating_system']\n",
        "\n",
        "    print(\"Kolom yang dipilih berhasil diproses dan disusun ulang.\")\n",
        "    print(f\"Dimensi DataFrame baru: {prepared_df.shape[0]} baris x {prepared_df.shape[1]} kolom\")\n",
        "\n",
        "    return prepared_df\n",
        "\n",
        "final_df = prepare_data(merged_data)"
      ],
      "metadata": {
        "id": "Ks5a7OGWAcaA",
        "colab": {
          "base_uri": "https://localhost:8080/"
        },
        "outputId": "12c0f218-a170-4067-f72a-a6c0818c935a"
      },
      "execution_count": null,
      "outputs": [
        {
          "output_type": "stream",
          "name": "stdout",
          "text": [
            "Data Preparation: \n",
            "Total entri unik berdasarkan 'cellphone_id': 33\n",
            "Kolom yang dipilih berhasil diproses dan disusun ulang.\n",
            "Dimensi DataFrame baru: 33 baris x 4 kolom\n"
          ]
        }
      ]
    },
    {
      "cell_type": "markdown",
      "source": [
        "Fungsi ini digunakan untuk membersihkan dan menyiapkan data ponsel sebelum digunakan dalam analisis atau pemodelan. Tahapan yang dilakukan:\n",
        "\n",
        "1. Menghapus duplikat berdasarkan cellphone_id agar setiap ponsel hanya muncul satu kali.\n",
        "\n",
        "2. Memilih kolom penting: cellphone_id, brand, model, dan operating system.\n",
        "\n",
        "3. Mengganti nama kolom agar seragam (misalnya, mengganti operating system menjadi operating_system).\n",
        "\n",
        "4. Mengembalikan DataFrame baru yang sudah bersih dan siap dipakai."
      ],
      "metadata": {
        "id": "1o4qREnQPIOE"
      }
    },
    {
      "cell_type": "markdown",
      "source": [
        "7. **Split Data Ratings**"
      ],
      "metadata": {
        "id": "nFBJUNMQN6Pr"
      }
    },
    {
      "cell_type": "code",
      "source": [
        "# Split Data Ratings\n",
        "train_ratings, test_ratings = train_test_split(ratings, test_size=0.2, random_state=42)"
      ],
      "metadata": {
        "id": "qSgXg8CPNxuw"
      },
      "execution_count": null,
      "outputs": []
    },
    {
      "cell_type": "markdown",
      "source": [
        "Split dataset ratings untuk kebutuhan evaluasi model CF"
      ],
      "metadata": {
        "id": "TnxZbzP7N-JR"
      }
    },
    {
      "cell_type": "code",
      "source": [
        "print(final_df)"
      ],
      "metadata": {
        "id": "LsC0EjSsKo-J",
        "colab": {
          "base_uri": "https://localhost:8080/"
        },
        "outputId": "ef5f9bf3-a4df-4a82-fa6c-6bb4143a1c0f"
      },
      "execution_count": null,
      "outputs": [
        {
          "output_type": "stream",
          "name": "stdout",
          "text": [
            "    cellphone_id     brand                 model operating_system\n",
            "0             30  Motorola    Moto G Play (2021)          Android\n",
            "1              5     Apple             iPhone XR              iOS\n",
            "2             10   Samsung            Galaxy S22          Android\n",
            "3              9   Samsung            Galaxy A53          Android\n",
            "4             23      Vivo               X80 Pro          Android\n",
            "5              8   Samsung            Galaxy A32          Android\n",
            "6             22      Oppo           Find X5 Pro          Android\n",
            "7             16    Google              Pixel 6a          Android\n",
            "8             19   OnePlus               Nord 2T          Android\n",
            "9              3     Apple         iPhone 13 Pro              iOS\n",
            "10             7   Samsung            Galaxy A13          Android\n",
            "11            31  Motorola           Moto G Pure          Android\n",
            "12            18   OnePlus              Nord N20          Android\n",
            "13            32  Motorola   Moto G Power (2022)          Android\n",
            "14            28      Sony            Xperia Pro          Android\n",
            "15            15    Google             Pixel 6            Android\n",
            "16             4     Apple     iPhone 13 Pro Max              iOS\n",
            "17            13   Samsung       Galaxy Z Flip 3          Android\n",
            "18             1     Apple        iPhone 13 Mini              iOS\n",
            "19            27    Xiaomi               Poco F4          Android\n",
            "20            29  Motorola  Moto G Stylus (2022)          Android\n",
            "21            25    Xiaomi               11T Pro          Android\n",
            "22            20   OnePlus                10 Pro          Android\n",
            "23             0     Apple      iPhone SE (2022)              iOS\n",
            "24            11   Samsung       Galaxy S22 Plus          Android\n",
            "25            17    Google          Pixel 6 Pro           Android\n",
            "26            21   OnePlus                   10T          Android\n",
            "27             6      Asus             Zenfone 8          Android\n",
            "28            14   Samsung       Galaxy Z Fold 3          Android\n",
            "29            12   Samsung      Galaxy S22 Ultra          Android\n",
            "30            24    Xiaomi         Redmi Note 11          Android\n",
            "31            26    Xiaomi                12 Pro          Android\n",
            "32             2     Apple             iPhone 13              iOS\n"
          ]
        }
      ]
    },
    {
      "cell_type": "markdown",
      "source": [
        "# Modeling and Result"
      ],
      "metadata": {
        "id": "DzLwZUzUXLGr"
      }
    },
    {
      "cell_type": "markdown",
      "source": [
        "1. Content Based Filtering (CBF)"
      ],
      "metadata": {
        "id": "xBSGHTNMYAdy"
      }
    },
    {
      "cell_type": "code",
      "source": [
        "# Inisialisasi TfidfVectorizer\n",
        "tf = TfidfVectorizer()\n",
        "\n",
        "# Fit dan transform TF-IDF pada data brand\n",
        "brand_tfidf = tf.fit_transform(final_df['brand'])\n",
        "\n",
        "# Ambil nama fitur\n",
        "feature_names = tf.get_feature_names_out()\n",
        "print(\"Fitur nama: \", feature_names)\n",
        "\n",
        "# Tampilkan vektor hasil transformasi\n",
        "print(\"\\nTF-IDF Matrix:\")\n",
        "print(brand_tfidf.toarray())"
      ],
      "metadata": {
        "id": "P_DCWi3EXMW3",
        "colab": {
          "base_uri": "https://localhost:8080/"
        },
        "outputId": "11f1f447-7fb2-4c44-8c57-ab0240d9fce7"
      },
      "execution_count": null,
      "outputs": [
        {
          "output_type": "stream",
          "name": "stdout",
          "text": [
            "Fitur nama:  ['apple' 'asus' 'google' 'motorola' 'oneplus' 'oppo' 'samsung' 'sony'\n",
            " 'vivo' 'xiaomi']\n",
            "\n",
            "TF-IDF Matrix:\n",
            "[[0. 0. 0. 1. 0. 0. 0. 0. 0. 0.]\n",
            " [1. 0. 0. 0. 0. 0. 0. 0. 0. 0.]\n",
            " [0. 0. 0. 0. 0. 0. 1. 0. 0. 0.]\n",
            " [0. 0. 0. 0. 0. 0. 1. 0. 0. 0.]\n",
            " [0. 0. 0. 0. 0. 0. 0. 0. 1. 0.]\n",
            " [0. 0. 0. 0. 0. 0. 1. 0. 0. 0.]\n",
            " [0. 0. 0. 0. 0. 1. 0. 0. 0. 0.]\n",
            " [0. 0. 1. 0. 0. 0. 0. 0. 0. 0.]\n",
            " [0. 0. 0. 0. 1. 0. 0. 0. 0. 0.]\n",
            " [1. 0. 0. 0. 0. 0. 0. 0. 0. 0.]\n",
            " [0. 0. 0. 0. 0. 0. 1. 0. 0. 0.]\n",
            " [0. 0. 0. 1. 0. 0. 0. 0. 0. 0.]\n",
            " [0. 0. 0. 0. 1. 0. 0. 0. 0. 0.]\n",
            " [0. 0. 0. 1. 0. 0. 0. 0. 0. 0.]\n",
            " [0. 0. 0. 0. 0. 0. 0. 1. 0. 0.]\n",
            " [0. 0. 1. 0. 0. 0. 0. 0. 0. 0.]\n",
            " [1. 0. 0. 0. 0. 0. 0. 0. 0. 0.]\n",
            " [0. 0. 0. 0. 0. 0. 1. 0. 0. 0.]\n",
            " [1. 0. 0. 0. 0. 0. 0. 0. 0. 0.]\n",
            " [0. 0. 0. 0. 0. 0. 0. 0. 0. 1.]\n",
            " [0. 0. 0. 1. 0. 0. 0. 0. 0. 0.]\n",
            " [0. 0. 0. 0. 0. 0. 0. 0. 0. 1.]\n",
            " [0. 0. 0. 0. 1. 0. 0. 0. 0. 0.]\n",
            " [1. 0. 0. 0. 0. 0. 0. 0. 0. 0.]\n",
            " [0. 0. 0. 0. 0. 0. 1. 0. 0. 0.]\n",
            " [0. 0. 1. 0. 0. 0. 0. 0. 0. 0.]\n",
            " [0. 0. 0. 0. 1. 0. 0. 0. 0. 0.]\n",
            " [0. 1. 0. 0. 0. 0. 0. 0. 0. 0.]\n",
            " [0. 0. 0. 0. 0. 0. 1. 0. 0. 0.]\n",
            " [0. 0. 0. 0. 0. 0. 1. 0. 0. 0.]\n",
            " [0. 0. 0. 0. 0. 0. 0. 0. 0. 1.]\n",
            " [0. 0. 0. 0. 0. 0. 0. 0. 0. 1.]\n",
            " [1. 0. 0. 0. 0. 0. 0. 0. 0. 0.]]\n"
          ]
        }
      ]
    },
    {
      "cell_type": "markdown",
      "source": [
        "Kode ini mengubah teks kolom brand menjadi representasi numerik menggunakan TF-IDF. Hasilnya adalah matriks yang menunjukkan bobot setiap kata unik dalam data brand."
      ],
      "metadata": {
        "id": "peiMPXqUVFbM"
      }
    },
    {
      "cell_type": "code",
      "source": [
        "# Konversi ke DataFrame dengan index model\n",
        "tfidf_df = pd.DataFrame(\n",
        "    brand_tfidf.todense(),\n",
        "    columns=feature_names,\n",
        "    index=final_df['model']\n",
        ")\n",
        "\n",
        "# Sampling baris dan kolom secara acak (misal 10x10)\n",
        "sampled_df = tfidf_df.sample(n=10, axis=0, random_state=42).sample(n=10, axis=1, random_state=42)\n",
        "\n",
        "# Tampilkan hasil sampel\n",
        "print(f\"Matriks TF-IDF (sampel 10 x 10):\")\n",
        "print(sampled_df)"
      ],
      "metadata": {
        "id": "Bi-SjDOQP3SI",
        "colab": {
          "base_uri": "https://localhost:8080/"
        },
        "outputId": "83ae4beb-907f-44f5-94c8-9203f36e3791"
      },
      "execution_count": null,
      "outputs": [
        {
          "output_type": "stream",
          "name": "stdout",
          "text": [
            "Matriks TF-IDF (sampel 10 x 10):\n",
            "                    vivo  asus  oppo  apple  sony  google  xiaomi  oneplus  \\\n",
            "model                                                                        \n",
            "12 Pro               0.0   0.0   0.0    0.0   0.0     0.0     1.0      0.0   \n",
            "Pixel 6              0.0   0.0   0.0    0.0   0.0     1.0     0.0      0.0   \n",
            "10T                  0.0   0.0   0.0    0.0   0.0     0.0     0.0      1.0   \n",
            "Galaxy Z Flip 3      0.0   0.0   0.0    0.0   0.0     0.0     0.0      0.0   \n",
            "Nord 2T              0.0   0.0   0.0    0.0   0.0     0.0     0.0      1.0   \n",
            "iPhone 13 Pro        0.0   0.0   0.0    1.0   0.0     0.0     0.0      0.0   \n",
            "Poco F4              0.0   0.0   0.0    0.0   0.0     0.0     1.0      0.0   \n",
            "11T Pro              0.0   0.0   0.0    0.0   0.0     0.0     1.0      0.0   \n",
            "Nord N20             0.0   0.0   0.0    0.0   0.0     0.0     0.0      1.0   \n",
            "Moto G Play (2021)   0.0   0.0   0.0    0.0   0.0     0.0     0.0      0.0   \n",
            "\n",
            "                    motorola  samsung  \n",
            "model                                  \n",
            "12 Pro                   0.0      0.0  \n",
            "Pixel 6                  0.0      0.0  \n",
            "10T                      0.0      0.0  \n",
            "Galaxy Z Flip 3          0.0      1.0  \n",
            "Nord 2T                  0.0      0.0  \n",
            "iPhone 13 Pro            0.0      0.0  \n",
            "Poco F4                  0.0      0.0  \n",
            "11T Pro                  0.0      0.0  \n",
            "Nord N20                 0.0      0.0  \n",
            "Moto G Play (2021)       1.0      0.0  \n"
          ]
        }
      ]
    },
    {
      "cell_type": "markdown",
      "source": [
        "Kode ini mengubah matriks TF-IDF menjadi DataFrame dengan indeks nama model. Kemudian, mengambil sampel acak 10 baris dan 10 kolom untuk menampilkan sebagian kecil dari matriks TF-IDF secara lebih ringkas."
      ],
      "metadata": {
        "id": "3Y684QFTVL2q"
      }
    },
    {
      "cell_type": "code",
      "source": [
        "# Menghitung cosine similarity dari matriks TF-IDF\n",
        "cosine_sim = cosine_similarity(brand_tfidf)\n",
        "print(\"Cosine similarity matrix berhasil dihitung.\")\n",
        "\n",
        "# Membuat DataFrame dari cosine similarity dengan index dan columns yang sama (model)\n",
        "cosine_sim_df = pd.DataFrame(cosine_sim, index=final_df['model'], columns=final_df['model'])\n",
        "print(f\"Shape of similarity matrix: {cosine_sim_df.shape}\")\n",
        "\n",
        "# Sampling baris dan kolom cosine similarity secara acak (misal 10x10)\n",
        "sampled_cosine_sim_df = cosine_sim_df.sample(n=10, axis=0, random_state=42).sample(n=10, axis=1, random_state=42)\n",
        "print(\"\\nMatriks kesamaan cosine similarity (sampel 10 x 10):\")\n",
        "print(sampled_cosine_sim_df)"
      ],
      "metadata": {
        "id": "OYE-XZXqR8pO",
        "colab": {
          "base_uri": "https://localhost:8080/"
        },
        "outputId": "839b4342-0f8a-45f4-f95f-cdf7ff12fdb7"
      },
      "execution_count": null,
      "outputs": [
        {
          "output_type": "stream",
          "name": "stdout",
          "text": [
            "Cosine similarity matrix berhasil dihitung.\n",
            "Shape of similarity matrix: (33, 33)\n",
            "\n",
            "Matriks kesamaan cosine similarity (sampel 10 x 10):\n",
            "model               12 Pro  Pixel 6    10T  Galaxy Z Flip 3  Nord 2T  \\\n",
            "model                                                                  \n",
            "12 Pro                 1.0        0.0  0.0              0.0      0.0   \n",
            "Pixel 6                0.0        1.0  0.0              0.0      0.0   \n",
            "10T                    0.0        0.0  1.0              0.0      1.0   \n",
            "Galaxy Z Flip 3        0.0        0.0  0.0              1.0      0.0   \n",
            "Nord 2T                0.0        0.0  1.0              0.0      1.0   \n",
            "iPhone 13 Pro          0.0        0.0  0.0              0.0      0.0   \n",
            "Poco F4                1.0        0.0  0.0              0.0      0.0   \n",
            "11T Pro                1.0        0.0  0.0              0.0      0.0   \n",
            "Nord N20               0.0        0.0  1.0              0.0      1.0   \n",
            "Moto G Play (2021)     0.0        0.0  0.0              0.0      0.0   \n",
            "\n",
            "model               iPhone 13 Pro  Poco F4  11T Pro  Nord N20  \\\n",
            "model                                                           \n",
            "12 Pro                        0.0      1.0      1.0       0.0   \n",
            "Pixel 6                       0.0      0.0      0.0       0.0   \n",
            "10T                           0.0      0.0      0.0       1.0   \n",
            "Galaxy Z Flip 3               0.0      0.0      0.0       0.0   \n",
            "Nord 2T                       0.0      0.0      0.0       1.0   \n",
            "iPhone 13 Pro                 1.0      0.0      0.0       0.0   \n",
            "Poco F4                       0.0      1.0      1.0       0.0   \n",
            "11T Pro                       0.0      1.0      1.0       0.0   \n",
            "Nord N20                      0.0      0.0      0.0       1.0   \n",
            "Moto G Play (2021)            0.0      0.0      0.0       0.0   \n",
            "\n",
            "model               Moto G Play (2021)  \n",
            "model                                   \n",
            "12 Pro                             0.0  \n",
            "Pixel 6                            0.0  \n",
            "10T                                0.0  \n",
            "Galaxy Z Flip 3                    0.0  \n",
            "Nord 2T                            0.0  \n",
            "iPhone 13 Pro                      0.0  \n",
            "Poco F4                            0.0  \n",
            "11T Pro                            0.0  \n",
            "Nord N20                           0.0  \n",
            "Moto G Play (2021)                 1.0  \n"
          ]
        }
      ]
    },
    {
      "cell_type": "markdown",
      "source": [
        "Kode ini menghitung cosine similarity antar model berdasarkan fitur TF-IDF brand, lalu menyimpannya dalam DataFrame berindeks nama model. Sampel 10x10 diambil untuk menampilkan sebagian kecil matriks similarity secara ringkas."
      ],
      "metadata": {
        "id": "REm75chiVRr0"
      }
    },
    {
      "cell_type": "code",
      "source": [
        "def item_cbf_recomendation(target_model, similarity_df, metadata, top_n=5):\n",
        "\n",
        "    if target_model not in similarity_df.columns:\n",
        "        raise ValueError(f\"Model '{target_model}' tidak ditemukan dalam similarity matrix.\")\n",
        "\n",
        "    # Ambil similarity score untuk model target\n",
        "    scores = similarity_df[target_model]\n",
        "\n",
        "    # Urutkan model berdasarkan skor similarity, dari terbesar ke kecil, kecuali model target sendiri\n",
        "    similar_models = scores.drop(target_model).sort_values(ascending=False).head(top_n).index\n",
        "\n",
        "    # Ambil metadata model-model yang direkomendasikan\n",
        "    recommendations = metadata[metadata['model'].isin(similar_models)].copy()\n",
        "\n",
        "    # Hapus kolom 'cellphone_id' jika ada\n",
        "    if 'cellphone_id' in recommendations.columns:\n",
        "        recommendations = recommendations.drop(columns=['cellphone_id'])\n",
        "\n",
        "    # Tambahkan kolom skor similarity supaya bisa dilihat seberapa mirip\n",
        "    recommendations['similarity_score'] = recommendations['model'].map(scores)\n",
        "\n",
        "    # Urutkan hasil berdasarkan similarity score tertinggi\n",
        "    recommendations = recommendations.sort_values(by='similarity_score', ascending=False)\n",
        "\n",
        "    return recommendations.reset_index(drop=True)"
      ],
      "metadata": {
        "id": "uU5i_bSUXh7_"
      },
      "execution_count": null,
      "outputs": []
    },
    {
      "cell_type": "markdown",
      "source": [
        "Fungsi ini mencari rekomendasi model ponsel yang paling mirip dengan `target_model` berdasarkan matriks similarity.\n",
        "\n",
        "* Input: nama model target, matriks similarity antar model, metadata model, dan jumlah rekomendasi.\n",
        "* Output: DataFrame rekomendasi model paling mirip beserta metadata dan skor similarity.\n",
        "* Fungsi mengurutkan model berdasarkan kemiripan tertinggi, menghilangkan model target sendiri, dan menghapus kolom `cellphone_id` jika ada.\n"
      ],
      "metadata": {
        "id": "0Ld6cEbTVaYh"
      }
    },
    {
      "cell_type": "code",
      "source": [
        "target_model = 'iPhone 13 Pro'\n",
        "\n",
        "# Panggil fungsi rekomendasi\n",
        "recommendations = item_cbf_recomendation(target_model, cosine_sim_df, final_df, top_n=5)\n",
        "\n",
        "# Tampilkan hasil rekomendasi\n",
        "print(\"Rekomendasi model mirip dengan:\", target_model)\n",
        "print(recommendations)"
      ],
      "metadata": {
        "id": "Da97FW5nTzxj",
        "colab": {
          "base_uri": "https://localhost:8080/"
        },
        "outputId": "35986a2c-8af4-442f-8f6b-1bb94fbf9f76"
      },
      "execution_count": null,
      "outputs": [
        {
          "output_type": "stream",
          "name": "stdout",
          "text": [
            "Rekomendasi model mirip dengan: iPhone 13 Pro\n",
            "   brand              model operating_system  similarity_score\n",
            "0  Apple          iPhone XR              iOS               1.0\n",
            "1  Apple  iPhone 13 Pro Max              iOS               1.0\n",
            "2  Apple     iPhone 13 Mini              iOS               1.0\n",
            "3  Apple   iPhone SE (2022)              iOS               1.0\n",
            "4  Apple          iPhone 13              iOS               1.0\n"
          ]
        }
      ]
    },
    {
      "cell_type": "markdown",
      "source": [
        "Rekomendasi model yang dihasilkan menunjukkan 5 ponsel yang paling mirip dengan **iPhone 13 Pro** berdasarkan kemiripan fitur brand dan model (TF-IDF + cosine similarity).\n",
        "\n",
        "* Semua rekomendasi berasal dari brand **Apple** dan menggunakan **operating system iOS**, sama seperti model target.\n",
        "* Skor similarity-nya sama yaitu **1.0**, menandakan kemiripan yang sangat tinggi dalam fitur brand dan model.\n",
        "* Rekomendasi ini membantu pengguna menemukan model ponsel Apple lain yang secara fitur brand dan nama sangat mirip dengan iPhone 13 Pro, sehingga kemungkinan memiliki karakteristik serupa."
      ],
      "metadata": {
        "id": "NzLNIVC7V0A6"
      }
    },
    {
      "cell_type": "markdown",
      "source": [
        "2. Collaborative Filtering (CF)"
      ],
      "metadata": {
        "id": "Kps8DNCez3RU"
      }
    },
    {
      "cell_type": "code",
      "source": [
        "print(ratings['user_id'].unique())"
      ],
      "metadata": {
        "id": "yFsadADsGfx1",
        "colab": {
          "base_uri": "https://localhost:8080/"
        },
        "outputId": "ed3c7849-9df2-4ef6-ccda-09d6b1ad4800"
      },
      "execution_count": null,
      "outputs": [
        {
          "output_type": "stream",
          "name": "stdout",
          "text": [
            "[  0   1   6   8  10  12  16  24  25  26  27  28  29  30  32  33  35  36\n",
            "  37  38  52  53  56  60  74  79  80  84  85  91  95  98  99 100 104 105\n",
            " 106 110 111 112 113 114 115 116 119 120 123 124 126 128 129 137 140 142\n",
            " 143 144 145 148 152 154 156 160 162 164 169 178 183 194 200 203 204 208\n",
            " 211 215 226 227 230 231 232 233 234 235 236 237 238 240 242 243 244 245\n",
            " 246 251 252 253 254 255 256 257 258]\n"
          ]
        }
      ]
    },
    {
      "cell_type": "code",
      "source": [
        "# Buat user-item matrix (baris: user, kolom: item)\n",
        "user_item_matrix = ratings.pivot_table(\n",
        "    index='user_id',\n",
        "    columns='cellphone_id',\n",
        "    values='rating'\n",
        ").fillna(0)\n",
        "\n",
        "# Ubah ke bentuk sparse untuk efisiensi\n",
        "user_item_sparse = csr_matrix(user_item_matrix)\n",
        "\n",
        "# Hitung Similaritas Antar User\n",
        "user_sim = cosine_similarity(user_item_sparse)\n",
        "\n",
        "# DataFrame untuk user-user similarity\n",
        "user_sim_df = pd.DataFrame(\n",
        "    user_sim,\n",
        "    index=user_item_matrix.index,\n",
        "    columns=user_item_matrix.index\n",
        ")\n",
        "\n",
        "print(\"User-user similarity matrix berhasil dihitung.\")"
      ],
      "metadata": {
        "id": "L1DRUpBE0zqT",
        "colab": {
          "base_uri": "https://localhost:8080/"
        },
        "outputId": "9291a730-3fbd-431b-f8d4-8f9c264c3801"
      },
      "execution_count": null,
      "outputs": [
        {
          "output_type": "stream",
          "name": "stdout",
          "text": [
            "User-user similarity matrix berhasil dihitung.\n"
          ]
        }
      ]
    },
    {
      "cell_type": "markdown",
      "source": [
        "Kode diatas membuat matriks user-item dari rating, lalu hitung kemiripan antar user dengan cosine similarity. Hasilnya matriks kemiripan user untuk rekomendasi berbasis user.\n"
      ],
      "metadata": {
        "id": "JG2oYsXCWJfE"
      }
    },
    {
      "cell_type": "code",
      "source": [
        "# Fungsi Rekomendasi Berdasarankan User-Based\n",
        "def user_cf_recommendation(target_user_id, similarity_df, ratings_df, metadata_df, top_n=5):\n",
        "    if target_user_id not in similarity_df.index:\n",
        "        raise ValueError(f\"User ID '{target_user_id}' tidak ditemukan dalam similarity matrix.\")\n",
        "\n",
        "    # Ambil skor similarity user target ke user lain\n",
        "    sim_scores = similarity_df.loc[target_user_id]\n",
        "\n",
        "    # Ambil user-user yang paling mirip (kecuali dirinya sendiri)\n",
        "    similar_users = sim_scores.drop(target_user_id).sort_values(ascending=False).head(5).index\n",
        "\n",
        "    # Ambil semua rating dari user-user yang mirip\n",
        "    similar_users_ratings = ratings_df[ratings_df['user_id'].isin(similar_users)]\n",
        "\n",
        "    # Hilangkan item yang sudah dirating oleh target user\n",
        "    rated_items = ratings_df[ratings_df['user_id'] == target_user_id]['cellphone_id'].unique()\n",
        "    unrated_by_target = similar_users_ratings[~similar_users_ratings['cellphone_id'].isin(rated_items)]\n",
        "\n",
        "    # Hitung skor rata-rata rating item dari user yang mirip\n",
        "    recommended = (\n",
        "        unrated_by_target\n",
        "        .groupby('cellphone_id')['rating']\n",
        "        .mean()\n",
        "        .sort_values(ascending=False)\n",
        "        .head(top_n)\n",
        "    )\n",
        "\n",
        "    # Gabungkan dengan metadata\n",
        "    result = metadata_df[metadata_df['cellphone_id'].isin(recommended.index)].copy()\n",
        "    result['predicted_rating'] = result['cellphone_id'].map(recommended)\n",
        "\n",
        "    return result.sort_values(by='predicted_rating', ascending=False).reset_index(drop=True)"
      ],
      "metadata": {
        "id": "fJnbhtjal5ep"
      },
      "execution_count": null,
      "outputs": []
    },
    {
      "cell_type": "code",
      "source": [
        "# Inference\n",
        "target_user = 10\n",
        "recommendations_user = user_cf_recommendation(target_user, user_sim_df, ratings, final_df, top_n=5)\n",
        "\n",
        "print(f\"Rekomendasi berdasarkan User-Based CF untuk user_id {target_user}:\")\n",
        "print(recommendations_user)"
      ],
      "metadata": {
        "colab": {
          "base_uri": "https://localhost:8080/"
        },
        "id": "FYLlyHW9GDwy",
        "outputId": "da35abe0-2be5-4285-eabf-5e675e772d46"
      },
      "execution_count": null,
      "outputs": [
        {
          "output_type": "stream",
          "name": "stdout",
          "text": [
            "Rekomendasi berdasarkan User-Based CF untuk user_id 10:\n",
            "   cellphone_id    brand             model operating_system  predicted_rating\n",
            "0            17   Google      Pixel 6 Pro           Android              10.0\n",
            "1             0    Apple  iPhone SE (2022)              iOS               8.0\n",
            "2             8  Samsung        Galaxy A32          Android               7.5\n",
            "3            24   Xiaomi     Redmi Note 11          Android               7.5\n",
            "4             2    Apple         iPhone 13              iOS               7.0\n"
          ]
        }
      ]
    },
    {
      "cell_type": "markdown",
      "source": [
        "Output menampilkan daftar 5 ponsel yang direkomendasikan untuk user dengan `user_id` 10 berdasarkan preferensi pengguna lain yang mirip dengannya. Kolom `predicted_rating` menunjukkan rata-rata skor rating yang diperkirakan dari pengguna serupa, menandakan seberapa cocok ponsel tersebut untuk user target.\n",
        "\n",
        "Misalnya, ponsel \"Pixel 6 Pro\" dari Google memiliki skor tertinggi 10.0, jadi direkomendasikan paling utama untuk user ini.\n"
      ],
      "metadata": {
        "id": "Cs0UtFntWfvG"
      }
    },
    {
      "cell_type": "markdown",
      "source": [
        "# Evaluation"
      ],
      "metadata": {
        "id": "iYc7BSJ40-2C"
      }
    },
    {
      "cell_type": "markdown",
      "source": [
        "2. CF Evaluation"
      ],
      "metadata": {
        "id": "kkOHeE3jiZ9g"
      }
    },
    {
      "cell_type": "code",
      "source": [
        "def precision_at_k(recommended_items, relevant_items, k=5):\n",
        "\n",
        "    recommended_k = recommended_items[:k]\n",
        "    relevant_set = set(relevant_items)\n",
        "    hits = sum([1 for item in recommended_k if item in relevant_set])\n",
        "    return hits / k"
      ],
      "metadata": {
        "id": "JEM0_lijUls2"
      },
      "execution_count": null,
      "outputs": []
    },
    {
      "cell_type": "markdown",
      "source": [
        "Fungsi ini menghitung **Precision\\@K**, yaitu seberapa banyak dari *top K* item rekomendasi yang benar-benar relevan. Nilai Precision\\@K berkisar antara 0 sampai 1, semakin tinggi berarti rekomendasi semakin tepat.\n"
      ],
      "metadata": {
        "id": "v_eOraFLW3yz"
      }
    },
    {
      "cell_type": "code",
      "source": [
        "def recall_at_k(recommended_items, relevant_items, k=5):\n",
        "\n",
        "    recommended_k = recommended_items[:k]\n",
        "    relevant_set = set(relevant_items)\n",
        "    if len(relevant_set) == 0:\n",
        "        return 0.0\n",
        "    hits = sum([1 for item in recommended_k if item in relevant_set])\n",
        "    return hits / len(relevant_set)"
      ],
      "metadata": {
        "id": "-yadCJ-DU5dZ"
      },
      "execution_count": null,
      "outputs": []
    },
    {
      "cell_type": "markdown",
      "source": [
        "Fungsi ini menghitung **Recall\\@K**, yaitu proporsi item relevan yang berhasil ditemukan dalam *top K* item rekomendasi dari semua item relevan yang ada. Nilai Recall\\@K antara 0 sampai 1, semakin tinggi berarti sistem rekomendasi semakin lengkap menangkap item relevan. Jika tidak ada item relevan, hasilnya 0.0."
      ],
      "metadata": {
        "id": "b5mCKkjBW9oD"
      }
    },
    {
      "cell_type": "code",
      "source": [
        "# Evaluasi User-Based CF\n",
        "test_users = test_ratings['user_id'].unique()\n",
        "results_cf = []\n",
        "top_n = 5\n",
        "\n",
        "for user in test_users:\n",
        "    # Item yang user rating di test set (ground truth relevan)\n",
        "    relevant_items = test_ratings[test_ratings['user_id'] == user]['cellphone_id'].unique().tolist()\n",
        "\n",
        "    if len(relevant_items) == 0:\n",
        "        continue\n",
        "\n",
        "    try:\n",
        "        recommended_cf_df = user_cf_recommendation(user, user_sim_df, train_ratings, final_df, top_n)\n",
        "        recommended_cf = recommended_cf_df['cellphone_id'].tolist()\n",
        "    except Exception:\n",
        "        recommended_cf = []\n",
        "\n",
        "    prec_cf = precision_at_k(recommended_cf, relevant_items, top_n)\n",
        "    rec_cf = recall_at_k(recommended_cf, relevant_items, top_n)\n",
        "\n",
        "    results_cf.append({\n",
        "        'user_id': user,\n",
        "        'precision_cf': prec_cf,\n",
        "        'recall_cf': rec_cf\n",
        "    })\n",
        "\n",
        "eval_cf_df = pd.DataFrame(results_cf)\n",
        "print(\"Hasil Evaluasi User-Based CF per user:\")\n",
        "print(eval_cf_df.head())\n",
        "\n",
        "print(\"\\nRata-rata Precision@5 untuk CF:\")\n",
        "print(eval_cf_df['precision_cf'].mean())\n",
        "\n",
        "print(\"\\nRata-rata Recall@5 untuk CF:\")\n",
        "print(eval_cf_df['recall_cf'].mean())"
      ],
      "metadata": {
        "id": "PpskF307TPAi",
        "colab": {
          "base_uri": "https://localhost:8080/"
        },
        "outputId": "fc2e97f4-2607-44d2-d095-6b4ab9edfa45"
      },
      "execution_count": null,
      "outputs": [
        {
          "output_type": "stream",
          "name": "stdout",
          "text": [
            "Hasil Evaluasi User-Based CF per user:\n",
            "   user_id  precision_cf  recall_cf\n",
            "0       53           0.2   0.333333\n",
            "1      100           0.0   0.000000\n",
            "2      129           0.2   0.333333\n",
            "3       95           0.4   1.000000\n",
            "4       25           0.0   0.000000\n",
            "\n",
            "Rata-rata Precision@5 untuk CF:\n",
            "0.17500000000000002\n",
            "\n",
            "Rata-rata Recall@5 untuk CF:\n",
            "0.4316287878787879\n"
          ]
        }
      ]
    },
    {
      "cell_type": "markdown",
      "source": [
        "* **Tabel hasil evaluasi per user** menampilkan nilai Precision\\@5 dan Recall\\@5 untuk beberapa user contoh.\n",
        "\n",
        "  * *Precision\\@5* menunjukkan proporsi rekomendasi yang benar-benar relevan di antara 5 item teratas yang direkomendasikan untuk tiap user.\n",
        "  * *Recall\\@5* menunjukkan proporsi item relevan yang berhasil ditemukan dalam 5 rekomendasi.\n",
        "\n",
        "* **Rata-rata Precision\\@5 sekitar 0.175** berarti sekitar 17.5% dari rekomendasi top 5 secara keseluruhan memang relevan untuk pengguna. Ini menunjukkan ada ruang perbaikan supaya rekomendasi lebih tepat sasaran.\n",
        "\n",
        "* **Rata-rata Recall\\@5 sekitar 0.43** berarti sistem berhasil menangkap sekitar 43% dari semua item relevan pengguna di dalam 5 rekomendasi teratas. Ini cukup baik untuk cakupan rekomendasi, tapi bisa ditingkatkan lagi agar lebih banyak item relevan masuk rekomendasi.\n",
        "\n",
        "Secara keseluruhan, evaluasi ini memberikan gambaran performa sistem User-Based CF dalam merekomendasikan produk yang sesuai dengan preferensi pengguna berdasarkan rating historis."
      ],
      "metadata": {
        "id": "hOvjpJVsXGhB"
      }
    },
    {
      "cell_type": "code",
      "source": [
        "# Tentukan 1 user_id dari test set\n",
        "sample_user_id = 1\n",
        "\n",
        "# Ambil item yang relevan (yang dirating oleh user ini di test set)\n",
        "relevant_items = test_ratings[test_ratings['user_id'] == sample_user_id]['cellphone_id'].unique().tolist()\n",
        "\n",
        "# Skip jika user tidak punya data di test\n",
        "if len(relevant_items) == 0:\n",
        "    print(f\"Tidak ada data test untuk user_id {sample_user_id}.\")\n",
        "else:\n",
        "    # Ambil 5 rekomendasi teratas dari model User-Based CF\n",
        "    try:\n",
        "        recommended_cf_df = user_cf_recommendation(sample_user_id, user_sim_df, train_ratings, final_df, top_n=5)\n",
        "        recommended_cf = recommended_cf_df['cellphone_id'].tolist()\n",
        "    except Exception as e:\n",
        "        print(f\"Terjadi error saat rekomendasi untuk user_id {sample_user_id}: {e}\")\n",
        "        recommended_cf = []\n",
        "        recommended_cf_df = pd.DataFrame()\n",
        "\n",
        "    # Hitung Precision@5 dan Recall@5\n",
        "    precision = precision_at_k(recommended_cf, relevant_items, k=5)\n",
        "    recall = recall_at_k(recommended_cf, relevant_items, k=5)\n",
        "\n",
        "    # Tampilkan hasil evaluasi\n",
        "    print(f\"Hasil Evaluasi untuk user_id {sample_user_id}:\")\n",
        "    print(f\"  Relevant Items (ground truth): {relevant_items}\")\n",
        "    print(f\"  Recommended Items: {recommended_cf}\")\n",
        "    print(f\"  Precision@5: {precision:.2f}\")\n",
        "    print(f\"  Recall@5: {recall:.2f}\\n\")\n",
        "\n",
        "    # Tampilkan metadata rekomendasi\n",
        "    print(f\"Detail Rekomendasi untuk user_id {sample_user_id}:\")\n",
        "    print(recommended_cf_df[['model', 'brand', 'predicted_rating']])"
      ],
      "metadata": {
        "id": "LP5Ohf4xVqyw",
        "colab": {
          "base_uri": "https://localhost:8080/"
        },
        "outputId": "dc64dbcf-7dc1-4939-c004-b91eeefb2963"
      },
      "execution_count": null,
      "outputs": [
        {
          "output_type": "stream",
          "name": "stdout",
          "text": [
            "Hasil Evaluasi untuk user_id 1:\n",
            "  Relevant Items (ground truth): [7]\n",
            "  Recommended Items: [7, 23, 25, 0, 2]\n",
            "  Precision@5: 0.20\n",
            "  Recall@5: 1.00\n",
            "\n",
            "Detail Rekomendasi untuk user_id 1:\n",
            "              model    brand  predicted_rating\n",
            "0        Galaxy A13  Samsung               9.0\n",
            "1           X80 Pro     Vivo               8.0\n",
            "2           11T Pro   Xiaomi               8.0\n",
            "3  iPhone SE (2022)    Apple               8.0\n",
            "4         iPhone 13    Apple               7.0\n"
          ]
        }
      ]
    },
    {
      "cell_type": "markdown",
      "source": [
        "Kode di atas berfungsi untuk **mengevaluasi performa sistem rekomendasi User-Based Collaborative Filtering (CF)** dengan menghitung metrik **Precision\\@5** dan **Recall\\@5** untuk seorang user (`user_id = 1`).\n",
        "\n",
        "Hasil evaluasi menunjukkan bahwa:\n",
        "\n",
        "* Sistem berhasil merekomendasikan **1 item yang relevan dari 5 rekomendasi** (Precision\\@5 = 0.20).\n",
        "* **Seluruh item relevan berhasil ditemukan** dalam rekomendasi (Recall\\@5 = 1.00).\n",
        "\n",
        "Ini menunjukkan bahwa sistem cukup baik dalam **menjangkau preferensi user**, namun perlu ditingkatkan untuk **mengurangi item yang tidak relevan** dalam daftar rekomendasi."
      ],
      "metadata": {
        "id": "_8CJyC6qZZkd"
      }
    },
    {
      "cell_type": "markdown",
      "source": [
        "# Summary and Insights"
      ],
      "metadata": {
        "id": "ztRuA31y1U4v"
      }
    },
    {
      "cell_type": "markdown",
      "source": [
        "Berikut adalah **Summary and Insights** yang mencakup kedua metode — **Content-Based Filtering (CBF)** dan **Collaborative Filtering (CF)** — serta hasil evaluasinya secara ringkas dan relevan dengan proyek sistem rekomendasi smartphone:\n",
        "\n",
        "---\n",
        "\n",
        "### **Summary and Insights**\n",
        "\n",
        "**Content-Based Filtering (CBF):**\n",
        "CBF merekomendasikan smartphone berdasarkan kemiripan atribut konten, seperti model, merek, dan fitur-fitur lainnya. Model ini mampu memberikan rekomendasi yang personal karena mempertimbangkan item yang sebelumnya disukai oleh pengguna.\n",
        "\n",
        "* Pada evaluasi, model CBF mencapai **Precision\\@3 sebesar 0.67**, yang berarti sebagian besar dari 3 item teratas yang direkomendasikan adalah relevan bagi pengguna.\n",
        "* CBF cocok digunakan saat informasi pengguna masih terbatas (cold start) karena hanya bergantung pada data item.\n",
        "\n",
        "**User-Based Collaborative Filtering (CF):**\n",
        "Model CF merekomendasikan item berdasarkan preferensi pengguna lain yang memiliki kemiripan pola rating. Model ini unggul dalam menangkap minat kolektif dan mampu merekomendasikan item baru yang belum pernah dinilai pengguna.\n",
        "\n",
        "* Dari evaluasi terhadap beberapa pengguna, **Precision\\@5 rata-rata sebesar 0.175** dan **Recall\\@5 sebesar 0.43**.\n",
        "* Untuk contoh pengguna `user_id = 1`, model berhasil memberikan rekomendasi dengan **Precision\\@5 = 0.20** dan **Recall\\@5 = 1.00**, yang berarti seluruh item relevan berhasil direkomendasikan.\n",
        "\n",
        "**Insights:**\n",
        "\n",
        "* **CBF unggul dalam ketepatan rekomendasi (precision tinggi)** untuk item yang mirip dengan yang pernah disukai pengguna.\n",
        "* **CF unggul dalam jangkauan rekomendasi (recall tinggi)** dan mampu menemukan item baru yang belum pernah dilihat pengguna.\n",
        "* **Kedua metode saling melengkapi**: CBF cocok untuk personalisasi, sementara CF memanfaatkan informasi dari komunitas pengguna.\n",
        "* Evaluasi selanjutnya disarankan menggunakan metrik tambahan seperti **F1-Score**, **MAE**, atau **RMSE** agar performa model dapat dibandingkan secara lebih komprehensif.\n",
        "* **Hybrid approach** dapat dipertimbangkan untuk meningkatkan kualitas rekomendasi dengan menggabungkan kelebihan CBF dan CF.\n"
      ],
      "metadata": {
        "id": "8KQ27khCiJpK"
      }
    }
  ]
}